{
 "cells": [
  {
   "cell_type": "code",
   "execution_count": 1,
   "id": "5f798c04",
   "metadata": {
    "_cell_guid": "b1076dfc-b9ad-4769-8c92-a6c4dae69d19",
    "_uuid": "8f2839f25d086af736a60e9eeb907d3b93b6e0e5",
    "execution": {
     "iopub.execute_input": "2022-06-28T14:15:45.105048Z",
     "iopub.status.busy": "2022-06-28T14:15:45.104416Z",
     "iopub.status.idle": "2022-06-28T14:15:45.130857Z",
     "shell.execute_reply": "2022-06-28T14:15:45.129452Z"
    },
    "papermill": {
     "duration": 0.038426,
     "end_time": "2022-06-28T14:15:45.133707",
     "exception": false,
     "start_time": "2022-06-28T14:15:45.095281",
     "status": "completed"
    },
    "tags": []
   },
   "outputs": [
    {
     "name": "stdout",
     "output_type": "stream",
     "text": [
      "/kaggle/input/titanic-machine-learning-from-disaster/train.csv\n",
      "/kaggle/input/titanic-machine-learning-from-disaster/test.csv\n",
      "/kaggle/input/data-test-and-train/House Price Regression Tecnique/sample_submission.csv\n",
      "/kaggle/input/data-test-and-train/House Price Regression Tecnique/data_description.txt\n",
      "/kaggle/input/data-test-and-train/House Price Regression Tecnique/train.csv\n",
      "/kaggle/input/data-test-and-train/House Price Regression Tecnique/Project On House Price data .ipynb\n",
      "/kaggle/input/data-test-and-train/House Price Regression Tecnique/test.csv\n"
     ]
    }
   ],
   "source": [
    "# This Python 3 environment comes with many helpful analytics libraries installed\n",
    "# It is defined by the kaggle/python Docker image: https://github.com/kaggle/docker-python\n",
    "# For example, here's several helpful packages to load\n",
    "\n",
    "import numpy as np # linear algebra\n",
    "import pandas as pd # data processing, CSV file I/O (e.g. pd.read_csv)\n",
    "\n",
    "# Input data files are available in the read-only \"../input/\" directory\n",
    "# For example, running this (by clicking run or pressing Shift+Enter) will list all files under the input directory\n",
    "\n",
    "import os\n",
    "for dirname, _, filenames in os.walk('/kaggle/input'):\n",
    "    for filename in filenames:\n",
    "        print(os.path.join(dirname, filename))\n",
    "\n",
    "# You can write up to 20GB to the current directory (/kaggle/working/) that gets preserved as output when you create a version using \"Save & Run All\" \n",
    "# You can also write temporary files to /kaggle/temp/, but they won't be saved outside of the current session"
   ]
  },
  {
   "cell_type": "code",
   "execution_count": 2,
   "id": "654975fa",
   "metadata": {
    "execution": {
     "iopub.execute_input": "2022-06-28T14:15:45.149281Z",
     "iopub.status.busy": "2022-06-28T14:15:45.148266Z",
     "iopub.status.idle": "2022-06-28T14:15:45.153379Z",
     "shell.execute_reply": "2022-06-28T14:15:45.152407Z"
    },
    "papermill": {
     "duration": 0.015211,
     "end_time": "2022-06-28T14:15:45.155711",
     "exception": false,
     "start_time": "2022-06-28T14:15:45.140500",
     "status": "completed"
    },
    "tags": []
   },
   "outputs": [],
   "source": [
    "# arbitrary value imputation\n",
    "# it consists of replacing nan by an arbitrary value\n",
    "# this technique was derived by kaggle competition"
   ]
  },
  {
   "cell_type": "markdown",
   "id": "6f65bd7d",
   "metadata": {
    "papermill": {
     "duration": 0.005729,
     "end_time": "2022-06-28T14:15:45.167405",
     "exception": false,
     "start_time": "2022-06-28T14:15:45.161676",
     "status": "completed"
    },
    "tags": []
   },
   "source": [
    "# 5.arbitrary value imputation"
   ]
  },
  {
   "cell_type": "code",
   "execution_count": 3,
   "id": "353db232",
   "metadata": {
    "execution": {
     "iopub.execute_input": "2022-06-28T14:15:45.181736Z",
     "iopub.status.busy": "2022-06-28T14:15:45.180924Z",
     "iopub.status.idle": "2022-06-28T14:15:45.218297Z",
     "shell.execute_reply": "2022-06-28T14:15:45.217069Z"
    },
    "papermill": {
     "duration": 0.047698,
     "end_time": "2022-06-28T14:15:45.221053",
     "exception": false,
     "start_time": "2022-06-28T14:15:45.173355",
     "status": "completed"
    },
    "tags": []
   },
   "outputs": [
    {
     "data": {
      "text/html": [
       "<div>\n",
       "<style scoped>\n",
       "    .dataframe tbody tr th:only-of-type {\n",
       "        vertical-align: middle;\n",
       "    }\n",
       "\n",
       "    .dataframe tbody tr th {\n",
       "        vertical-align: top;\n",
       "    }\n",
       "\n",
       "    .dataframe thead th {\n",
       "        text-align: right;\n",
       "    }\n",
       "</style>\n",
       "<table border=\"1\" class=\"dataframe\">\n",
       "  <thead>\n",
       "    <tr style=\"text-align: right;\">\n",
       "      <th></th>\n",
       "      <th>Survived</th>\n",
       "      <th>Age</th>\n",
       "      <th>Fare</th>\n",
       "    </tr>\n",
       "  </thead>\n",
       "  <tbody>\n",
       "    <tr>\n",
       "      <th>0</th>\n",
       "      <td>0</td>\n",
       "      <td>22.0</td>\n",
       "      <td>7.2500</td>\n",
       "    </tr>\n",
       "    <tr>\n",
       "      <th>1</th>\n",
       "      <td>1</td>\n",
       "      <td>38.0</td>\n",
       "      <td>71.2833</td>\n",
       "    </tr>\n",
       "    <tr>\n",
       "      <th>2</th>\n",
       "      <td>1</td>\n",
       "      <td>26.0</td>\n",
       "      <td>7.9250</td>\n",
       "    </tr>\n",
       "    <tr>\n",
       "      <th>3</th>\n",
       "      <td>1</td>\n",
       "      <td>35.0</td>\n",
       "      <td>53.1000</td>\n",
       "    </tr>\n",
       "    <tr>\n",
       "      <th>4</th>\n",
       "      <td>0</td>\n",
       "      <td>35.0</td>\n",
       "      <td>8.0500</td>\n",
       "    </tr>\n",
       "  </tbody>\n",
       "</table>\n",
       "</div>"
      ],
      "text/plain": [
       "   Survived   Age     Fare\n",
       "0         0  22.0   7.2500\n",
       "1         1  38.0  71.2833\n",
       "2         1  26.0   7.9250\n",
       "3         1  35.0  53.1000\n",
       "4         0  35.0   8.0500"
      ]
     },
     "execution_count": 3,
     "metadata": {},
     "output_type": "execute_result"
    }
   ],
   "source": [
    "df=pd.read_csv('../input/titanic-machine-learning-from-disaster/train.csv',usecols=[\"Age\",\"Fare\",\"Survived\"])\n",
    "df.head()"
   ]
  },
  {
   "cell_type": "code",
   "execution_count": 4,
   "id": "7de20e0b",
   "metadata": {
    "execution": {
     "iopub.execute_input": "2022-06-28T14:15:45.235855Z",
     "iopub.status.busy": "2022-06-28T14:15:45.235182Z",
     "iopub.status.idle": "2022-06-28T14:15:46.426466Z",
     "shell.execute_reply": "2022-06-28T14:15:46.425126Z"
    },
    "papermill": {
     "duration": 1.201694,
     "end_time": "2022-06-28T14:15:46.429029",
     "exception": false,
     "start_time": "2022-06-28T14:15:45.227335",
     "status": "completed"
    },
    "tags": []
   },
   "outputs": [],
   "source": [
    "import seaborn as sns \n",
    "import matplotlib.pyplot as plt\n",
    "%matplotlib inline "
   ]
  },
  {
   "cell_type": "code",
   "execution_count": 5,
   "id": "f50a3d85",
   "metadata": {
    "execution": {
     "iopub.execute_input": "2022-06-28T14:15:46.444429Z",
     "iopub.status.busy": "2022-06-28T14:15:46.444005Z",
     "iopub.status.idle": "2022-06-28T14:15:46.449894Z",
     "shell.execute_reply": "2022-06-28T14:15:46.448622Z"
    },
    "papermill": {
     "duration": 0.016588,
     "end_time": "2022-06-28T14:15:46.452222",
     "exception": false,
     "start_time": "2022-06-28T14:15:46.435634",
     "status": "completed"
    },
    "tags": []
   },
   "outputs": [],
   "source": [
    "# low outlier value and high outlier value \n",
    "def impute_nan(df,variable):\n",
    "    df[variable+'_hundred']=df[variable].fillna(100)\n",
    "    df[variable+'_Zero']=df[variable].fillna(0)"
   ]
  },
  {
   "cell_type": "code",
   "execution_count": 6,
   "id": "920879f6",
   "metadata": {
    "execution": {
     "iopub.execute_input": "2022-06-28T14:15:46.467318Z",
     "iopub.status.busy": "2022-06-28T14:15:46.466674Z",
     "iopub.status.idle": "2022-06-28T14:15:46.787612Z",
     "shell.execute_reply": "2022-06-28T14:15:46.786513Z"
    },
    "papermill": {
     "duration": 0.331255,
     "end_time": "2022-06-28T14:15:46.790100",
     "exception": false,
     "start_time": "2022-06-28T14:15:46.458845",
     "status": "completed"
    },
    "tags": []
   },
   "outputs": [
    {
     "data": {
      "text/plain": [
       "<AxesSubplot:>"
      ]
     },
     "execution_count": 6,
     "metadata": {},
     "output_type": "execute_result"
    },
    {
     "data": {
      "image/png": "[encoded data removed]",
      "text/plain": [
       "<Figure size 432x288 with 1 Axes>"
      ]
     },
     "metadata": {
      "needs_background": "light"
     },
     "output_type": "display_data"
    }
   ],
   "source": [
    "df[\"Age\"].hist(bins=50)"
   ]
  },
  {
   "cell_type": "code",
   "execution_count": 7,
   "id": "434d3740",
   "metadata": {
    "execution": {
     "iopub.execute_input": "2022-06-28T14:15:46.806167Z",
     "iopub.status.busy": "2022-06-28T14:15:46.804827Z",
     "iopub.status.idle": "2022-06-28T14:15:46.810148Z",
     "shell.execute_reply": "2022-06-28T14:15:46.809122Z"
    },
    "papermill": {
     "duration": 0.015695,
     "end_time": "2022-06-28T14:15:46.812636",
     "exception": false,
     "start_time": "2022-06-28T14:15:46.796941",
     "status": "completed"
    },
    "tags": []
   },
   "outputs": [],
   "source": [
    "# arbitrary values\n",
    "# it should be more frequently present "
   ]
  },
  {
   "cell_type": "markdown",
   "id": "c1c01584",
   "metadata": {
    "papermill": {
     "duration": 0.006387,
     "end_time": "2022-06-28T14:15:46.825748",
     "exception": false,
     "start_time": "2022-06-28T14:15:46.819361",
     "status": "completed"
    },
    "tags": []
   },
   "source": [
    "# CAREGORICAL COMPUTATION"
   ]
  },
  {
   "cell_type": "code",
   "execution_count": 8,
   "id": "454a65b0",
   "metadata": {
    "execution": {
     "iopub.execute_input": "2022-06-28T14:15:46.841320Z",
     "iopub.status.busy": "2022-06-28T14:15:46.840544Z",
     "iopub.status.idle": "2022-06-28T14:15:46.880580Z",
     "shell.execute_reply": "2022-06-28T14:15:46.879322Z"
    },
    "papermill": {
     "duration": 0.050647,
     "end_time": "2022-06-28T14:15:46.883055",
     "exception": false,
     "start_time": "2022-06-28T14:15:46.832408",
     "status": "completed"
    },
    "tags": []
   },
   "outputs": [
    {
     "data": {
      "text/html": [
       "<div>\n",
       "<style scoped>\n",
       "    .dataframe tbody tr th:only-of-type {\n",
       "        vertical-align: middle;\n",
       "    }\n",
       "\n",
       "    .dataframe tbody tr th {\n",
       "        vertical-align: top;\n",
       "    }\n",
       "\n",
       "    .dataframe thead th {\n",
       "        text-align: right;\n",
       "    }\n",
       "</style>\n",
       "<table border=\"1\" class=\"dataframe\">\n",
       "  <thead>\n",
       "    <tr style=\"text-align: right;\">\n",
       "      <th></th>\n",
       "      <th>BsmtQual</th>\n",
       "      <th>FireplaceQu</th>\n",
       "      <th>GarageType</th>\n",
       "      <th>SalePrice</th>\n",
       "    </tr>\n",
       "  </thead>\n",
       "  <tbody>\n",
       "    <tr>\n",
       "      <th>0</th>\n",
       "      <td>Gd</td>\n",
       "      <td>NaN</td>\n",
       "      <td>Attchd</td>\n",
       "      <td>208500</td>\n",
       "    </tr>\n",
       "    <tr>\n",
       "      <th>1</th>\n",
       "      <td>Gd</td>\n",
       "      <td>TA</td>\n",
       "      <td>Attchd</td>\n",
       "      <td>181500</td>\n",
       "    </tr>\n",
       "    <tr>\n",
       "      <th>2</th>\n",
       "      <td>Gd</td>\n",
       "      <td>TA</td>\n",
       "      <td>Attchd</td>\n",
       "      <td>223500</td>\n",
       "    </tr>\n",
       "    <tr>\n",
       "      <th>3</th>\n",
       "      <td>TA</td>\n",
       "      <td>Gd</td>\n",
       "      <td>Detchd</td>\n",
       "      <td>140000</td>\n",
       "    </tr>\n",
       "    <tr>\n",
       "      <th>4</th>\n",
       "      <td>Gd</td>\n",
       "      <td>TA</td>\n",
       "      <td>Attchd</td>\n",
       "      <td>250000</td>\n",
       "    </tr>\n",
       "    <tr>\n",
       "      <th>...</th>\n",
       "      <td>...</td>\n",
       "      <td>...</td>\n",
       "      <td>...</td>\n",
       "      <td>...</td>\n",
       "    </tr>\n",
       "    <tr>\n",
       "      <th>1455</th>\n",
       "      <td>Gd</td>\n",
       "      <td>TA</td>\n",
       "      <td>Attchd</td>\n",
       "      <td>175000</td>\n",
       "    </tr>\n",
       "    <tr>\n",
       "      <th>1456</th>\n",
       "      <td>Gd</td>\n",
       "      <td>TA</td>\n",
       "      <td>Attchd</td>\n",
       "      <td>210000</td>\n",
       "    </tr>\n",
       "    <tr>\n",
       "      <th>1457</th>\n",
       "      <td>TA</td>\n",
       "      <td>Gd</td>\n",
       "      <td>Attchd</td>\n",
       "      <td>266500</td>\n",
       "    </tr>\n",
       "    <tr>\n",
       "      <th>1458</th>\n",
       "      <td>TA</td>\n",
       "      <td>NaN</td>\n",
       "      <td>Attchd</td>\n",
       "      <td>142125</td>\n",
       "    </tr>\n",
       "    <tr>\n",
       "      <th>1459</th>\n",
       "      <td>TA</td>\n",
       "      <td>NaN</td>\n",
       "      <td>Attchd</td>\n",
       "      <td>147500</td>\n",
       "    </tr>\n",
       "  </tbody>\n",
       "</table>\n",
       "<p>1460 rows × 4 columns</p>\n",
       "</div>"
      ],
      "text/plain": [
       "     BsmtQual FireplaceQu GarageType  SalePrice\n",
       "0          Gd         NaN     Attchd     208500\n",
       "1          Gd          TA     Attchd     181500\n",
       "2          Gd          TA     Attchd     223500\n",
       "3          TA          Gd     Detchd     140000\n",
       "4          Gd          TA     Attchd     250000\n",
       "...       ...         ...        ...        ...\n",
       "1455       Gd          TA     Attchd     175000\n",
       "1456       Gd          TA     Attchd     210000\n",
       "1457       TA          Gd     Attchd     266500\n",
       "1458       TA         NaN     Attchd     142125\n",
       "1459       TA         NaN     Attchd     147500\n",
       "\n",
       "[1460 rows x 4 columns]"
      ]
     },
     "execution_count": 8,
     "metadata": {},
     "output_type": "execute_result"
    }
   ],
   "source": [
    "# 1.frequent category imputation\n",
    "df1=pd.read_csv('../input/data-test-and-train/House Price Regression Tecnique/train.csv',usecols=['BsmtQual','FireplaceQu','GarageType','SalePrice'])\n",
    "df1"
   ]
  },
  {
   "cell_type": "code",
   "execution_count": 9,
   "id": "fbf21a0c",
   "metadata": {
    "execution": {
     "iopub.execute_input": "2022-06-28T14:15:46.898843Z",
     "iopub.status.busy": "2022-06-28T14:15:46.898431Z",
     "iopub.status.idle": "2022-06-28T14:15:46.908520Z",
     "shell.execute_reply": "2022-06-28T14:15:46.907369Z"
    },
    "papermill": {
     "duration": 0.020699,
     "end_time": "2022-06-28T14:15:46.910785",
     "exception": false,
     "start_time": "2022-06-28T14:15:46.890086",
     "status": "completed"
    },
    "tags": []
   },
   "outputs": [
    {
     "data": {
      "text/plain": [
       "BsmtQual        37\n",
       "FireplaceQu    690\n",
       "GarageType      81\n",
       "SalePrice        0\n",
       "dtype: int64"
      ]
     },
     "execution_count": 9,
     "metadata": {},
     "output_type": "execute_result"
    }
   ],
   "source": [
    "df1.isnull().sum()"
   ]
  },
  {
   "cell_type": "code",
   "execution_count": 10,
   "id": "51b0de5a",
   "metadata": {
    "execution": {
     "iopub.execute_input": "2022-06-28T14:15:46.927081Z",
     "iopub.status.busy": "2022-06-28T14:15:46.926324Z",
     "iopub.status.idle": "2022-06-28T14:15:46.936654Z",
     "shell.execute_reply": "2022-06-28T14:15:46.935698Z"
    },
    "papermill": {
     "duration": 0.021177,
     "end_time": "2022-06-28T14:15:46.939005",
     "exception": false,
     "start_time": "2022-06-28T14:15:46.917828",
     "status": "completed"
    },
    "tags": []
   },
   "outputs": [
    {
     "data": {
      "text/plain": [
       "SalePrice      0.000000\n",
       "BsmtQual       0.025342\n",
       "GarageType     0.055479\n",
       "FireplaceQu    0.472603\n",
       "dtype: float64"
      ]
     },
     "execution_count": 10,
     "metadata": {},
     "output_type": "execute_result"
    }
   ],
   "source": [
    "df1.isnull().mean().sort_values(ascending=True)"
   ]
  },
  {
   "cell_type": "code",
   "execution_count": 11,
   "id": "1a0d11c3",
   "metadata": {
    "execution": {
     "iopub.execute_input": "2022-06-28T14:15:46.955450Z",
     "iopub.status.busy": "2022-06-28T14:15:46.954662Z",
     "iopub.status.idle": "2022-06-28T14:15:46.964440Z",
     "shell.execute_reply": "2022-06-28T14:15:46.963379Z"
    },
    "papermill": {
     "duration": 0.020636,
     "end_time": "2022-06-28T14:15:46.966820",
     "exception": false,
     "start_time": "2022-06-28T14:15:46.946184",
     "status": "completed"
    },
    "tags": []
   },
   "outputs": [
    {
     "data": {
      "text/plain": [
       "array(['Gd', 'TA', 'Ex', nan, 'Fa'], dtype=object)"
      ]
     },
     "execution_count": 11,
     "metadata": {},
     "output_type": "execute_result"
    }
   ],
   "source": [
    "df1[\"BsmtQual\"].unique()"
   ]
  },
  {
   "cell_type": "code",
   "execution_count": 12,
   "id": "3d9063c3",
   "metadata": {
    "execution": {
     "iopub.execute_input": "2022-06-28T14:15:46.983258Z",
     "iopub.status.busy": "2022-06-28T14:15:46.982805Z",
     "iopub.status.idle": "2022-06-28T14:15:47.164366Z",
     "shell.execute_reply": "2022-06-28T14:15:47.163214Z"
    },
    "papermill": {
     "duration": 0.192759,
     "end_time": "2022-06-28T14:15:47.166763",
     "exception": false,
     "start_time": "2022-06-28T14:15:46.974004",
     "status": "completed"
    },
    "tags": []
   },
   "outputs": [
    {
     "data": {
      "text/plain": [
       "<AxesSubplot:xlabel='BsmtQual'>"
      ]
     },
     "execution_count": 12,
     "metadata": {},
     "output_type": "execute_result"
    },
    {
     "data": {
      "image/png": "[encoded data removed]",
      "text/plain": [
       "<Figure size 432x288 with 1 Axes>"
      ]
     },
     "metadata": {
      "needs_background": "light"
     },
     "output_type": "display_data"
    }
   ],
   "source": [
    "# compute the frequency with every feature \n",
    "df1.groupby(['BsmtQual'])['BsmtQual'].count().sort_values(ascending=False).plot.bar()"
   ]
  },
  {
   "cell_type": "code",
   "execution_count": 13,
   "id": "2491f4a2",
   "metadata": {
    "execution": {
     "iopub.execute_input": "2022-06-28T14:15:47.184251Z",
     "iopub.status.busy": "2022-06-28T14:15:47.183651Z",
     "iopub.status.idle": "2022-06-28T14:15:47.359028Z",
     "shell.execute_reply": "2022-06-28T14:15:47.357759Z"
    },
    "papermill": {
     "duration": 0.187501,
     "end_time": "2022-06-28T14:15:47.361731",
     "exception": false,
     "start_time": "2022-06-28T14:15:47.174230",
     "status": "completed"
    },
    "tags": []
   },
   "outputs": [
    {
     "data": {
      "text/plain": [
       "<AxesSubplot:>"
      ]
     },
     "execution_count": 13,
     "metadata": {},
     "output_type": "execute_result"
    },
    {
     "data": {
      "image/png": "[encoded data removed]",
      "text/plain": [
       "<Figure size 432x288 with 1 Axes>"
      ]
     },
     "metadata": {
      "needs_background": "light"
     },
     "output_type": "display_data"
    }
   ],
   "source": [
    "df1[\"GarageType\"].value_counts().sort_values(ascending=False).plot.bar()"
   ]
  },
  {
   "cell_type": "code",
   "execution_count": 14,
   "id": "3d7c6c9a",
   "metadata": {
    "execution": {
     "iopub.execute_input": "2022-06-28T14:15:47.380261Z",
     "iopub.status.busy": "2022-06-28T14:15:47.379830Z",
     "iopub.status.idle": "2022-06-28T14:15:47.518759Z",
     "shell.execute_reply": "2022-06-28T14:15:47.517917Z"
    },
    "papermill": {
     "duration": 0.151322,
     "end_time": "2022-06-28T14:15:47.521105",
     "exception": false,
     "start_time": "2022-06-28T14:15:47.369783",
     "status": "completed"
    },
    "tags": []
   },
   "outputs": [
    {
     "data": {
      "text/plain": [
       "<AxesSubplot:>"
      ]
     },
     "execution_count": 14,
     "metadata": {},
     "output_type": "execute_result"
    },
    {
     "data": {
      "image/png": "[encoded data removed]",
      "text/plain": [
       "<Figure size 432x288 with 1 Axes>"
      ]
     },
     "metadata": {
      "needs_background": "light"
     },
     "output_type": "display_data"
    }
   ],
   "source": [
    "df1[\"FireplaceQu\"].value_counts().sort_values(ascending=False).plot.bar()"
   ]
  },
  {
   "cell_type": "code",
   "execution_count": 15,
   "id": "69f3d7e1",
   "metadata": {
    "execution": {
     "iopub.execute_input": "2022-06-28T14:15:47.540321Z",
     "iopub.status.busy": "2022-06-28T14:15:47.539260Z",
     "iopub.status.idle": "2022-06-28T14:15:47.548889Z",
     "shell.execute_reply": "2022-06-28T14:15:47.547736Z"
    },
    "papermill": {
     "duration": 0.021608,
     "end_time": "2022-06-28T14:15:47.551150",
     "exception": false,
     "start_time": "2022-06-28T14:15:47.529542",
     "status": "completed"
    },
    "tags": []
   },
   "outputs": [
    {
     "data": {
      "text/plain": [
       "Index(['Attchd', 'Detchd', 'BuiltIn', 'Basment', 'CarPort', '2Types'], dtype='object')"
      ]
     },
     "execution_count": 15,
     "metadata": {},
     "output_type": "execute_result"
    }
   ],
   "source": [
    "df1['GarageType'].value_counts().index"
   ]
  },
  {
   "cell_type": "code",
   "execution_count": 16,
   "id": "17e388ba",
   "metadata": {
    "execution": {
     "iopub.execute_input": "2022-06-28T14:15:47.571522Z",
     "iopub.status.busy": "2022-06-28T14:15:47.570686Z",
     "iopub.status.idle": "2022-06-28T14:15:47.578808Z",
     "shell.execute_reply": "2022-06-28T14:15:47.577915Z"
    },
    "papermill": {
     "duration": 0.020726,
     "end_time": "2022-06-28T14:15:47.580912",
     "exception": false,
     "start_time": "2022-06-28T14:15:47.560186",
     "status": "completed"
    },
    "tags": []
   },
   "outputs": [
    {
     "data": {
      "text/plain": [
       "'Attchd'"
      ]
     },
     "execution_count": 16,
     "metadata": {},
     "output_type": "execute_result"
    }
   ],
   "source": [
    "df1['GarageType'].value_counts().index[0]"
   ]
  },
  {
   "cell_type": "code",
   "execution_count": 17,
   "id": "59c161d2",
   "metadata": {
    "execution": {
     "iopub.execute_input": "2022-06-28T14:15:47.600219Z",
     "iopub.status.busy": "2022-06-28T14:15:47.599202Z",
     "iopub.status.idle": "2022-06-28T14:15:47.606443Z",
     "shell.execute_reply": "2022-06-28T14:15:47.605354Z"
    },
    "papermill": {
     "duration": 0.019222,
     "end_time": "2022-06-28T14:15:47.608635",
     "exception": false,
     "start_time": "2022-06-28T14:15:47.589413",
     "status": "completed"
    },
    "tags": []
   },
   "outputs": [
    {
     "data": {
      "text/plain": [
       "Index(['BsmtQual', 'FireplaceQu', 'GarageType', 'SalePrice'], dtype='object')"
      ]
     },
     "execution_count": 17,
     "metadata": {},
     "output_type": "execute_result"
    }
   ],
   "source": [
    "df1.columns"
   ]
  },
  {
   "cell_type": "code",
   "execution_count": 18,
   "id": "1214551c",
   "metadata": {
    "execution": {
     "iopub.execute_input": "2022-06-28T14:15:47.628544Z",
     "iopub.status.busy": "2022-06-28T14:15:47.627479Z",
     "iopub.status.idle": "2022-06-28T14:15:47.634387Z",
     "shell.execute_reply": "2022-06-28T14:15:47.633098Z"
    },
    "papermill": {
     "duration": 0.019697,
     "end_time": "2022-06-28T14:15:47.637172",
     "exception": false,
     "start_time": "2022-06-28T14:15:47.617475",
     "status": "completed"
    },
    "tags": []
   },
   "outputs": [],
   "source": [
    "# impute function \n",
    "def impute_nan(df1,variable):\n",
    "    most_frequent_category=df[variable].value_counts.index[0]\n",
    "    df[variable].fillna(most_frequent_category,inplace=True)"
   ]
  }
 ],
 "metadata": {
  "kernelspec": {
   "display_name": "Python 3",
   "language": "python",
   "name": "python3"
  },
  "language_info": {
   "codemirror_mode": {
    "name": "ipython",
    "version": 3
   },
   "file_extension": ".py",
   "mimetype": "text/x-python",
   "name": "python",
   "nbconvert_exporter": "python",
   "pygments_lexer": "ipython3",
   "version": "3.7.12"
  },
  "papermill": {
   "default_parameters": {},
   "duration": 13.956852,
   "end_time": "2022-06-28T14:15:48.468561",
   "environment_variables": {},
   "exception": null,
   "input_path": "__notebook__.ipynb",
   "output_path": "__notebook__.ipynb",
   "parameters": {},
   "start_time": "2022-06-28T14:15:34.511709",
   "version": "2.3.4"
  }
 },
 "nbformat": 4,
 "nbformat_minor": 5
}
