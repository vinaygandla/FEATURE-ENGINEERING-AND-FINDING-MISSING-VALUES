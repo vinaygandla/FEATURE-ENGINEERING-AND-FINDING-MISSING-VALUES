{
 "cells": [
  {
   "cell_type": "code",
   "execution_count": 1,
   "id": "66ca2a25",
   "metadata": {
    "_cell_guid": "b1076dfc-b9ad-4769-8c92-a6c4dae69d19",
    "_uuid": "8f2839f25d086af736a60e9eeb907d3b93b6e0e5",
    "execution": {
     "iopub.execute_input": "2022-06-30T15:35:04.866133Z",
     "iopub.status.busy": "2022-06-30T15:35:04.865212Z",
     "iopub.status.idle": "2022-06-30T15:35:04.886015Z",
     "shell.execute_reply": "2022-06-30T15:35:04.884599Z"
    },
    "papermill": {
     "duration": 0.028563,
     "end_time": "2022-06-30T15:35:04.888610",
     "exception": false,
     "start_time": "2022-06-30T15:35:04.860047",
     "status": "completed"
    },
    "tags": []
   },
   "outputs": [
    {
     "name": "stdout",
     "output_type": "stream",
     "text": [
      "/kaggle/input/titanic-data-set/train(1).csv\n"
     ]
    }
   ],
   "source": [
    "# This Python 3 environment comes with many helpful analytics libraries installed\n",
    "# It is defined by the kaggle/python Docker image: https://github.com/kaggle/docker-python\n",
    "# For example, here's several helpful packages to load\n",
    "\n",
    "import numpy as np # linear algebra\n",
    "import pandas as pd # data processing, CSV file I/O (e.g. pd.read_csv)\n",
    "\n",
    "# Input data files are available in the read-only \"../input/\" directory\n",
    "# For example, running this (by clicking run or pressing Shift+Enter) will list all files under the input directory\n",
    "\n",
    "import os\n",
    "for dirname, _, filenames in os.walk('/kaggle/input'):\n",
    "    for filename in filenames:\n",
    "        print(os.path.join(dirname, filename))\n",
    "\n",
    "# You can write up to 20GB to the current directory (/kaggle/working/) that gets preserved as output when you create a version using \"Save & Run All\" \n",
    "# You can also write temporary files to /kaggle/temp/, but they won't be saved outside of the current session"
   ]
  },
  {
   "cell_type": "markdown",
   "id": "c03d89ae",
   "metadata": {
    "papermill": {
     "duration": 0.002489,
     "end_time": "2022-06-30T15:35:04.894141",
     "exception": false,
     "start_time": "2022-06-30T15:35:04.891652",
     "status": "completed"
    },
    "tags": []
   },
   "source": [
    "# ORDINAL NUMBER ENCODING"
   ]
  },
  {
   "cell_type": "code",
   "execution_count": 2,
   "id": "09e33c03",
   "metadata": {
    "execution": {
     "iopub.execute_input": "2022-06-30T15:35:04.901331Z",
     "iopub.status.busy": "2022-06-30T15:35:04.900557Z",
     "iopub.status.idle": "2022-06-30T15:35:04.905851Z",
     "shell.execute_reply": "2022-06-30T15:35:04.904773Z"
    },
    "papermill": {
     "duration": 0.011228,
     "end_time": "2022-06-30T15:35:04.907992",
     "exception": false,
     "start_time": "2022-06-30T15:35:04.896764",
     "status": "completed"
    },
    "tags": []
   },
   "outputs": [],
   "source": [
    "# based on the ranks we categorise the data \n",
    "# example==grading system(a=1,b=2,c=3,d=4,e=5,f=6)\n",
    "# experience of a batsman(10y=1,5y=2,3y=3,1y=4)\n",
    "# the weekdays and weekends (m,t,w,t,f,s,s) we can give good ranks by customer information\n",
    "import datetime"
   ]
  },
  {
   "cell_type": "code",
   "execution_count": 3,
   "id": "da42b72f",
   "metadata": {
    "execution": {
     "iopub.execute_input": "2022-06-30T15:35:04.914689Z",
     "iopub.status.busy": "2022-06-30T15:35:04.914295Z",
     "iopub.status.idle": "2022-06-30T15:35:04.923441Z",
     "shell.execute_reply": "2022-06-30T15:35:04.922087Z"
    },
    "papermill": {
     "duration": 0.014913,
     "end_time": "2022-06-30T15:35:04.925494",
     "exception": false,
     "start_time": "2022-06-30T15:35:04.910581",
     "status": "completed"
    },
    "tags": []
   },
   "outputs": [
    {
     "data": {
      "text/plain": [
       "datetime.datetime(2022, 6, 30, 15, 35, 4, 915765)"
      ]
     },
     "execution_count": 3,
     "metadata": {},
     "output_type": "execute_result"
    }
   ],
   "source": [
    "today_time=datetime.datetime.today()\n",
    "today_time"
   ]
  },
  {
   "cell_type": "code",
   "execution_count": 4,
   "id": "c27849ac",
   "metadata": {
    "execution": {
     "iopub.execute_input": "2022-06-30T15:35:04.931887Z",
     "iopub.status.busy": "2022-06-30T15:35:04.931549Z",
     "iopub.status.idle": "2022-06-30T15:35:04.938582Z",
     "shell.execute_reply": "2022-06-30T15:35:04.937481Z"
    },
    "papermill": {
     "duration": 0.012628,
     "end_time": "2022-06-30T15:35:04.940701",
     "exception": false,
     "start_time": "2022-06-30T15:35:04.928073",
     "status": "completed"
    },
    "tags": []
   },
   "outputs": [
    {
     "data": {
      "text/plain": [
       "datetime.datetime(2022, 6, 29, 15, 35, 4, 915765)"
      ]
     },
     "execution_count": 4,
     "metadata": {},
     "output_type": "execute_result"
    }
   ],
   "source": [
    "today_time-datetime.timedelta(1)"
   ]
  },
  {
   "cell_type": "code",
   "execution_count": 5,
   "id": "397bd0ed",
   "metadata": {
    "execution": {
     "iopub.execute_input": "2022-06-30T15:35:04.947492Z",
     "iopub.status.busy": "2022-06-30T15:35:04.947126Z",
     "iopub.status.idle": "2022-06-30T15:35:04.956702Z",
     "shell.execute_reply": "2022-06-30T15:35:04.955874Z"
    },
    "papermill": {
     "duration": 0.01503,
     "end_time": "2022-06-30T15:35:04.958478",
     "exception": false,
     "start_time": "2022-06-30T15:35:04.943448",
     "status": "completed"
    },
    "tags": []
   },
   "outputs": [],
   "source": [
    "# last 15  days in a list\n",
    "# list comperhension\n",
    "days=[today_time-datetime.timedelta(x) for x in range(0,15)]\n",
    "data=pd.DataFrame(days)\n",
    "data.columns=['Days']"
   ]
  },
  {
   "cell_type": "code",
   "execution_count": 6,
   "id": "9ef4d1e1",
   "metadata": {
    "execution": {
     "iopub.execute_input": "2022-06-30T15:35:04.966018Z",
     "iopub.status.busy": "2022-06-30T15:35:04.965655Z",
     "iopub.status.idle": "2022-06-30T15:35:04.983144Z",
     "shell.execute_reply": "2022-06-30T15:35:04.982035Z"
    },
    "papermill": {
     "duration": 0.024243,
     "end_time": "2022-06-30T15:35:04.985583",
     "exception": false,
     "start_time": "2022-06-30T15:35:04.961340",
     "status": "completed"
    },
    "tags": []
   },
   "outputs": [
    {
     "data": {
      "text/html": [
       "<div>\n",
       "<style scoped>\n",
       "    .dataframe tbody tr th:only-of-type {\n",
       "        vertical-align: middle;\n",
       "    }\n",
       "\n",
       "    .dataframe tbody tr th {\n",
       "        vertical-align: top;\n",
       "    }\n",
       "\n",
       "    .dataframe thead th {\n",
       "        text-align: right;\n",
       "    }\n",
       "</style>\n",
       "<table border=\"1\" class=\"dataframe\">\n",
       "  <thead>\n",
       "    <tr style=\"text-align: right;\">\n",
       "      <th></th>\n",
       "      <th>Days</th>\n",
       "    </tr>\n",
       "  </thead>\n",
       "  <tbody>\n",
       "    <tr>\n",
       "      <th>0</th>\n",
       "      <td>2022-06-30 15:35:04.915765</td>\n",
       "    </tr>\n",
       "    <tr>\n",
       "      <th>1</th>\n",
       "      <td>2022-06-29 15:35:04.915765</td>\n",
       "    </tr>\n",
       "    <tr>\n",
       "      <th>2</th>\n",
       "      <td>2022-06-28 15:35:04.915765</td>\n",
       "    </tr>\n",
       "    <tr>\n",
       "      <th>3</th>\n",
       "      <td>2022-06-27 15:35:04.915765</td>\n",
       "    </tr>\n",
       "    <tr>\n",
       "      <th>4</th>\n",
       "      <td>2022-06-26 15:35:04.915765</td>\n",
       "    </tr>\n",
       "    <tr>\n",
       "      <th>5</th>\n",
       "      <td>2022-06-25 15:35:04.915765</td>\n",
       "    </tr>\n",
       "    <tr>\n",
       "      <th>6</th>\n",
       "      <td>2022-06-24 15:35:04.915765</td>\n",
       "    </tr>\n",
       "    <tr>\n",
       "      <th>7</th>\n",
       "      <td>2022-06-23 15:35:04.915765</td>\n",
       "    </tr>\n",
       "    <tr>\n",
       "      <th>8</th>\n",
       "      <td>2022-06-22 15:35:04.915765</td>\n",
       "    </tr>\n",
       "    <tr>\n",
       "      <th>9</th>\n",
       "      <td>2022-06-21 15:35:04.915765</td>\n",
       "    </tr>\n",
       "    <tr>\n",
       "      <th>10</th>\n",
       "      <td>2022-06-20 15:35:04.915765</td>\n",
       "    </tr>\n",
       "    <tr>\n",
       "      <th>11</th>\n",
       "      <td>2022-06-19 15:35:04.915765</td>\n",
       "    </tr>\n",
       "    <tr>\n",
       "      <th>12</th>\n",
       "      <td>2022-06-18 15:35:04.915765</td>\n",
       "    </tr>\n",
       "    <tr>\n",
       "      <th>13</th>\n",
       "      <td>2022-06-17 15:35:04.915765</td>\n",
       "    </tr>\n",
       "    <tr>\n",
       "      <th>14</th>\n",
       "      <td>2022-06-16 15:35:04.915765</td>\n",
       "    </tr>\n",
       "  </tbody>\n",
       "</table>\n",
       "</div>"
      ],
      "text/plain": [
       "                         Days\n",
       "0  2022-06-30 15:35:04.915765\n",
       "1  2022-06-29 15:35:04.915765\n",
       "2  2022-06-28 15:35:04.915765\n",
       "3  2022-06-27 15:35:04.915765\n",
       "4  2022-06-26 15:35:04.915765\n",
       "5  2022-06-25 15:35:04.915765\n",
       "6  2022-06-24 15:35:04.915765\n",
       "7  2022-06-23 15:35:04.915765\n",
       "8  2022-06-22 15:35:04.915765\n",
       "9  2022-06-21 15:35:04.915765\n",
       "10 2022-06-20 15:35:04.915765\n",
       "11 2022-06-19 15:35:04.915765\n",
       "12 2022-06-18 15:35:04.915765\n",
       "13 2022-06-17 15:35:04.915765\n",
       "14 2022-06-16 15:35:04.915765"
      ]
     },
     "execution_count": 6,
     "metadata": {},
     "output_type": "execute_result"
    }
   ],
   "source": [
    "data"
   ]
  },
  {
   "cell_type": "code",
   "execution_count": 7,
   "id": "24a7df8a",
   "metadata": {
    "execution": {
     "iopub.execute_input": "2022-06-30T15:35:04.993232Z",
     "iopub.status.busy": "2022-06-30T15:35:04.992777Z",
     "iopub.status.idle": "2022-06-30T15:35:04.997732Z",
     "shell.execute_reply": "2022-06-30T15:35:04.996593Z"
    },
    "papermill": {
     "duration": 0.011352,
     "end_time": "2022-06-30T15:35:05.000001",
     "exception": false,
     "start_time": "2022-06-30T15:35:04.988649",
     "status": "completed"
    },
    "tags": []
   },
   "outputs": [],
   "source": [
    "# data['Days'].dt.minute\n",
    "# data['Days'].dt.hour\n",
    "# data['Days'].dt.month\n",
    "# data['Days'].dt.year\n",
    "# it will give us all the above required"
   ]
  }
 ],
 "metadata": {
  "kernelspec": {
   "display_name": "Python 3",
   "language": "python",
   "name": "python3"
  },
  "language_info": {
   "codemirror_mode": {
    "name": "ipython",
    "version": 3
   },
   "file_extension": ".py",
   "mimetype": "text/x-python",
   "name": "python",
   "nbconvert_exporter": "python",
   "pygments_lexer": "ipython3",
   "version": "3.7.12"
  },
  "papermill": {
   "default_parameters": {},
   "duration": 10.166135,
   "end_time": "2022-06-30T15:35:05.624357",
   "environment_variables": {},
   "exception": null,
   "input_path": "__notebook__.ipynb",
   "output_path": "__notebook__.ipynb",
   "parameters": {},
   "start_time": "2022-06-30T15:34:55.458222",
   "version": "2.3.4"
  }
 },
 "nbformat": 4,
 "nbformat_minor": 5
}
