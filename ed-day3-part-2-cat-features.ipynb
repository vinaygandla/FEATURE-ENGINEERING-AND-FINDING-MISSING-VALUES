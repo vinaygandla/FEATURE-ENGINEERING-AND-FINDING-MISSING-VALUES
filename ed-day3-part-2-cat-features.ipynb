{
 "cells": [
  {
   "cell_type": "code",
   "execution_count": 1,
   "id": "8e54f759",
   "metadata": {
    "_cell_guid": "b1076dfc-b9ad-4769-8c92-a6c4dae69d19",
    "_uuid": "8f2839f25d086af736a60e9eeb907d3b93b6e0e5",
    "execution": {
     "iopub.execute_input": "2022-06-28T16:11:14.887337Z",
     "iopub.status.busy": "2022-06-28T16:11:14.886602Z",
     "iopub.status.idle": "2022-06-28T16:11:14.906570Z",
     "shell.execute_reply": "2022-06-28T16:11:14.905698Z"
    },
    "papermill": {
     "duration": 0.031324,
     "end_time": "2022-06-28T16:11:14.909093",
     "exception": false,
     "start_time": "2022-06-28T16:11:14.877769",
     "status": "completed"
    },
    "tags": []
   },
   "outputs": [
    {
     "name": "stdout",
     "output_type": "stream",
     "text": [
      "/kaggle/input/vinay-sunny/House Price Regression Tecnique/sample_submission.csv\n",
      "/kaggle/input/vinay-sunny/House Price Regression Tecnique/data_description.txt\n",
      "/kaggle/input/vinay-sunny/House Price Regression Tecnique/train.csv\n",
      "/kaggle/input/vinay-sunny/House Price Regression Tecnique/Project On House Price data .ipynb\n",
      "/kaggle/input/vinay-sunny/House Price Regression Tecnique/test.csv\n"
     ]
    }
   ],
   "source": [
    "# This Python 3 environment comes with many helpful analytics libraries installed\n",
    "# It is defined by the kaggle/python Docker image: https://github.com/kaggle/docker-python\n",
    "# For example, here's several helpful packages to load\n",
    "\n",
    "import numpy as np # linear algebra\n",
    "import pandas as pd # data processing, CSV file I/O (e.g. pd.read_csv)\n",
    "\n",
    "# Input data files are available in the read-only \"../input/\" directory\n",
    "# For example, running this (by clicking run or pressing Shift+Enter) will list all files under the input directory\n",
    "\n",
    "import os\n",
    "for dirname, _, filenames in os.walk('/kaggle/input'):\n",
    "    for filename in filenames:\n",
    "        print(os.path.join(dirname, filename))\n",
    "\n",
    "# You can write up to 20GB to the current directory (/kaggle/working/) that gets preserved as output when you create a version using \"Save & Run All\" \n",
    "# You can also write temporary files to /kaggle/temp/, but they won't be saved outside of the current session"
   ]
  },
  {
   "cell_type": "code",
   "execution_count": 2,
   "id": "0d7553ea",
   "metadata": {
    "execution": {
     "iopub.execute_input": "2022-06-28T16:11:14.924154Z",
     "iopub.status.busy": "2022-06-28T16:11:14.923509Z",
     "iopub.status.idle": "2022-06-28T16:11:14.967901Z",
     "shell.execute_reply": "2022-06-28T16:11:14.966698Z"
    },
    "papermill": {
     "duration": 0.054755,
     "end_time": "2022-06-28T16:11:14.970267",
     "exception": false,
     "start_time": "2022-06-28T16:11:14.915512",
     "status": "completed"
    },
    "tags": []
   },
   "outputs": [],
   "source": [
    "# fat\n",
    "# imputation of high count of values to the nan values \n",
    "df=pd.read_csv('../input/vinay-sunny/House Price Regression Tecnique/train.csv',usecols=['BsmtQual','FireplaceQu','GarageType','SalePrice'])"
   ]
  },
  {
   "cell_type": "code",
   "execution_count": 3,
   "id": "4d116f6a",
   "metadata": {
    "execution": {
     "iopub.execute_input": "2022-06-28T16:11:14.984915Z",
     "iopub.status.busy": "2022-06-28T16:11:14.984167Z",
     "iopub.status.idle": "2022-06-28T16:11:15.004253Z",
     "shell.execute_reply": "2022-06-28T16:11:15.003273Z"
    },
    "papermill": {
     "duration": 0.029981,
     "end_time": "2022-06-28T16:11:15.006563",
     "exception": false,
     "start_time": "2022-06-28T16:11:14.976582",
     "status": "completed"
    },
    "tags": []
   },
   "outputs": [
    {
     "data": {
      "text/html": [
       "<div>\n",
       "<style scoped>\n",
       "    .dataframe tbody tr th:only-of-type {\n",
       "        vertical-align: middle;\n",
       "    }\n",
       "\n",
       "    .dataframe tbody tr th {\n",
       "        vertical-align: top;\n",
       "    }\n",
       "\n",
       "    .dataframe thead th {\n",
       "        text-align: right;\n",
       "    }\n",
       "</style>\n",
       "<table border=\"1\" class=\"dataframe\">\n",
       "  <thead>\n",
       "    <tr style=\"text-align: right;\">\n",
       "      <th></th>\n",
       "      <th>BsmtQual</th>\n",
       "      <th>FireplaceQu</th>\n",
       "      <th>GarageType</th>\n",
       "      <th>SalePrice</th>\n",
       "    </tr>\n",
       "  </thead>\n",
       "  <tbody>\n",
       "    <tr>\n",
       "      <th>0</th>\n",
       "      <td>Gd</td>\n",
       "      <td>NaN</td>\n",
       "      <td>Attchd</td>\n",
       "      <td>208500</td>\n",
       "    </tr>\n",
       "    <tr>\n",
       "      <th>1</th>\n",
       "      <td>Gd</td>\n",
       "      <td>TA</td>\n",
       "      <td>Attchd</td>\n",
       "      <td>181500</td>\n",
       "    </tr>\n",
       "    <tr>\n",
       "      <th>2</th>\n",
       "      <td>Gd</td>\n",
       "      <td>TA</td>\n",
       "      <td>Attchd</td>\n",
       "      <td>223500</td>\n",
       "    </tr>\n",
       "    <tr>\n",
       "      <th>3</th>\n",
       "      <td>TA</td>\n",
       "      <td>Gd</td>\n",
       "      <td>Detchd</td>\n",
       "      <td>140000</td>\n",
       "    </tr>\n",
       "    <tr>\n",
       "      <th>4</th>\n",
       "      <td>Gd</td>\n",
       "      <td>TA</td>\n",
       "      <td>Attchd</td>\n",
       "      <td>250000</td>\n",
       "    </tr>\n",
       "  </tbody>\n",
       "</table>\n",
       "</div>"
      ],
      "text/plain": [
       "  BsmtQual FireplaceQu GarageType  SalePrice\n",
       "0       Gd         NaN     Attchd     208500\n",
       "1       Gd          TA     Attchd     181500\n",
       "2       Gd          TA     Attchd     223500\n",
       "3       TA          Gd     Detchd     140000\n",
       "4       Gd          TA     Attchd     250000"
      ]
     },
     "execution_count": 3,
     "metadata": {},
     "output_type": "execute_result"
    }
   ],
   "source": [
    "df.head(5)"
   ]
  },
  {
   "cell_type": "code",
   "execution_count": 4,
   "id": "de683413",
   "metadata": {
    "execution": {
     "iopub.execute_input": "2022-06-28T16:11:15.021260Z",
     "iopub.status.busy": "2022-06-28T16:11:15.020564Z",
     "iopub.status.idle": "2022-06-28T16:11:15.025340Z",
     "shell.execute_reply": "2022-06-28T16:11:15.024462Z"
    },
    "papermill": {
     "duration": 0.014443,
     "end_time": "2022-06-28T16:11:15.027439",
     "exception": false,
     "start_time": "2022-06-28T16:11:15.012996",
     "status": "completed"
    },
    "tags": []
   },
   "outputs": [],
   "source": [
    "def impute_nan(df,variable):\n",
    "    most_frequent_category=df[variable].value_counts().index[0]\n",
    "    df[variable].fillna(most_frequent_category,inplace=True)"
   ]
  },
  {
   "cell_type": "code",
   "execution_count": 5,
   "id": "d1775c89",
   "metadata": {
    "execution": {
     "iopub.execute_input": "2022-06-28T16:11:15.041969Z",
     "iopub.status.busy": "2022-06-28T16:11:15.041285Z",
     "iopub.status.idle": "2022-06-28T16:11:15.055967Z",
     "shell.execute_reply": "2022-06-28T16:11:15.054804Z"
    },
    "papermill": {
     "duration": 0.024501,
     "end_time": "2022-06-28T16:11:15.058192",
     "exception": false,
     "start_time": "2022-06-28T16:11:15.033691",
     "status": "completed"
    },
    "tags": []
   },
   "outputs": [],
   "source": [
    "for feature in ['BsmtQual','FireplaceQu','GarageType']:\n",
    "    impute_nan(df,feature)"
   ]
  },
  {
   "cell_type": "code",
   "execution_count": 6,
   "id": "b01a9fb2",
   "metadata": {
    "execution": {
     "iopub.execute_input": "2022-06-28T16:11:15.072585Z",
     "iopub.status.busy": "2022-06-28T16:11:15.071907Z",
     "iopub.status.idle": "2022-06-28T16:11:15.079805Z",
     "shell.execute_reply": "2022-06-28T16:11:15.078894Z"
    },
    "papermill": {
     "duration": 0.017223,
     "end_time": "2022-06-28T16:11:15.081673",
     "exception": false,
     "start_time": "2022-06-28T16:11:15.064450",
     "status": "completed"
    },
    "tags": []
   },
   "outputs": [
    {
     "data": {
      "text/plain": [
       "BsmtQual       0\n",
       "FireplaceQu    0\n",
       "GarageType     0\n",
       "SalePrice      0\n",
       "dtype: int64"
      ]
     },
     "execution_count": 6,
     "metadata": {},
     "output_type": "execute_result"
    }
   ],
   "source": [
    "df.isnull().sum()"
   ]
  },
  {
   "cell_type": "markdown",
   "id": "30042471",
   "metadata": {
    "execution": {
     "iopub.execute_input": "2022-06-28T15:34:49.814077Z",
     "iopub.status.busy": "2022-06-28T15:34:49.813704Z",
     "iopub.status.idle": "2022-06-28T15:34:49.818791Z",
     "shell.execute_reply": "2022-06-28T15:34:49.817661Z",
     "shell.execute_reply.started": "2022-06-28T15:34:49.814047Z"
    },
    "papermill": {
     "duration": 0.006187,
     "end_time": "2022-06-28T16:11:15.094052",
     "exception": false,
     "start_time": "2022-06-28T16:11:15.087865",
     "status": "completed"
    },
    "tags": []
   },
   "source": [
    "# # ##advantage \n",
    "# 1.easy to implement \n",
    "# 2.fast \n",
    "# # ##disadvantages \n",
    "# 1.since we are using more frequent labels it may use them in an over represented way if they are many nan's \n",
    "# 2.it distorts the relationship of the most frequent label "
   ]
  },
  {
   "cell_type": "code",
   "execution_count": 7,
   "id": "39b1a2d8",
   "metadata": {
    "execution": {
     "iopub.execute_input": "2022-06-28T16:11:15.108902Z",
     "iopub.status.busy": "2022-06-28T16:11:15.108181Z",
     "iopub.status.idle": "2022-06-28T16:11:15.120829Z",
     "shell.execute_reply": "2022-06-28T16:11:15.119866Z"
    },
    "papermill": {
     "duration": 0.022334,
     "end_time": "2022-06-28T16:11:15.122885",
     "exception": false,
     "start_time": "2022-06-28T16:11:15.100551",
     "status": "completed"
    },
    "tags": []
   },
   "outputs": [],
   "source": [
    "# 2.0 tech (adding a variable to capture nan)\n",
    "df1=pd.read_csv('../input/vinay-sunny/House Price Regression Tecnique/train.csv',usecols=['BsmtQual','FireplaceQu','GarageType','SalePrice'])\n"
   ]
  },
  {
   "cell_type": "code",
   "execution_count": 8,
   "id": "99f1dd39",
   "metadata": {
    "execution": {
     "iopub.execute_input": "2022-06-28T16:11:15.137341Z",
     "iopub.status.busy": "2022-06-28T16:11:15.136815Z",
     "iopub.status.idle": "2022-06-28T16:11:15.146635Z",
     "shell.execute_reply": "2022-06-28T16:11:15.145593Z"
    },
    "papermill": {
     "duration": 0.019638,
     "end_time": "2022-06-28T16:11:15.148779",
     "exception": false,
     "start_time": "2022-06-28T16:11:15.129141",
     "status": "completed"
    },
    "tags": []
   },
   "outputs": [
    {
     "data": {
      "text/html": [
       "<div>\n",
       "<style scoped>\n",
       "    .dataframe tbody tr th:only-of-type {\n",
       "        vertical-align: middle;\n",
       "    }\n",
       "\n",
       "    .dataframe tbody tr th {\n",
       "        vertical-align: top;\n",
       "    }\n",
       "\n",
       "    .dataframe thead th {\n",
       "        text-align: right;\n",
       "    }\n",
       "</style>\n",
       "<table border=\"1\" class=\"dataframe\">\n",
       "  <thead>\n",
       "    <tr style=\"text-align: right;\">\n",
       "      <th></th>\n",
       "      <th>BsmtQual</th>\n",
       "      <th>FireplaceQu</th>\n",
       "      <th>GarageType</th>\n",
       "      <th>SalePrice</th>\n",
       "    </tr>\n",
       "  </thead>\n",
       "  <tbody>\n",
       "    <tr>\n",
       "      <th>0</th>\n",
       "      <td>Gd</td>\n",
       "      <td>NaN</td>\n",
       "      <td>Attchd</td>\n",
       "      <td>208500</td>\n",
       "    </tr>\n",
       "    <tr>\n",
       "      <th>1</th>\n",
       "      <td>Gd</td>\n",
       "      <td>TA</td>\n",
       "      <td>Attchd</td>\n",
       "      <td>181500</td>\n",
       "    </tr>\n",
       "    <tr>\n",
       "      <th>2</th>\n",
       "      <td>Gd</td>\n",
       "      <td>TA</td>\n",
       "      <td>Attchd</td>\n",
       "      <td>223500</td>\n",
       "    </tr>\n",
       "    <tr>\n",
       "      <th>3</th>\n",
       "      <td>TA</td>\n",
       "      <td>Gd</td>\n",
       "      <td>Detchd</td>\n",
       "      <td>140000</td>\n",
       "    </tr>\n",
       "    <tr>\n",
       "      <th>4</th>\n",
       "      <td>Gd</td>\n",
       "      <td>TA</td>\n",
       "      <td>Attchd</td>\n",
       "      <td>250000</td>\n",
       "    </tr>\n",
       "  </tbody>\n",
       "</table>\n",
       "</div>"
      ],
      "text/plain": [
       "  BsmtQual FireplaceQu GarageType  SalePrice\n",
       "0       Gd         NaN     Attchd     208500\n",
       "1       Gd          TA     Attchd     181500\n",
       "2       Gd          TA     Attchd     223500\n",
       "3       TA          Gd     Detchd     140000\n",
       "4       Gd          TA     Attchd     250000"
      ]
     },
     "execution_count": 8,
     "metadata": {},
     "output_type": "execute_result"
    }
   ],
   "source": [
    "df1.head()"
   ]
  },
  {
   "cell_type": "code",
   "execution_count": 9,
   "id": "d23ae762",
   "metadata": {
    "execution": {
     "iopub.execute_input": "2022-06-28T16:11:15.163699Z",
     "iopub.status.busy": "2022-06-28T16:11:15.163135Z",
     "iopub.status.idle": "2022-06-28T16:11:15.171836Z",
     "shell.execute_reply": "2022-06-28T16:11:15.170948Z"
    },
    "papermill": {
     "duration": 0.018639,
     "end_time": "2022-06-28T16:11:15.173767",
     "exception": false,
     "start_time": "2022-06-28T16:11:15.155128",
     "status": "completed"
    },
    "tags": []
   },
   "outputs": [],
   "source": [
    "df1['BsmtQual_var']=np.where(df1['BsmtQual'].isnull(),1,0)\n",
    "df1['FireplaceQu_var']=np.where(df1['FireplaceQu'].isnull(),1,0)"
   ]
  },
  {
   "cell_type": "code",
   "execution_count": 10,
   "id": "43c2992a",
   "metadata": {
    "execution": {
     "iopub.execute_input": "2022-06-28T16:11:15.189611Z",
     "iopub.status.busy": "2022-06-28T16:11:15.188965Z",
     "iopub.status.idle": "2022-06-28T16:11:15.199299Z",
     "shell.execute_reply": "2022-06-28T16:11:15.198484Z"
    },
    "papermill": {
     "duration": 0.020578,
     "end_time": "2022-06-28T16:11:15.201375",
     "exception": false,
     "start_time": "2022-06-28T16:11:15.180797",
     "status": "completed"
    },
    "tags": []
   },
   "outputs": [
    {
     "data": {
      "text/html": [
       "<div>\n",
       "<style scoped>\n",
       "    .dataframe tbody tr th:only-of-type {\n",
       "        vertical-align: middle;\n",
       "    }\n",
       "\n",
       "    .dataframe tbody tr th {\n",
       "        vertical-align: top;\n",
       "    }\n",
       "\n",
       "    .dataframe thead th {\n",
       "        text-align: right;\n",
       "    }\n",
       "</style>\n",
       "<table border=\"1\" class=\"dataframe\">\n",
       "  <thead>\n",
       "    <tr style=\"text-align: right;\">\n",
       "      <th></th>\n",
       "      <th>BsmtQual</th>\n",
       "      <th>FireplaceQu</th>\n",
       "      <th>GarageType</th>\n",
       "      <th>SalePrice</th>\n",
       "      <th>BsmtQual_var</th>\n",
       "      <th>FireplaceQu_var</th>\n",
       "    </tr>\n",
       "  </thead>\n",
       "  <tbody>\n",
       "    <tr>\n",
       "      <th>0</th>\n",
       "      <td>Gd</td>\n",
       "      <td>NaN</td>\n",
       "      <td>Attchd</td>\n",
       "      <td>208500</td>\n",
       "      <td>0</td>\n",
       "      <td>1</td>\n",
       "    </tr>\n",
       "    <tr>\n",
       "      <th>1</th>\n",
       "      <td>Gd</td>\n",
       "      <td>TA</td>\n",
       "      <td>Attchd</td>\n",
       "      <td>181500</td>\n",
       "      <td>0</td>\n",
       "      <td>0</td>\n",
       "    </tr>\n",
       "    <tr>\n",
       "      <th>2</th>\n",
       "      <td>Gd</td>\n",
       "      <td>TA</td>\n",
       "      <td>Attchd</td>\n",
       "      <td>223500</td>\n",
       "      <td>0</td>\n",
       "      <td>0</td>\n",
       "    </tr>\n",
       "    <tr>\n",
       "      <th>3</th>\n",
       "      <td>TA</td>\n",
       "      <td>Gd</td>\n",
       "      <td>Detchd</td>\n",
       "      <td>140000</td>\n",
       "      <td>0</td>\n",
       "      <td>0</td>\n",
       "    </tr>\n",
       "    <tr>\n",
       "      <th>4</th>\n",
       "      <td>Gd</td>\n",
       "      <td>TA</td>\n",
       "      <td>Attchd</td>\n",
       "      <td>250000</td>\n",
       "      <td>0</td>\n",
       "      <td>0</td>\n",
       "    </tr>\n",
       "  </tbody>\n",
       "</table>\n",
       "</div>"
      ],
      "text/plain": [
       "  BsmtQual FireplaceQu GarageType  SalePrice  BsmtQual_var  FireplaceQu_var\n",
       "0       Gd         NaN     Attchd     208500             0                1\n",
       "1       Gd          TA     Attchd     181500             0                0\n",
       "2       Gd          TA     Attchd     223500             0                0\n",
       "3       TA          Gd     Detchd     140000             0                0\n",
       "4       Gd          TA     Attchd     250000             0                0"
      ]
     },
     "execution_count": 10,
     "metadata": {},
     "output_type": "execute_result"
    }
   ],
   "source": [
    "df1.head()"
   ]
  },
  {
   "cell_type": "code",
   "execution_count": 11,
   "id": "e0d15284",
   "metadata": {
    "execution": {
     "iopub.execute_input": "2022-06-28T16:11:15.217061Z",
     "iopub.status.busy": "2022-06-28T16:11:15.216489Z",
     "iopub.status.idle": "2022-06-28T16:11:15.221420Z",
     "shell.execute_reply": "2022-06-28T16:11:15.220374Z"
    },
    "papermill": {
     "duration": 0.015525,
     "end_time": "2022-06-28T16:11:15.223856",
     "exception": false,
     "start_time": "2022-06-28T16:11:15.208331",
     "status": "completed"
    },
    "tags": []
   },
   "outputs": [],
   "source": [
    "frequent=df1['BsmtQual'].mode()[0]"
   ]
  },
  {
   "cell_type": "code",
   "execution_count": 12,
   "id": "41b52b27",
   "metadata": {
    "execution": {
     "iopub.execute_input": "2022-06-28T16:11:15.239348Z",
     "iopub.status.busy": "2022-06-28T16:11:15.238976Z",
     "iopub.status.idle": "2022-06-28T16:11:15.244616Z",
     "shell.execute_reply": "2022-06-28T16:11:15.243430Z"
    },
    "papermill": {
     "duration": 0.016012,
     "end_time": "2022-06-28T16:11:15.246792",
     "exception": false,
     "start_time": "2022-06-28T16:11:15.230780",
     "status": "completed"
    },
    "tags": []
   },
   "outputs": [],
   "source": [
    "df1['BsmtQual'].fillna(frequent,inplace=True)"
   ]
  },
  {
   "cell_type": "code",
   "execution_count": 13,
   "id": "80519204",
   "metadata": {
    "execution": {
     "iopub.execute_input": "2022-06-28T16:11:15.262023Z",
     "iopub.status.busy": "2022-06-28T16:11:15.261645Z",
     "iopub.status.idle": "2022-06-28T16:11:15.274628Z",
     "shell.execute_reply": "2022-06-28T16:11:15.273471Z"
    },
    "papermill": {
     "duration": 0.023017,
     "end_time": "2022-06-28T16:11:15.276591",
     "exception": false,
     "start_time": "2022-06-28T16:11:15.253574",
     "status": "completed"
    },
    "tags": []
   },
   "outputs": [
    {
     "data": {
      "text/html": [
       "<div>\n",
       "<style scoped>\n",
       "    .dataframe tbody tr th:only-of-type {\n",
       "        vertical-align: middle;\n",
       "    }\n",
       "\n",
       "    .dataframe tbody tr th {\n",
       "        vertical-align: top;\n",
       "    }\n",
       "\n",
       "    .dataframe thead th {\n",
       "        text-align: right;\n",
       "    }\n",
       "</style>\n",
       "<table border=\"1\" class=\"dataframe\">\n",
       "  <thead>\n",
       "    <tr style=\"text-align: right;\">\n",
       "      <th></th>\n",
       "      <th>BsmtQual</th>\n",
       "      <th>FireplaceQu</th>\n",
       "      <th>GarageType</th>\n",
       "      <th>SalePrice</th>\n",
       "      <th>BsmtQual_var</th>\n",
       "      <th>FireplaceQu_var</th>\n",
       "    </tr>\n",
       "  </thead>\n",
       "  <tbody>\n",
       "    <tr>\n",
       "      <th>0</th>\n",
       "      <td>Gd</td>\n",
       "      <td>NaN</td>\n",
       "      <td>Attchd</td>\n",
       "      <td>208500</td>\n",
       "      <td>0</td>\n",
       "      <td>1</td>\n",
       "    </tr>\n",
       "    <tr>\n",
       "      <th>1</th>\n",
       "      <td>Gd</td>\n",
       "      <td>TA</td>\n",
       "      <td>Attchd</td>\n",
       "      <td>181500</td>\n",
       "      <td>0</td>\n",
       "      <td>0</td>\n",
       "    </tr>\n",
       "    <tr>\n",
       "      <th>2</th>\n",
       "      <td>Gd</td>\n",
       "      <td>TA</td>\n",
       "      <td>Attchd</td>\n",
       "      <td>223500</td>\n",
       "      <td>0</td>\n",
       "      <td>0</td>\n",
       "    </tr>\n",
       "    <tr>\n",
       "      <th>3</th>\n",
       "      <td>TA</td>\n",
       "      <td>Gd</td>\n",
       "      <td>Detchd</td>\n",
       "      <td>140000</td>\n",
       "      <td>0</td>\n",
       "      <td>0</td>\n",
       "    </tr>\n",
       "    <tr>\n",
       "      <th>4</th>\n",
       "      <td>Gd</td>\n",
       "      <td>TA</td>\n",
       "      <td>Attchd</td>\n",
       "      <td>250000</td>\n",
       "      <td>0</td>\n",
       "      <td>0</td>\n",
       "    </tr>\n",
       "    <tr>\n",
       "      <th>5</th>\n",
       "      <td>Gd</td>\n",
       "      <td>NaN</td>\n",
       "      <td>Attchd</td>\n",
       "      <td>143000</td>\n",
       "      <td>0</td>\n",
       "      <td>1</td>\n",
       "    </tr>\n",
       "    <tr>\n",
       "      <th>6</th>\n",
       "      <td>Ex</td>\n",
       "      <td>Gd</td>\n",
       "      <td>Attchd</td>\n",
       "      <td>307000</td>\n",
       "      <td>0</td>\n",
       "      <td>0</td>\n",
       "    </tr>\n",
       "    <tr>\n",
       "      <th>7</th>\n",
       "      <td>Gd</td>\n",
       "      <td>TA</td>\n",
       "      <td>Attchd</td>\n",
       "      <td>200000</td>\n",
       "      <td>0</td>\n",
       "      <td>0</td>\n",
       "    </tr>\n",
       "    <tr>\n",
       "      <th>8</th>\n",
       "      <td>TA</td>\n",
       "      <td>TA</td>\n",
       "      <td>Detchd</td>\n",
       "      <td>129900</td>\n",
       "      <td>0</td>\n",
       "      <td>0</td>\n",
       "    </tr>\n",
       "    <tr>\n",
       "      <th>9</th>\n",
       "      <td>TA</td>\n",
       "      <td>TA</td>\n",
       "      <td>Attchd</td>\n",
       "      <td>118000</td>\n",
       "      <td>0</td>\n",
       "      <td>0</td>\n",
       "    </tr>\n",
       "  </tbody>\n",
       "</table>\n",
       "</div>"
      ],
      "text/plain": [
       "  BsmtQual FireplaceQu GarageType  SalePrice  BsmtQual_var  FireplaceQu_var\n",
       "0       Gd         NaN     Attchd     208500             0                1\n",
       "1       Gd          TA     Attchd     181500             0                0\n",
       "2       Gd          TA     Attchd     223500             0                0\n",
       "3       TA          Gd     Detchd     140000             0                0\n",
       "4       Gd          TA     Attchd     250000             0                0\n",
       "5       Gd         NaN     Attchd     143000             0                1\n",
       "6       Ex          Gd     Attchd     307000             0                0\n",
       "7       Gd          TA     Attchd     200000             0                0\n",
       "8       TA          TA     Detchd     129900             0                0\n",
       "9       TA          TA     Attchd     118000             0                0"
      ]
     },
     "execution_count": 13,
     "metadata": {},
     "output_type": "execute_result"
    }
   ],
   "source": [
    "df1.head(10)"
   ]
  },
  {
   "cell_type": "code",
   "execution_count": 14,
   "id": "f789a9f3",
   "metadata": {
    "execution": {
     "iopub.execute_input": "2022-06-28T16:11:15.292728Z",
     "iopub.status.busy": "2022-06-28T16:11:15.292346Z",
     "iopub.status.idle": "2022-06-28T16:11:15.297690Z",
     "shell.execute_reply": "2022-06-28T16:11:15.296567Z"
    },
    "papermill": {
     "duration": 0.015844,
     "end_time": "2022-06-28T16:11:15.299746",
     "exception": false,
     "start_time": "2022-06-28T16:11:15.283902",
     "status": "completed"
    },
    "tags": []
   },
   "outputs": [],
   "source": [
    "a=df1['FireplaceQu'].mode()[0]"
   ]
  },
  {
   "cell_type": "code",
   "execution_count": 15,
   "id": "59b1080e",
   "metadata": {
    "execution": {
     "iopub.execute_input": "2022-06-28T16:11:15.314838Z",
     "iopub.status.busy": "2022-06-28T16:11:15.314458Z",
     "iopub.status.idle": "2022-06-28T16:11:15.320276Z",
     "shell.execute_reply": "2022-06-28T16:11:15.319173Z"
    },
    "papermill": {
     "duration": 0.015846,
     "end_time": "2022-06-28T16:11:15.322375",
     "exception": false,
     "start_time": "2022-06-28T16:11:15.306529",
     "status": "completed"
    },
    "tags": []
   },
   "outputs": [],
   "source": [
    "df1['FireplaceQu'].fillna(a,inplace=True)"
   ]
  },
  {
   "cell_type": "code",
   "execution_count": 16,
   "id": "23b57442",
   "metadata": {
    "execution": {
     "iopub.execute_input": "2022-06-28T16:11:15.338234Z",
     "iopub.status.busy": "2022-06-28T16:11:15.337834Z",
     "iopub.status.idle": "2022-06-28T16:11:15.343732Z",
     "shell.execute_reply": "2022-06-28T16:11:15.342612Z"
    },
    "papermill": {
     "duration": 0.016462,
     "end_time": "2022-06-28T16:11:15.346003",
     "exception": false,
     "start_time": "2022-06-28T16:11:15.329541",
     "status": "completed"
    },
    "tags": []
   },
   "outputs": [],
   "source": [
    "b=df1['GarageType'].mode()[0]"
   ]
  },
  {
   "cell_type": "code",
   "execution_count": 17,
   "id": "5c01fb99",
   "metadata": {
    "execution": {
     "iopub.execute_input": "2022-06-28T16:11:15.361806Z",
     "iopub.status.busy": "2022-06-28T16:11:15.361429Z",
     "iopub.status.idle": "2022-06-28T16:11:15.367437Z",
     "shell.execute_reply": "2022-06-28T16:11:15.366302Z"
    },
    "papermill": {
     "duration": 0.016751,
     "end_time": "2022-06-28T16:11:15.369626",
     "exception": false,
     "start_time": "2022-06-28T16:11:15.352875",
     "status": "completed"
    },
    "tags": []
   },
   "outputs": [],
   "source": [
    "df1['GarageType_var']=np.where(df1['GarageType'].isnull(),1,0)"
   ]
  },
  {
   "cell_type": "code",
   "execution_count": 18,
   "id": "94499484",
   "metadata": {
    "execution": {
     "iopub.execute_input": "2022-06-28T16:11:15.385050Z",
     "iopub.status.busy": "2022-06-28T16:11:15.384662Z",
     "iopub.status.idle": "2022-06-28T16:11:15.390711Z",
     "shell.execute_reply": "2022-06-28T16:11:15.389556Z"
    },
    "papermill": {
     "duration": 0.016425,
     "end_time": "2022-06-28T16:11:15.392971",
     "exception": false,
     "start_time": "2022-06-28T16:11:15.376546",
     "status": "completed"
    },
    "tags": []
   },
   "outputs": [],
   "source": [
    "df1['GarageType'].fillna(b,inplace=True)"
   ]
  },
  {
   "cell_type": "code",
   "execution_count": 19,
   "id": "437d0860",
   "metadata": {
    "execution": {
     "iopub.execute_input": "2022-06-28T16:11:15.408705Z",
     "iopub.status.busy": "2022-06-28T16:11:15.407970Z",
     "iopub.status.idle": "2022-06-28T16:11:15.421942Z",
     "shell.execute_reply": "2022-06-28T16:11:15.420802Z"
    },
    "papermill": {
     "duration": 0.024032,
     "end_time": "2022-06-28T16:11:15.424032",
     "exception": false,
     "start_time": "2022-06-28T16:11:15.400000",
     "status": "completed"
    },
    "tags": []
   },
   "outputs": [
    {
     "data": {
      "text/html": [
       "<div>\n",
       "<style scoped>\n",
       "    .dataframe tbody tr th:only-of-type {\n",
       "        vertical-align: middle;\n",
       "    }\n",
       "\n",
       "    .dataframe tbody tr th {\n",
       "        vertical-align: top;\n",
       "    }\n",
       "\n",
       "    .dataframe thead th {\n",
       "        text-align: right;\n",
       "    }\n",
       "</style>\n",
       "<table border=\"1\" class=\"dataframe\">\n",
       "  <thead>\n",
       "    <tr style=\"text-align: right;\">\n",
       "      <th></th>\n",
       "      <th>BsmtQual</th>\n",
       "      <th>FireplaceQu</th>\n",
       "      <th>GarageType</th>\n",
       "      <th>SalePrice</th>\n",
       "      <th>BsmtQual_var</th>\n",
       "      <th>FireplaceQu_var</th>\n",
       "      <th>GarageType_var</th>\n",
       "    </tr>\n",
       "  </thead>\n",
       "  <tbody>\n",
       "    <tr>\n",
       "      <th>0</th>\n",
       "      <td>Gd</td>\n",
       "      <td>Gd</td>\n",
       "      <td>Attchd</td>\n",
       "      <td>208500</td>\n",
       "      <td>0</td>\n",
       "      <td>1</td>\n",
       "      <td>0</td>\n",
       "    </tr>\n",
       "    <tr>\n",
       "      <th>1</th>\n",
       "      <td>Gd</td>\n",
       "      <td>TA</td>\n",
       "      <td>Attchd</td>\n",
       "      <td>181500</td>\n",
       "      <td>0</td>\n",
       "      <td>0</td>\n",
       "      <td>0</td>\n",
       "    </tr>\n",
       "    <tr>\n",
       "      <th>2</th>\n",
       "      <td>Gd</td>\n",
       "      <td>TA</td>\n",
       "      <td>Attchd</td>\n",
       "      <td>223500</td>\n",
       "      <td>0</td>\n",
       "      <td>0</td>\n",
       "      <td>0</td>\n",
       "    </tr>\n",
       "    <tr>\n",
       "      <th>3</th>\n",
       "      <td>TA</td>\n",
       "      <td>Gd</td>\n",
       "      <td>Detchd</td>\n",
       "      <td>140000</td>\n",
       "      <td>0</td>\n",
       "      <td>0</td>\n",
       "      <td>0</td>\n",
       "    </tr>\n",
       "    <tr>\n",
       "      <th>4</th>\n",
       "      <td>Gd</td>\n",
       "      <td>TA</td>\n",
       "      <td>Attchd</td>\n",
       "      <td>250000</td>\n",
       "      <td>0</td>\n",
       "      <td>0</td>\n",
       "      <td>0</td>\n",
       "    </tr>\n",
       "    <tr>\n",
       "      <th>5</th>\n",
       "      <td>Gd</td>\n",
       "      <td>Gd</td>\n",
       "      <td>Attchd</td>\n",
       "      <td>143000</td>\n",
       "      <td>0</td>\n",
       "      <td>1</td>\n",
       "      <td>0</td>\n",
       "    </tr>\n",
       "    <tr>\n",
       "      <th>6</th>\n",
       "      <td>Ex</td>\n",
       "      <td>Gd</td>\n",
       "      <td>Attchd</td>\n",
       "      <td>307000</td>\n",
       "      <td>0</td>\n",
       "      <td>0</td>\n",
       "      <td>0</td>\n",
       "    </tr>\n",
       "    <tr>\n",
       "      <th>7</th>\n",
       "      <td>Gd</td>\n",
       "      <td>TA</td>\n",
       "      <td>Attchd</td>\n",
       "      <td>200000</td>\n",
       "      <td>0</td>\n",
       "      <td>0</td>\n",
       "      <td>0</td>\n",
       "    </tr>\n",
       "    <tr>\n",
       "      <th>8</th>\n",
       "      <td>TA</td>\n",
       "      <td>TA</td>\n",
       "      <td>Detchd</td>\n",
       "      <td>129900</td>\n",
       "      <td>0</td>\n",
       "      <td>0</td>\n",
       "      <td>0</td>\n",
       "    </tr>\n",
       "    <tr>\n",
       "      <th>9</th>\n",
       "      <td>TA</td>\n",
       "      <td>TA</td>\n",
       "      <td>Attchd</td>\n",
       "      <td>118000</td>\n",
       "      <td>0</td>\n",
       "      <td>0</td>\n",
       "      <td>0</td>\n",
       "    </tr>\n",
       "  </tbody>\n",
       "</table>\n",
       "</div>"
      ],
      "text/plain": [
       "  BsmtQual FireplaceQu GarageType  SalePrice  BsmtQual_var  FireplaceQu_var  \\\n",
       "0       Gd          Gd     Attchd     208500             0                1   \n",
       "1       Gd          TA     Attchd     181500             0                0   \n",
       "2       Gd          TA     Attchd     223500             0                0   \n",
       "3       TA          Gd     Detchd     140000             0                0   \n",
       "4       Gd          TA     Attchd     250000             0                0   \n",
       "5       Gd          Gd     Attchd     143000             0                1   \n",
       "6       Ex          Gd     Attchd     307000             0                0   \n",
       "7       Gd          TA     Attchd     200000             0                0   \n",
       "8       TA          TA     Detchd     129900             0                0   \n",
       "9       TA          TA     Attchd     118000             0                0   \n",
       "\n",
       "   GarageType_var  \n",
       "0               0  \n",
       "1               0  \n",
       "2               0  \n",
       "3               0  \n",
       "4               0  \n",
       "5               0  \n",
       "6               0  \n",
       "7               0  \n",
       "8               0  \n",
       "9               0  "
      ]
     },
     "execution_count": 19,
     "metadata": {},
     "output_type": "execute_result"
    }
   ],
   "source": [
    "df1.head(10)"
   ]
  },
  {
   "cell_type": "code",
   "execution_count": 20,
   "id": "777eaa8b",
   "metadata": {
    "execution": {
     "iopub.execute_input": "2022-06-28T16:11:15.439715Z",
     "iopub.status.busy": "2022-06-28T16:11:15.439302Z",
     "iopub.status.idle": "2022-06-28T16:11:15.446734Z",
     "shell.execute_reply": "2022-06-28T16:11:15.445807Z"
    },
    "papermill": {
     "duration": 0.017892,
     "end_time": "2022-06-28T16:11:15.448869",
     "exception": false,
     "start_time": "2022-06-28T16:11:15.430977",
     "status": "completed"
    },
    "tags": []
   },
   "outputs": [
    {
     "data": {
      "text/plain": [
       "81"
      ]
     },
     "execution_count": 20,
     "metadata": {},
     "output_type": "execute_result"
    }
   ],
   "source": [
    "(df1['GarageType_var']==1).sum()"
   ]
  },
  {
   "cell_type": "code",
   "execution_count": 21,
   "id": "bb97ad61",
   "metadata": {
    "execution": {
     "iopub.execute_input": "2022-06-28T16:11:15.464663Z",
     "iopub.status.busy": "2022-06-28T16:11:15.464303Z",
     "iopub.status.idle": "2022-06-28T16:11:15.468551Z",
     "shell.execute_reply": "2022-06-28T16:11:15.467472Z"
    },
    "papermill": {
     "duration": 0.014694,
     "end_time": "2022-06-28T16:11:15.470637",
     "exception": false,
     "start_time": "2022-06-28T16:11:15.455943",
     "status": "completed"
    },
    "tags": []
   },
   "outputs": [],
   "source": [
    "# suppose if you have more frequent categories, we just replace nan with a new category "
   ]
  },
  {
   "cell_type": "code",
   "execution_count": 22,
   "id": "91a0ee5b",
   "metadata": {
    "execution": {
     "iopub.execute_input": "2022-06-28T16:11:15.486602Z",
     "iopub.status.busy": "2022-06-28T16:11:15.486215Z",
     "iopub.status.idle": "2022-06-28T16:11:15.500117Z",
     "shell.execute_reply": "2022-06-28T16:11:15.499243Z"
    },
    "papermill": {
     "duration": 0.024457,
     "end_time": "2022-06-28T16:11:15.502220",
     "exception": false,
     "start_time": "2022-06-28T16:11:15.477763",
     "status": "completed"
    },
    "tags": []
   },
   "outputs": [],
   "source": [
    "ana=pd.read_csv('../input/vinay-sunny/House Price Regression Tecnique/train.csv',usecols=['BsmtQual','FireplaceQu','GarageType','SalePrice'])"
   ]
  },
  {
   "cell_type": "code",
   "execution_count": 23,
   "id": "bf9bb929",
   "metadata": {
    "execution": {
     "iopub.execute_input": "2022-06-28T16:11:15.518005Z",
     "iopub.status.busy": "2022-06-28T16:11:15.517620Z",
     "iopub.status.idle": "2022-06-28T16:11:15.531246Z",
     "shell.execute_reply": "2022-06-28T16:11:15.530235Z"
    },
    "papermill": {
     "duration": 0.024001,
     "end_time": "2022-06-28T16:11:15.533252",
     "exception": false,
     "start_time": "2022-06-28T16:11:15.509251",
     "status": "completed"
    },
    "tags": []
   },
   "outputs": [
    {
     "data": {
      "text/html": [
       "<div>\n",
       "<style scoped>\n",
       "    .dataframe tbody tr th:only-of-type {\n",
       "        vertical-align: middle;\n",
       "    }\n",
       "\n",
       "    .dataframe tbody tr th {\n",
       "        vertical-align: top;\n",
       "    }\n",
       "\n",
       "    .dataframe thead th {\n",
       "        text-align: right;\n",
       "    }\n",
       "</style>\n",
       "<table border=\"1\" class=\"dataframe\">\n",
       "  <thead>\n",
       "    <tr style=\"text-align: right;\">\n",
       "      <th></th>\n",
       "      <th>BsmtQual</th>\n",
       "      <th>FireplaceQu</th>\n",
       "      <th>GarageType</th>\n",
       "      <th>SalePrice</th>\n",
       "    </tr>\n",
       "  </thead>\n",
       "  <tbody>\n",
       "    <tr>\n",
       "      <th>0</th>\n",
       "      <td>Gd</td>\n",
       "      <td>NaN</td>\n",
       "      <td>Attchd</td>\n",
       "      <td>208500</td>\n",
       "    </tr>\n",
       "    <tr>\n",
       "      <th>1</th>\n",
       "      <td>Gd</td>\n",
       "      <td>TA</td>\n",
       "      <td>Attchd</td>\n",
       "      <td>181500</td>\n",
       "    </tr>\n",
       "    <tr>\n",
       "      <th>2</th>\n",
       "      <td>Gd</td>\n",
       "      <td>TA</td>\n",
       "      <td>Attchd</td>\n",
       "      <td>223500</td>\n",
       "    </tr>\n",
       "    <tr>\n",
       "      <th>3</th>\n",
       "      <td>TA</td>\n",
       "      <td>Gd</td>\n",
       "      <td>Detchd</td>\n",
       "      <td>140000</td>\n",
       "    </tr>\n",
       "    <tr>\n",
       "      <th>4</th>\n",
       "      <td>Gd</td>\n",
       "      <td>TA</td>\n",
       "      <td>Attchd</td>\n",
       "      <td>250000</td>\n",
       "    </tr>\n",
       "    <tr>\n",
       "      <th>...</th>\n",
       "      <td>...</td>\n",
       "      <td>...</td>\n",
       "      <td>...</td>\n",
       "      <td>...</td>\n",
       "    </tr>\n",
       "    <tr>\n",
       "      <th>1455</th>\n",
       "      <td>Gd</td>\n",
       "      <td>TA</td>\n",
       "      <td>Attchd</td>\n",
       "      <td>175000</td>\n",
       "    </tr>\n",
       "    <tr>\n",
       "      <th>1456</th>\n",
       "      <td>Gd</td>\n",
       "      <td>TA</td>\n",
       "      <td>Attchd</td>\n",
       "      <td>210000</td>\n",
       "    </tr>\n",
       "    <tr>\n",
       "      <th>1457</th>\n",
       "      <td>TA</td>\n",
       "      <td>Gd</td>\n",
       "      <td>Attchd</td>\n",
       "      <td>266500</td>\n",
       "    </tr>\n",
       "    <tr>\n",
       "      <th>1458</th>\n",
       "      <td>TA</td>\n",
       "      <td>NaN</td>\n",
       "      <td>Attchd</td>\n",
       "      <td>142125</td>\n",
       "    </tr>\n",
       "    <tr>\n",
       "      <th>1459</th>\n",
       "      <td>TA</td>\n",
       "      <td>NaN</td>\n",
       "      <td>Attchd</td>\n",
       "      <td>147500</td>\n",
       "    </tr>\n",
       "  </tbody>\n",
       "</table>\n",
       "<p>1460 rows × 4 columns</p>\n",
       "</div>"
      ],
      "text/plain": [
       "     BsmtQual FireplaceQu GarageType  SalePrice\n",
       "0          Gd         NaN     Attchd     208500\n",
       "1          Gd          TA     Attchd     181500\n",
       "2          Gd          TA     Attchd     223500\n",
       "3          TA          Gd     Detchd     140000\n",
       "4          Gd          TA     Attchd     250000\n",
       "...       ...         ...        ...        ...\n",
       "1455       Gd          TA     Attchd     175000\n",
       "1456       Gd          TA     Attchd     210000\n",
       "1457       TA          Gd     Attchd     266500\n",
       "1458       TA         NaN     Attchd     142125\n",
       "1459       TA         NaN     Attchd     147500\n",
       "\n",
       "[1460 rows x 4 columns]"
      ]
     },
     "execution_count": 23,
     "metadata": {},
     "output_type": "execute_result"
    }
   ],
   "source": [
    "ana"
   ]
  },
  {
   "cell_type": "code",
   "execution_count": 24,
   "id": "ed1749de",
   "metadata": {
    "execution": {
     "iopub.execute_input": "2022-06-28T16:11:15.549595Z",
     "iopub.status.busy": "2022-06-28T16:11:15.549220Z",
     "iopub.status.idle": "2022-06-28T16:11:15.553383Z",
     "shell.execute_reply": "2022-06-28T16:11:15.552645Z"
    },
    "papermill": {
     "duration": 0.014765,
     "end_time": "2022-06-28T16:11:15.555380",
     "exception": false,
     "start_time": "2022-06-28T16:11:15.540615",
     "status": "completed"
    },
    "tags": []
   },
   "outputs": [],
   "source": [
    "def con_nan(ana,variable):\n",
    "    ana[variable+'newvar']=np.where(ana[variable].isnull(),'Missing',ana[variable])"
   ]
  },
  {
   "cell_type": "code",
   "execution_count": 25,
   "id": "3eb3fa0c",
   "metadata": {
    "execution": {
     "iopub.execute_input": "2022-06-28T16:11:15.572589Z",
     "iopub.status.busy": "2022-06-28T16:11:15.571962Z",
     "iopub.status.idle": "2022-06-28T16:11:15.578511Z",
     "shell.execute_reply": "2022-06-28T16:11:15.577726Z"
    },
    "papermill": {
     "duration": 0.017837,
     "end_time": "2022-06-28T16:11:15.580732",
     "exception": false,
     "start_time": "2022-06-28T16:11:15.562895",
     "status": "completed"
    },
    "tags": []
   },
   "outputs": [],
   "source": [
    "con_nan(ana,'BsmtQual')\n",
    "con_nan(ana,'FireplaceQu')\n",
    "con_nan(ana,'GarageType')"
   ]
  },
  {
   "cell_type": "code",
   "execution_count": 26,
   "id": "a7b97b85",
   "metadata": {
    "execution": {
     "iopub.execute_input": "2022-06-28T16:11:15.597336Z",
     "iopub.status.busy": "2022-06-28T16:11:15.596683Z",
     "iopub.status.idle": "2022-06-28T16:11:15.609488Z",
     "shell.execute_reply": "2022-06-28T16:11:15.608604Z"
    },
    "papermill": {
     "duration": 0.023986,
     "end_time": "2022-06-28T16:11:15.611975",
     "exception": false,
     "start_time": "2022-06-28T16:11:15.587989",
     "status": "completed"
    },
    "tags": []
   },
   "outputs": [
    {
     "data": {
      "text/html": [
       "<div>\n",
       "<style scoped>\n",
       "    .dataframe tbody tr th:only-of-type {\n",
       "        vertical-align: middle;\n",
       "    }\n",
       "\n",
       "    .dataframe tbody tr th {\n",
       "        vertical-align: top;\n",
       "    }\n",
       "\n",
       "    .dataframe thead th {\n",
       "        text-align: right;\n",
       "    }\n",
       "</style>\n",
       "<table border=\"1\" class=\"dataframe\">\n",
       "  <thead>\n",
       "    <tr style=\"text-align: right;\">\n",
       "      <th></th>\n",
       "      <th>BsmtQual</th>\n",
       "      <th>FireplaceQu</th>\n",
       "      <th>GarageType</th>\n",
       "      <th>SalePrice</th>\n",
       "      <th>BsmtQualnewvar</th>\n",
       "      <th>FireplaceQunewvar</th>\n",
       "      <th>GarageTypenewvar</th>\n",
       "    </tr>\n",
       "  </thead>\n",
       "  <tbody>\n",
       "    <tr>\n",
       "      <th>0</th>\n",
       "      <td>Gd</td>\n",
       "      <td>NaN</td>\n",
       "      <td>Attchd</td>\n",
       "      <td>208500</td>\n",
       "      <td>Gd</td>\n",
       "      <td>Missing</td>\n",
       "      <td>Attchd</td>\n",
       "    </tr>\n",
       "    <tr>\n",
       "      <th>1</th>\n",
       "      <td>Gd</td>\n",
       "      <td>TA</td>\n",
       "      <td>Attchd</td>\n",
       "      <td>181500</td>\n",
       "      <td>Gd</td>\n",
       "      <td>TA</td>\n",
       "      <td>Attchd</td>\n",
       "    </tr>\n",
       "    <tr>\n",
       "      <th>2</th>\n",
       "      <td>Gd</td>\n",
       "      <td>TA</td>\n",
       "      <td>Attchd</td>\n",
       "      <td>223500</td>\n",
       "      <td>Gd</td>\n",
       "      <td>TA</td>\n",
       "      <td>Attchd</td>\n",
       "    </tr>\n",
       "    <tr>\n",
       "      <th>3</th>\n",
       "      <td>TA</td>\n",
       "      <td>Gd</td>\n",
       "      <td>Detchd</td>\n",
       "      <td>140000</td>\n",
       "      <td>TA</td>\n",
       "      <td>Gd</td>\n",
       "      <td>Detchd</td>\n",
       "    </tr>\n",
       "    <tr>\n",
       "      <th>4</th>\n",
       "      <td>Gd</td>\n",
       "      <td>TA</td>\n",
       "      <td>Attchd</td>\n",
       "      <td>250000</td>\n",
       "      <td>Gd</td>\n",
       "      <td>TA</td>\n",
       "      <td>Attchd</td>\n",
       "    </tr>\n",
       "    <tr>\n",
       "      <th>5</th>\n",
       "      <td>Gd</td>\n",
       "      <td>NaN</td>\n",
       "      <td>Attchd</td>\n",
       "      <td>143000</td>\n",
       "      <td>Gd</td>\n",
       "      <td>Missing</td>\n",
       "      <td>Attchd</td>\n",
       "    </tr>\n",
       "    <tr>\n",
       "      <th>6</th>\n",
       "      <td>Ex</td>\n",
       "      <td>Gd</td>\n",
       "      <td>Attchd</td>\n",
       "      <td>307000</td>\n",
       "      <td>Ex</td>\n",
       "      <td>Gd</td>\n",
       "      <td>Attchd</td>\n",
       "    </tr>\n",
       "    <tr>\n",
       "      <th>7</th>\n",
       "      <td>Gd</td>\n",
       "      <td>TA</td>\n",
       "      <td>Attchd</td>\n",
       "      <td>200000</td>\n",
       "      <td>Gd</td>\n",
       "      <td>TA</td>\n",
       "      <td>Attchd</td>\n",
       "    </tr>\n",
       "    <tr>\n",
       "      <th>8</th>\n",
       "      <td>TA</td>\n",
       "      <td>TA</td>\n",
       "      <td>Detchd</td>\n",
       "      <td>129900</td>\n",
       "      <td>TA</td>\n",
       "      <td>TA</td>\n",
       "      <td>Detchd</td>\n",
       "    </tr>\n",
       "    <tr>\n",
       "      <th>9</th>\n",
       "      <td>TA</td>\n",
       "      <td>TA</td>\n",
       "      <td>Attchd</td>\n",
       "      <td>118000</td>\n",
       "      <td>TA</td>\n",
       "      <td>TA</td>\n",
       "      <td>Attchd</td>\n",
       "    </tr>\n",
       "  </tbody>\n",
       "</table>\n",
       "</div>"
      ],
      "text/plain": [
       "  BsmtQual FireplaceQu GarageType  SalePrice BsmtQualnewvar FireplaceQunewvar  \\\n",
       "0       Gd         NaN     Attchd     208500             Gd           Missing   \n",
       "1       Gd          TA     Attchd     181500             Gd                TA   \n",
       "2       Gd          TA     Attchd     223500             Gd                TA   \n",
       "3       TA          Gd     Detchd     140000             TA                Gd   \n",
       "4       Gd          TA     Attchd     250000             Gd                TA   \n",
       "5       Gd         NaN     Attchd     143000             Gd           Missing   \n",
       "6       Ex          Gd     Attchd     307000             Ex                Gd   \n",
       "7       Gd          TA     Attchd     200000             Gd                TA   \n",
       "8       TA          TA     Detchd     129900             TA                TA   \n",
       "9       TA          TA     Attchd     118000             TA                TA   \n",
       "\n",
       "  GarageTypenewvar  \n",
       "0           Attchd  \n",
       "1           Attchd  \n",
       "2           Attchd  \n",
       "3           Detchd  \n",
       "4           Attchd  \n",
       "5           Attchd  \n",
       "6           Attchd  \n",
       "7           Attchd  \n",
       "8           Detchd  \n",
       "9           Attchd  "
      ]
     },
     "execution_count": 26,
     "metadata": {},
     "output_type": "execute_result"
    }
   ],
   "source": [
    "ana.head(10)"
   ]
  },
  {
   "cell_type": "code",
   "execution_count": 27,
   "id": "5992565c",
   "metadata": {
    "execution": {
     "iopub.execute_input": "2022-06-28T16:11:15.629092Z",
     "iopub.status.busy": "2022-06-28T16:11:15.628505Z",
     "iopub.status.idle": "2022-06-28T16:11:15.635821Z",
     "shell.execute_reply": "2022-06-28T16:11:15.634975Z"
    },
    "papermill": {
     "duration": 0.018354,
     "end_time": "2022-06-28T16:11:15.637954",
     "exception": false,
     "start_time": "2022-06-28T16:11:15.619600",
     "status": "completed"
    },
    "tags": []
   },
   "outputs": [],
   "source": [
    "# now we can drop the columns after filling the nan boxes \n",
    "ana.drop(columns=['BsmtQual','FireplaceQu','GarageType'],axis=1,inplace=True)"
   ]
  },
  {
   "cell_type": "code",
   "execution_count": 28,
   "id": "bb72983a",
   "metadata": {
    "execution": {
     "iopub.execute_input": "2022-06-28T16:11:15.655511Z",
     "iopub.status.busy": "2022-06-28T16:11:15.654873Z",
     "iopub.status.idle": "2022-06-28T16:11:15.670692Z",
     "shell.execute_reply": "2022-06-28T16:11:15.667470Z"
    },
    "papermill": {
     "duration": 0.028144,
     "end_time": "2022-06-28T16:11:15.673824",
     "exception": false,
     "start_time": "2022-06-28T16:11:15.645680",
     "status": "completed"
    },
    "tags": []
   },
   "outputs": [
    {
     "data": {
      "text/html": [
       "<div>\n",
       "<style scoped>\n",
       "    .dataframe tbody tr th:only-of-type {\n",
       "        vertical-align: middle;\n",
       "    }\n",
       "\n",
       "    .dataframe tbody tr th {\n",
       "        vertical-align: top;\n",
       "    }\n",
       "\n",
       "    .dataframe thead th {\n",
       "        text-align: right;\n",
       "    }\n",
       "</style>\n",
       "<table border=\"1\" class=\"dataframe\">\n",
       "  <thead>\n",
       "    <tr style=\"text-align: right;\">\n",
       "      <th></th>\n",
       "      <th>SalePrice</th>\n",
       "      <th>BsmtQualnewvar</th>\n",
       "      <th>FireplaceQunewvar</th>\n",
       "      <th>GarageTypenewvar</th>\n",
       "    </tr>\n",
       "  </thead>\n",
       "  <tbody>\n",
       "    <tr>\n",
       "      <th>0</th>\n",
       "      <td>208500</td>\n",
       "      <td>Gd</td>\n",
       "      <td>Missing</td>\n",
       "      <td>Attchd</td>\n",
       "    </tr>\n",
       "    <tr>\n",
       "      <th>1</th>\n",
       "      <td>181500</td>\n",
       "      <td>Gd</td>\n",
       "      <td>TA</td>\n",
       "      <td>Attchd</td>\n",
       "    </tr>\n",
       "    <tr>\n",
       "      <th>2</th>\n",
       "      <td>223500</td>\n",
       "      <td>Gd</td>\n",
       "      <td>TA</td>\n",
       "      <td>Attchd</td>\n",
       "    </tr>\n",
       "    <tr>\n",
       "      <th>3</th>\n",
       "      <td>140000</td>\n",
       "      <td>TA</td>\n",
       "      <td>Gd</td>\n",
       "      <td>Detchd</td>\n",
       "    </tr>\n",
       "    <tr>\n",
       "      <th>4</th>\n",
       "      <td>250000</td>\n",
       "      <td>Gd</td>\n",
       "      <td>TA</td>\n",
       "      <td>Attchd</td>\n",
       "    </tr>\n",
       "    <tr>\n",
       "      <th>5</th>\n",
       "      <td>143000</td>\n",
       "      <td>Gd</td>\n",
       "      <td>Missing</td>\n",
       "      <td>Attchd</td>\n",
       "    </tr>\n",
       "    <tr>\n",
       "      <th>6</th>\n",
       "      <td>307000</td>\n",
       "      <td>Ex</td>\n",
       "      <td>Gd</td>\n",
       "      <td>Attchd</td>\n",
       "    </tr>\n",
       "    <tr>\n",
       "      <th>7</th>\n",
       "      <td>200000</td>\n",
       "      <td>Gd</td>\n",
       "      <td>TA</td>\n",
       "      <td>Attchd</td>\n",
       "    </tr>\n",
       "    <tr>\n",
       "      <th>8</th>\n",
       "      <td>129900</td>\n",
       "      <td>TA</td>\n",
       "      <td>TA</td>\n",
       "      <td>Detchd</td>\n",
       "    </tr>\n",
       "    <tr>\n",
       "      <th>9</th>\n",
       "      <td>118000</td>\n",
       "      <td>TA</td>\n",
       "      <td>TA</td>\n",
       "      <td>Attchd</td>\n",
       "    </tr>\n",
       "  </tbody>\n",
       "</table>\n",
       "</div>"
      ],
      "text/plain": [
       "   SalePrice BsmtQualnewvar FireplaceQunewvar GarageTypenewvar\n",
       "0     208500             Gd           Missing           Attchd\n",
       "1     181500             Gd                TA           Attchd\n",
       "2     223500             Gd                TA           Attchd\n",
       "3     140000             TA                Gd           Detchd\n",
       "4     250000             Gd                TA           Attchd\n",
       "5     143000             Gd           Missing           Attchd\n",
       "6     307000             Ex                Gd           Attchd\n",
       "7     200000             Gd                TA           Attchd\n",
       "8     129900             TA                TA           Detchd\n",
       "9     118000             TA                TA           Attchd"
      ]
     },
     "execution_count": 28,
     "metadata": {},
     "output_type": "execute_result"
    }
   ],
   "source": [
    "ana.head(10)"
   ]
  },
  {
   "cell_type": "code",
   "execution_count": 29,
   "id": "3c3939df",
   "metadata": {
    "execution": {
     "iopub.execute_input": "2022-06-28T16:11:15.693152Z",
     "iopub.status.busy": "2022-06-28T16:11:15.692353Z",
     "iopub.status.idle": "2022-06-28T16:11:15.702427Z",
     "shell.execute_reply": "2022-06-28T16:11:15.701454Z"
    },
    "papermill": {
     "duration": 0.02212,
     "end_time": "2022-06-28T16:11:15.704996",
     "exception": false,
     "start_time": "2022-06-28T16:11:15.682876",
     "status": "completed"
    },
    "tags": []
   },
   "outputs": [
    {
     "data": {
      "text/plain": [
       "SalePrice            0\n",
       "BsmtQualnewvar       0\n",
       "FireplaceQunewvar    0\n",
       "GarageTypenewvar     0\n",
       "dtype: int64"
      ]
     },
     "execution_count": 29,
     "metadata": {},
     "output_type": "execute_result"
    }
   ],
   "source": [
    "ana.isnull().sum()"
   ]
  }
 ],
 "metadata": {
  "kernelspec": {
   "display_name": "Python 3",
   "language": "python",
   "name": "python3"
  },
  "language_info": {
   "codemirror_mode": {
    "name": "ipython",
    "version": 3
   },
   "file_extension": ".py",
   "mimetype": "text/x-python",
   "name": "python",
   "nbconvert_exporter": "python",
   "pygments_lexer": "ipython3",
   "version": "3.7.12"
  },
  "papermill": {
   "default_parameters": {},
   "duration": 10.720707,
   "end_time": "2022-06-28T16:11:16.340707",
   "environment_variables": {},
   "exception": null,
   "input_path": "__notebook__.ipynb",
   "output_path": "__notebook__.ipynb",
   "parameters": {},
   "start_time": "2022-06-28T16:11:05.620000",
   "version": "2.3.4"
  }
 },
 "nbformat": 4,
 "nbformat_minor": 5
}
