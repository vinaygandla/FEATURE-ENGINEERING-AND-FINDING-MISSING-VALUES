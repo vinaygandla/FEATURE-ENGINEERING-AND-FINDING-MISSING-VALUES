{
 "cells": [
  {
   "cell_type": "code",
   "execution_count": 1,
   "id": "595a37ce",
   "metadata": {
    "_cell_guid": "b1076dfc-b9ad-4769-8c92-a6c4dae69d19",
    "_uuid": "8f2839f25d086af736a60e9eeb907d3b93b6e0e5",
    "execution": {
     "iopub.execute_input": "2022-06-29T15:27:49.296467Z",
     "iopub.status.busy": "2022-06-29T15:27:49.295475Z",
     "iopub.status.idle": "2022-06-29T15:27:49.333030Z",
     "shell.execute_reply": "2022-06-29T15:27:49.331833Z"
    },
    "papermill": {
     "duration": 0.05543,
     "end_time": "2022-06-29T15:27:49.337417",
     "exception": false,
     "start_time": "2022-06-29T15:27:49.281987",
     "status": "completed"
    },
    "tags": []
   },
   "outputs": [
    {
     "name": "stdout",
     "output_type": "stream",
     "text": [
      "/kaggle/input/vinay-sunny/House Price Regression Tecnique/sample_submission.csv\n",
      "/kaggle/input/vinay-sunny/House Price Regression Tecnique/data_description.txt\n",
      "/kaggle/input/vinay-sunny/House Price Regression Tecnique/train.csv\n",
      "/kaggle/input/vinay-sunny/House Price Regression Tecnique/Project On House Price data .ipynb\n",
      "/kaggle/input/vinay-sunny/House Price Regression Tecnique/test.csv\n",
      "/kaggle/input/titanic-ddd/Data_Train.csv\n",
      "/kaggle/input/titanic-ddd/Test_set.csv\n",
      "/kaggle/input/mercedesbenz-greener-manufacturing/train.csv\n",
      "/kaggle/input/mercedesbenz-greener-manufacturing/test.csv\n",
      "/kaggle/input/titanic/train_and_test2.csv\n"
     ]
    }
   ],
   "source": [
    "# This Python 3 environment comes with many helpful analytics libraries installed\n",
    "# It is defined by the kaggle/python Docker image: https://github.com/kaggle/docker-python\n",
    "# For example, here's several helpful packages to load\n",
    "\n",
    "import numpy as np # linear algebra\n",
    "import pandas as pd # data processing, CSV file I/O (e.g. pd.read_csv)\n",
    "\n",
    "# Input data files are available in the read-only \"../input/\" directory\n",
    "# For example, running this (by clicking run or pressing Shift+Enter) will list all files under the input directory\n",
    "\n",
    "import os\n",
    "for dirname, _, filenames in os.walk('/kaggle/input'):\n",
    "    for filename in filenames:\n",
    "        print(os.path.join(dirname, filename))\n",
    "\n",
    "# You can write up to 20GB to the current directory (/kaggle/working/) that gets preserved as output when you create a version using \"Save & Run All\" \n",
    "# You can also write temporary files to /kaggle/temp/, but they won't be saved outside of the current session"
   ]
  },
  {
   "cell_type": "code",
   "execution_count": 2,
   "id": "2124e978",
   "metadata": {
    "execution": {
     "iopub.execute_input": "2022-06-29T15:27:49.361678Z",
     "iopub.status.busy": "2022-06-29T15:27:49.360843Z",
     "iopub.status.idle": "2022-06-29T15:27:49.393248Z",
     "shell.execute_reply": "2022-06-29T15:27:49.392207Z"
    },
    "papermill": {
     "duration": 0.046648,
     "end_time": "2022-06-29T15:27:49.396261",
     "exception": false,
     "start_time": "2022-06-29T15:27:49.349613",
     "status": "completed"
    },
    "tags": []
   },
   "outputs": [],
   "source": [
    "# fat\n",
    "# imputation of high count of values to the nan values \n",
    "df=pd.read_csv('../input/vinay-sunny/House Price Regression Tecnique/train.csv',usecols=['BsmtQual','FireplaceQu','GarageType','SalePrice'])"
   ]
  },
  {
   "cell_type": "code",
   "execution_count": 3,
   "id": "d1a9efb2",
   "metadata": {
    "execution": {
     "iopub.execute_input": "2022-06-29T15:27:49.419032Z",
     "iopub.status.busy": "2022-06-29T15:27:49.417692Z",
     "iopub.status.idle": "2022-06-29T15:27:49.440916Z",
     "shell.execute_reply": "2022-06-29T15:27:49.439805Z"
    },
    "papermill": {
     "duration": 0.037547,
     "end_time": "2022-06-29T15:27:49.443740",
     "exception": false,
     "start_time": "2022-06-29T15:27:49.406193",
     "status": "completed"
    },
    "tags": []
   },
   "outputs": [
    {
     "data": {
      "text/html": [
       "<div>\n",
       "<style scoped>\n",
       "    .dataframe tbody tr th:only-of-type {\n",
       "        vertical-align: middle;\n",
       "    }\n",
       "\n",
       "    .dataframe tbody tr th {\n",
       "        vertical-align: top;\n",
       "    }\n",
       "\n",
       "    .dataframe thead th {\n",
       "        text-align: right;\n",
       "    }\n",
       "</style>\n",
       "<table border=\"1\" class=\"dataframe\">\n",
       "  <thead>\n",
       "    <tr style=\"text-align: right;\">\n",
       "      <th></th>\n",
       "      <th>BsmtQual</th>\n",
       "      <th>FireplaceQu</th>\n",
       "      <th>GarageType</th>\n",
       "      <th>SalePrice</th>\n",
       "    </tr>\n",
       "  </thead>\n",
       "  <tbody>\n",
       "    <tr>\n",
       "      <th>0</th>\n",
       "      <td>Gd</td>\n",
       "      <td>NaN</td>\n",
       "      <td>Attchd</td>\n",
       "      <td>208500</td>\n",
       "    </tr>\n",
       "    <tr>\n",
       "      <th>1</th>\n",
       "      <td>Gd</td>\n",
       "      <td>TA</td>\n",
       "      <td>Attchd</td>\n",
       "      <td>181500</td>\n",
       "    </tr>\n",
       "    <tr>\n",
       "      <th>2</th>\n",
       "      <td>Gd</td>\n",
       "      <td>TA</td>\n",
       "      <td>Attchd</td>\n",
       "      <td>223500</td>\n",
       "    </tr>\n",
       "    <tr>\n",
       "      <th>3</th>\n",
       "      <td>TA</td>\n",
       "      <td>Gd</td>\n",
       "      <td>Detchd</td>\n",
       "      <td>140000</td>\n",
       "    </tr>\n",
       "    <tr>\n",
       "      <th>4</th>\n",
       "      <td>Gd</td>\n",
       "      <td>TA</td>\n",
       "      <td>Attchd</td>\n",
       "      <td>250000</td>\n",
       "    </tr>\n",
       "  </tbody>\n",
       "</table>\n",
       "</div>"
      ],
      "text/plain": [
       "  BsmtQual FireplaceQu GarageType  SalePrice\n",
       "0       Gd         NaN     Attchd     208500\n",
       "1       Gd          TA     Attchd     181500\n",
       "2       Gd          TA     Attchd     223500\n",
       "3       TA          Gd     Detchd     140000\n",
       "4       Gd          TA     Attchd     250000"
      ]
     },
     "execution_count": 3,
     "metadata": {},
     "output_type": "execute_result"
    }
   ],
   "source": [
    "df.head(5)"
   ]
  },
  {
   "cell_type": "code",
   "execution_count": 4,
   "id": "b28c3f28",
   "metadata": {
    "execution": {
     "iopub.execute_input": "2022-06-29T15:27:49.467813Z",
     "iopub.status.busy": "2022-06-29T15:27:49.466928Z",
     "iopub.status.idle": "2022-06-29T15:27:49.472376Z",
     "shell.execute_reply": "2022-06-29T15:27:49.471360Z"
    },
    "papermill": {
     "duration": 0.021243,
     "end_time": "2022-06-29T15:27:49.474825",
     "exception": false,
     "start_time": "2022-06-29T15:27:49.453582",
     "status": "completed"
    },
    "tags": []
   },
   "outputs": [],
   "source": [
    "def impute_nan(df,variable):\n",
    "    most_frequent_category=df[variable].value_counts().index[0]\n",
    "    df[variable].fillna(most_frequent_category,inplace=True)"
   ]
  },
  {
   "cell_type": "code",
   "execution_count": 5,
   "id": "bb17bef4",
   "metadata": {
    "execution": {
     "iopub.execute_input": "2022-06-29T15:27:49.497092Z",
     "iopub.status.busy": "2022-06-29T15:27:49.496295Z",
     "iopub.status.idle": "2022-06-29T15:27:49.510995Z",
     "shell.execute_reply": "2022-06-29T15:27:49.509894Z"
    },
    "papermill": {
     "duration": 0.028901,
     "end_time": "2022-06-29T15:27:49.513613",
     "exception": false,
     "start_time": "2022-06-29T15:27:49.484712",
     "status": "completed"
    },
    "tags": []
   },
   "outputs": [],
   "source": [
    "for feature in ['BsmtQual','FireplaceQu','GarageType']:\n",
    "    impute_nan(df,feature)"
   ]
  },
  {
   "cell_type": "code",
   "execution_count": 6,
   "id": "ed29d6f1",
   "metadata": {
    "execution": {
     "iopub.execute_input": "2022-06-29T15:27:49.538717Z",
     "iopub.status.busy": "2022-06-29T15:27:49.537724Z",
     "iopub.status.idle": "2022-06-29T15:27:49.546900Z",
     "shell.execute_reply": "2022-06-29T15:27:49.545940Z"
    },
    "papermill": {
     "duration": 0.024434,
     "end_time": "2022-06-29T15:27:49.549511",
     "exception": false,
     "start_time": "2022-06-29T15:27:49.525077",
     "status": "completed"
    },
    "tags": []
   },
   "outputs": [
    {
     "data": {
      "text/plain": [
       "BsmtQual       0\n",
       "FireplaceQu    0\n",
       "GarageType     0\n",
       "SalePrice      0\n",
       "dtype: int64"
      ]
     },
     "execution_count": 6,
     "metadata": {},
     "output_type": "execute_result"
    }
   ],
   "source": [
    "df.isnull().sum()"
   ]
  },
  {
   "cell_type": "markdown",
   "id": "4778d35f",
   "metadata": {
    "execution": {
     "iopub.execute_input": "2022-06-28T15:34:49.814077Z",
     "iopub.status.busy": "2022-06-28T15:34:49.813704Z",
     "iopub.status.idle": "2022-06-28T15:34:49.818791Z",
     "shell.execute_reply": "2022-06-28T15:34:49.817661Z",
     "shell.execute_reply.started": "2022-06-28T15:34:49.814047Z"
    },
    "papermill": {
     "duration": 0.009998,
     "end_time": "2022-06-29T15:27:49.569666",
     "exception": false,
     "start_time": "2022-06-29T15:27:49.559668",
     "status": "completed"
    },
    "tags": []
   },
   "source": [
    "# # ##advantage \n",
    "# 1.easy to implement \n",
    "# 2.fast \n",
    "# # ##disadvantages \n",
    "# 1.since we are using more frequent labels it may use them in an over represented way if they are many nan's \n",
    "# 2.it distorts the relationship of the most frequent label "
   ]
  },
  {
   "cell_type": "code",
   "execution_count": 7,
   "id": "f4c35d02",
   "metadata": {
    "execution": {
     "iopub.execute_input": "2022-06-29T15:27:49.593821Z",
     "iopub.status.busy": "2022-06-29T15:27:49.593114Z",
     "iopub.status.idle": "2022-06-29T15:27:49.609249Z",
     "shell.execute_reply": "2022-06-29T15:27:49.608302Z"
    },
    "papermill": {
     "duration": 0.031412,
     "end_time": "2022-06-29T15:27:49.612801",
     "exception": false,
     "start_time": "2022-06-29T15:27:49.581389",
     "status": "completed"
    },
    "tags": []
   },
   "outputs": [],
   "source": [
    "# 2.0 tech (adding a variable to capture nan)\n",
    "df1=pd.read_csv('../input/vinay-sunny/House Price Regression Tecnique/train.csv',usecols=['BsmtQual','FireplaceQu','GarageType','SalePrice'])\n"
   ]
  },
  {
   "cell_type": "code",
   "execution_count": 8,
   "id": "3b3fe203",
   "metadata": {
    "execution": {
     "iopub.execute_input": "2022-06-29T15:27:49.636365Z",
     "iopub.status.busy": "2022-06-29T15:27:49.635666Z",
     "iopub.status.idle": "2022-06-29T15:27:49.647292Z",
     "shell.execute_reply": "2022-06-29T15:27:49.646319Z"
    },
    "papermill": {
     "duration": 0.027045,
     "end_time": "2022-06-29T15:27:49.649551",
     "exception": false,
     "start_time": "2022-06-29T15:27:49.622506",
     "status": "completed"
    },
    "tags": []
   },
   "outputs": [
    {
     "data": {
      "text/html": [
       "<div>\n",
       "<style scoped>\n",
       "    .dataframe tbody tr th:only-of-type {\n",
       "        vertical-align: middle;\n",
       "    }\n",
       "\n",
       "    .dataframe tbody tr th {\n",
       "        vertical-align: top;\n",
       "    }\n",
       "\n",
       "    .dataframe thead th {\n",
       "        text-align: right;\n",
       "    }\n",
       "</style>\n",
       "<table border=\"1\" class=\"dataframe\">\n",
       "  <thead>\n",
       "    <tr style=\"text-align: right;\">\n",
       "      <th></th>\n",
       "      <th>BsmtQual</th>\n",
       "      <th>FireplaceQu</th>\n",
       "      <th>GarageType</th>\n",
       "      <th>SalePrice</th>\n",
       "    </tr>\n",
       "  </thead>\n",
       "  <tbody>\n",
       "    <tr>\n",
       "      <th>0</th>\n",
       "      <td>Gd</td>\n",
       "      <td>NaN</td>\n",
       "      <td>Attchd</td>\n",
       "      <td>208500</td>\n",
       "    </tr>\n",
       "    <tr>\n",
       "      <th>1</th>\n",
       "      <td>Gd</td>\n",
       "      <td>TA</td>\n",
       "      <td>Attchd</td>\n",
       "      <td>181500</td>\n",
       "    </tr>\n",
       "    <tr>\n",
       "      <th>2</th>\n",
       "      <td>Gd</td>\n",
       "      <td>TA</td>\n",
       "      <td>Attchd</td>\n",
       "      <td>223500</td>\n",
       "    </tr>\n",
       "    <tr>\n",
       "      <th>3</th>\n",
       "      <td>TA</td>\n",
       "      <td>Gd</td>\n",
       "      <td>Detchd</td>\n",
       "      <td>140000</td>\n",
       "    </tr>\n",
       "    <tr>\n",
       "      <th>4</th>\n",
       "      <td>Gd</td>\n",
       "      <td>TA</td>\n",
       "      <td>Attchd</td>\n",
       "      <td>250000</td>\n",
       "    </tr>\n",
       "  </tbody>\n",
       "</table>\n",
       "</div>"
      ],
      "text/plain": [
       "  BsmtQual FireplaceQu GarageType  SalePrice\n",
       "0       Gd         NaN     Attchd     208500\n",
       "1       Gd          TA     Attchd     181500\n",
       "2       Gd          TA     Attchd     223500\n",
       "3       TA          Gd     Detchd     140000\n",
       "4       Gd          TA     Attchd     250000"
      ]
     },
     "execution_count": 8,
     "metadata": {},
     "output_type": "execute_result"
    }
   ],
   "source": [
    "df1.head()"
   ]
  },
  {
   "cell_type": "code",
   "execution_count": 9,
   "id": "45b465a3",
   "metadata": {
    "execution": {
     "iopub.execute_input": "2022-06-29T15:27:49.672900Z",
     "iopub.status.busy": "2022-06-29T15:27:49.672167Z",
     "iopub.status.idle": "2022-06-29T15:27:49.681321Z",
     "shell.execute_reply": "2022-06-29T15:27:49.680425Z"
    },
    "papermill": {
     "duration": 0.024316,
     "end_time": "2022-06-29T15:27:49.684355",
     "exception": false,
     "start_time": "2022-06-29T15:27:49.660039",
     "status": "completed"
    },
    "tags": []
   },
   "outputs": [],
   "source": [
    "df1['BsmtQual_var']=np.where(df1['BsmtQual'].isnull(),1,0)\n",
    "df1['FireplaceQu_var']=np.where(df1['FireplaceQu'].isnull(),1,0)"
   ]
  },
  {
   "cell_type": "code",
   "execution_count": 10,
   "id": "1c2c6c4a",
   "metadata": {
    "execution": {
     "iopub.execute_input": "2022-06-29T15:27:49.707457Z",
     "iopub.status.busy": "2022-06-29T15:27:49.706735Z",
     "iopub.status.idle": "2022-06-29T15:27:49.719533Z",
     "shell.execute_reply": "2022-06-29T15:27:49.718503Z"
    },
    "papermill": {
     "duration": 0.028033,
     "end_time": "2022-06-29T15:27:49.722348",
     "exception": false,
     "start_time": "2022-06-29T15:27:49.694315",
     "status": "completed"
    },
    "tags": []
   },
   "outputs": [
    {
     "data": {
      "text/html": [
       "<div>\n",
       "<style scoped>\n",
       "    .dataframe tbody tr th:only-of-type {\n",
       "        vertical-align: middle;\n",
       "    }\n",
       "\n",
       "    .dataframe tbody tr th {\n",
       "        vertical-align: top;\n",
       "    }\n",
       "\n",
       "    .dataframe thead th {\n",
       "        text-align: right;\n",
       "    }\n",
       "</style>\n",
       "<table border=\"1\" class=\"dataframe\">\n",
       "  <thead>\n",
       "    <tr style=\"text-align: right;\">\n",
       "      <th></th>\n",
       "      <th>BsmtQual</th>\n",
       "      <th>FireplaceQu</th>\n",
       "      <th>GarageType</th>\n",
       "      <th>SalePrice</th>\n",
       "      <th>BsmtQual_var</th>\n",
       "      <th>FireplaceQu_var</th>\n",
       "    </tr>\n",
       "  </thead>\n",
       "  <tbody>\n",
       "    <tr>\n",
       "      <th>0</th>\n",
       "      <td>Gd</td>\n",
       "      <td>NaN</td>\n",
       "      <td>Attchd</td>\n",
       "      <td>208500</td>\n",
       "      <td>0</td>\n",
       "      <td>1</td>\n",
       "    </tr>\n",
       "    <tr>\n",
       "      <th>1</th>\n",
       "      <td>Gd</td>\n",
       "      <td>TA</td>\n",
       "      <td>Attchd</td>\n",
       "      <td>181500</td>\n",
       "      <td>0</td>\n",
       "      <td>0</td>\n",
       "    </tr>\n",
       "    <tr>\n",
       "      <th>2</th>\n",
       "      <td>Gd</td>\n",
       "      <td>TA</td>\n",
       "      <td>Attchd</td>\n",
       "      <td>223500</td>\n",
       "      <td>0</td>\n",
       "      <td>0</td>\n",
       "    </tr>\n",
       "    <tr>\n",
       "      <th>3</th>\n",
       "      <td>TA</td>\n",
       "      <td>Gd</td>\n",
       "      <td>Detchd</td>\n",
       "      <td>140000</td>\n",
       "      <td>0</td>\n",
       "      <td>0</td>\n",
       "    </tr>\n",
       "    <tr>\n",
       "      <th>4</th>\n",
       "      <td>Gd</td>\n",
       "      <td>TA</td>\n",
       "      <td>Attchd</td>\n",
       "      <td>250000</td>\n",
       "      <td>0</td>\n",
       "      <td>0</td>\n",
       "    </tr>\n",
       "  </tbody>\n",
       "</table>\n",
       "</div>"
      ],
      "text/plain": [
       "  BsmtQual FireplaceQu GarageType  SalePrice  BsmtQual_var  FireplaceQu_var\n",
       "0       Gd         NaN     Attchd     208500             0                1\n",
       "1       Gd          TA     Attchd     181500             0                0\n",
       "2       Gd          TA     Attchd     223500             0                0\n",
       "3       TA          Gd     Detchd     140000             0                0\n",
       "4       Gd          TA     Attchd     250000             0                0"
      ]
     },
     "execution_count": 10,
     "metadata": {},
     "output_type": "execute_result"
    }
   ],
   "source": [
    "df1.head()"
   ]
  },
  {
   "cell_type": "code",
   "execution_count": 11,
   "id": "36d74904",
   "metadata": {
    "execution": {
     "iopub.execute_input": "2022-06-29T15:27:49.746035Z",
     "iopub.status.busy": "2022-06-29T15:27:49.745577Z",
     "iopub.status.idle": "2022-06-29T15:27:49.750962Z",
     "shell.execute_reply": "2022-06-29T15:27:49.750041Z"
    },
    "papermill": {
     "duration": 0.019633,
     "end_time": "2022-06-29T15:27:49.753475",
     "exception": false,
     "start_time": "2022-06-29T15:27:49.733842",
     "status": "completed"
    },
    "tags": []
   },
   "outputs": [],
   "source": [
    "frequent=df1['BsmtQual'].mode()[0]"
   ]
  },
  {
   "cell_type": "code",
   "execution_count": 12,
   "id": "ec2dbd78",
   "metadata": {
    "execution": {
     "iopub.execute_input": "2022-06-29T15:27:49.776014Z",
     "iopub.status.busy": "2022-06-29T15:27:49.775229Z",
     "iopub.status.idle": "2022-06-29T15:27:49.782206Z",
     "shell.execute_reply": "2022-06-29T15:27:49.780915Z"
    },
    "papermill": {
     "duration": 0.021568,
     "end_time": "2022-06-29T15:27:49.785068",
     "exception": false,
     "start_time": "2022-06-29T15:27:49.763500",
     "status": "completed"
    },
    "tags": []
   },
   "outputs": [],
   "source": [
    "df1['BsmtQual'].fillna(frequent,inplace=True)"
   ]
  },
  {
   "cell_type": "code",
   "execution_count": 13,
   "id": "67cdb5db",
   "metadata": {
    "execution": {
     "iopub.execute_input": "2022-06-29T15:27:49.809247Z",
     "iopub.status.busy": "2022-06-29T15:27:49.808456Z",
     "iopub.status.idle": "2022-06-29T15:27:49.820877Z",
     "shell.execute_reply": "2022-06-29T15:27:49.819590Z"
    },
    "papermill": {
     "duration": 0.027756,
     "end_time": "2022-06-29T15:27:49.823637",
     "exception": false,
     "start_time": "2022-06-29T15:27:49.795881",
     "status": "completed"
    },
    "tags": []
   },
   "outputs": [
    {
     "data": {
      "text/html": [
       "<div>\n",
       "<style scoped>\n",
       "    .dataframe tbody tr th:only-of-type {\n",
       "        vertical-align: middle;\n",
       "    }\n",
       "\n",
       "    .dataframe tbody tr th {\n",
       "        vertical-align: top;\n",
       "    }\n",
       "\n",
       "    .dataframe thead th {\n",
       "        text-align: right;\n",
       "    }\n",
       "</style>\n",
       "<table border=\"1\" class=\"dataframe\">\n",
       "  <thead>\n",
       "    <tr style=\"text-align: right;\">\n",
       "      <th></th>\n",
       "      <th>BsmtQual</th>\n",
       "      <th>FireplaceQu</th>\n",
       "      <th>GarageType</th>\n",
       "      <th>SalePrice</th>\n",
       "      <th>BsmtQual_var</th>\n",
       "      <th>FireplaceQu_var</th>\n",
       "    </tr>\n",
       "  </thead>\n",
       "  <tbody>\n",
       "    <tr>\n",
       "      <th>0</th>\n",
       "      <td>Gd</td>\n",
       "      <td>NaN</td>\n",
       "      <td>Attchd</td>\n",
       "      <td>208500</td>\n",
       "      <td>0</td>\n",
       "      <td>1</td>\n",
       "    </tr>\n",
       "    <tr>\n",
       "      <th>1</th>\n",
       "      <td>Gd</td>\n",
       "      <td>TA</td>\n",
       "      <td>Attchd</td>\n",
       "      <td>181500</td>\n",
       "      <td>0</td>\n",
       "      <td>0</td>\n",
       "    </tr>\n",
       "    <tr>\n",
       "      <th>2</th>\n",
       "      <td>Gd</td>\n",
       "      <td>TA</td>\n",
       "      <td>Attchd</td>\n",
       "      <td>223500</td>\n",
       "      <td>0</td>\n",
       "      <td>0</td>\n",
       "    </tr>\n",
       "    <tr>\n",
       "      <th>3</th>\n",
       "      <td>TA</td>\n",
       "      <td>Gd</td>\n",
       "      <td>Detchd</td>\n",
       "      <td>140000</td>\n",
       "      <td>0</td>\n",
       "      <td>0</td>\n",
       "    </tr>\n",
       "    <tr>\n",
       "      <th>4</th>\n",
       "      <td>Gd</td>\n",
       "      <td>TA</td>\n",
       "      <td>Attchd</td>\n",
       "      <td>250000</td>\n",
       "      <td>0</td>\n",
       "      <td>0</td>\n",
       "    </tr>\n",
       "    <tr>\n",
       "      <th>5</th>\n",
       "      <td>Gd</td>\n",
       "      <td>NaN</td>\n",
       "      <td>Attchd</td>\n",
       "      <td>143000</td>\n",
       "      <td>0</td>\n",
       "      <td>1</td>\n",
       "    </tr>\n",
       "    <tr>\n",
       "      <th>6</th>\n",
       "      <td>Ex</td>\n",
       "      <td>Gd</td>\n",
       "      <td>Attchd</td>\n",
       "      <td>307000</td>\n",
       "      <td>0</td>\n",
       "      <td>0</td>\n",
       "    </tr>\n",
       "    <tr>\n",
       "      <th>7</th>\n",
       "      <td>Gd</td>\n",
       "      <td>TA</td>\n",
       "      <td>Attchd</td>\n",
       "      <td>200000</td>\n",
       "      <td>0</td>\n",
       "      <td>0</td>\n",
       "    </tr>\n",
       "    <tr>\n",
       "      <th>8</th>\n",
       "      <td>TA</td>\n",
       "      <td>TA</td>\n",
       "      <td>Detchd</td>\n",
       "      <td>129900</td>\n",
       "      <td>0</td>\n",
       "      <td>0</td>\n",
       "    </tr>\n",
       "    <tr>\n",
       "      <th>9</th>\n",
       "      <td>TA</td>\n",
       "      <td>TA</td>\n",
       "      <td>Attchd</td>\n",
       "      <td>118000</td>\n",
       "      <td>0</td>\n",
       "      <td>0</td>\n",
       "    </tr>\n",
       "  </tbody>\n",
       "</table>\n",
       "</div>"
      ],
      "text/plain": [
       "  BsmtQual FireplaceQu GarageType  SalePrice  BsmtQual_var  FireplaceQu_var\n",
       "0       Gd         NaN     Attchd     208500             0                1\n",
       "1       Gd          TA     Attchd     181500             0                0\n",
       "2       Gd          TA     Attchd     223500             0                0\n",
       "3       TA          Gd     Detchd     140000             0                0\n",
       "4       Gd          TA     Attchd     250000             0                0\n",
       "5       Gd         NaN     Attchd     143000             0                1\n",
       "6       Ex          Gd     Attchd     307000             0                0\n",
       "7       Gd          TA     Attchd     200000             0                0\n",
       "8       TA          TA     Detchd     129900             0                0\n",
       "9       TA          TA     Attchd     118000             0                0"
      ]
     },
     "execution_count": 13,
     "metadata": {},
     "output_type": "execute_result"
    }
   ],
   "source": [
    "df1.head(10)"
   ]
  },
  {
   "cell_type": "code",
   "execution_count": 14,
   "id": "ffe88141",
   "metadata": {
    "execution": {
     "iopub.execute_input": "2022-06-29T15:27:49.846617Z",
     "iopub.status.busy": "2022-06-29T15:27:49.845737Z",
     "iopub.status.idle": "2022-06-29T15:27:49.852043Z",
     "shell.execute_reply": "2022-06-29T15:27:49.851043Z"
    },
    "papermill": {
     "duration": 0.021134,
     "end_time": "2022-06-29T15:27:49.855104",
     "exception": false,
     "start_time": "2022-06-29T15:27:49.833970",
     "status": "completed"
    },
    "tags": []
   },
   "outputs": [],
   "source": [
    "a=df1['FireplaceQu'].mode()[0]"
   ]
  },
  {
   "cell_type": "code",
   "execution_count": 15,
   "id": "3510ec69",
   "metadata": {
    "execution": {
     "iopub.execute_input": "2022-06-29T15:27:49.879890Z",
     "iopub.status.busy": "2022-06-29T15:27:49.879152Z",
     "iopub.status.idle": "2022-06-29T15:27:49.885548Z",
     "shell.execute_reply": "2022-06-29T15:27:49.884666Z"
    },
    "papermill": {
     "duration": 0.022055,
     "end_time": "2022-06-29T15:27:49.888235",
     "exception": false,
     "start_time": "2022-06-29T15:27:49.866180",
     "status": "completed"
    },
    "tags": []
   },
   "outputs": [],
   "source": [
    "df1['FireplaceQu'].fillna(a,inplace=True)"
   ]
  },
  {
   "cell_type": "code",
   "execution_count": 16,
   "id": "f70772ff",
   "metadata": {
    "execution": {
     "iopub.execute_input": "2022-06-29T15:27:49.910682Z",
     "iopub.status.busy": "2022-06-29T15:27:49.909632Z",
     "iopub.status.idle": "2022-06-29T15:27:49.916214Z",
     "shell.execute_reply": "2022-06-29T15:27:49.914662Z"
    },
    "papermill": {
     "duration": 0.021667,
     "end_time": "2022-06-29T15:27:49.919819",
     "exception": false,
     "start_time": "2022-06-29T15:27:49.898152",
     "status": "completed"
    },
    "tags": []
   },
   "outputs": [],
   "source": [
    "b=df1['GarageType'].mode()[0]"
   ]
  },
  {
   "cell_type": "code",
   "execution_count": 17,
   "id": "974c10b8",
   "metadata": {
    "execution": {
     "iopub.execute_input": "2022-06-29T15:27:49.943442Z",
     "iopub.status.busy": "2022-06-29T15:27:49.942974Z",
     "iopub.status.idle": "2022-06-29T15:27:49.950047Z",
     "shell.execute_reply": "2022-06-29T15:27:49.948793Z"
    },
    "papermill": {
     "duration": 0.021978,
     "end_time": "2022-06-29T15:27:49.952533",
     "exception": false,
     "start_time": "2022-06-29T15:27:49.930555",
     "status": "completed"
    },
    "tags": []
   },
   "outputs": [],
   "source": [
    "df1['GarageType_var']=np.where(df1['GarageType'].isnull(),1,0)"
   ]
  },
  {
   "cell_type": "code",
   "execution_count": 18,
   "id": "1d9aba4a",
   "metadata": {
    "execution": {
     "iopub.execute_input": "2022-06-29T15:27:49.977508Z",
     "iopub.status.busy": "2022-06-29T15:27:49.976691Z",
     "iopub.status.idle": "2022-06-29T15:27:49.983297Z",
     "shell.execute_reply": "2022-06-29T15:27:49.982334Z"
    },
    "papermill": {
     "duration": 0.021179,
     "end_time": "2022-06-29T15:27:49.985582",
     "exception": false,
     "start_time": "2022-06-29T15:27:49.964403",
     "status": "completed"
    },
    "tags": []
   },
   "outputs": [],
   "source": [
    "df1['GarageType'].fillna(b,inplace=True)"
   ]
  },
  {
   "cell_type": "code",
   "execution_count": 19,
   "id": "037b3bb5",
   "metadata": {
    "execution": {
     "iopub.execute_input": "2022-06-29T15:27:50.009111Z",
     "iopub.status.busy": "2022-06-29T15:27:50.008408Z",
     "iopub.status.idle": "2022-06-29T15:27:50.022789Z",
     "shell.execute_reply": "2022-06-29T15:27:50.021501Z"
    },
    "papermill": {
     "duration": 0.029523,
     "end_time": "2022-06-29T15:27:50.025616",
     "exception": false,
     "start_time": "2022-06-29T15:27:49.996093",
     "status": "completed"
    },
    "tags": []
   },
   "outputs": [
    {
     "data": {
      "text/html": [
       "<div>\n",
       "<style scoped>\n",
       "    .dataframe tbody tr th:only-of-type {\n",
       "        vertical-align: middle;\n",
       "    }\n",
       "\n",
       "    .dataframe tbody tr th {\n",
       "        vertical-align: top;\n",
       "    }\n",
       "\n",
       "    .dataframe thead th {\n",
       "        text-align: right;\n",
       "    }\n",
       "</style>\n",
       "<table border=\"1\" class=\"dataframe\">\n",
       "  <thead>\n",
       "    <tr style=\"text-align: right;\">\n",
       "      <th></th>\n",
       "      <th>BsmtQual</th>\n",
       "      <th>FireplaceQu</th>\n",
       "      <th>GarageType</th>\n",
       "      <th>SalePrice</th>\n",
       "      <th>BsmtQual_var</th>\n",
       "      <th>FireplaceQu_var</th>\n",
       "      <th>GarageType_var</th>\n",
       "    </tr>\n",
       "  </thead>\n",
       "  <tbody>\n",
       "    <tr>\n",
       "      <th>0</th>\n",
       "      <td>Gd</td>\n",
       "      <td>Gd</td>\n",
       "      <td>Attchd</td>\n",
       "      <td>208500</td>\n",
       "      <td>0</td>\n",
       "      <td>1</td>\n",
       "      <td>0</td>\n",
       "    </tr>\n",
       "    <tr>\n",
       "      <th>1</th>\n",
       "      <td>Gd</td>\n",
       "      <td>TA</td>\n",
       "      <td>Attchd</td>\n",
       "      <td>181500</td>\n",
       "      <td>0</td>\n",
       "      <td>0</td>\n",
       "      <td>0</td>\n",
       "    </tr>\n",
       "    <tr>\n",
       "      <th>2</th>\n",
       "      <td>Gd</td>\n",
       "      <td>TA</td>\n",
       "      <td>Attchd</td>\n",
       "      <td>223500</td>\n",
       "      <td>0</td>\n",
       "      <td>0</td>\n",
       "      <td>0</td>\n",
       "    </tr>\n",
       "    <tr>\n",
       "      <th>3</th>\n",
       "      <td>TA</td>\n",
       "      <td>Gd</td>\n",
       "      <td>Detchd</td>\n",
       "      <td>140000</td>\n",
       "      <td>0</td>\n",
       "      <td>0</td>\n",
       "      <td>0</td>\n",
       "    </tr>\n",
       "    <tr>\n",
       "      <th>4</th>\n",
       "      <td>Gd</td>\n",
       "      <td>TA</td>\n",
       "      <td>Attchd</td>\n",
       "      <td>250000</td>\n",
       "      <td>0</td>\n",
       "      <td>0</td>\n",
       "      <td>0</td>\n",
       "    </tr>\n",
       "    <tr>\n",
       "      <th>5</th>\n",
       "      <td>Gd</td>\n",
       "      <td>Gd</td>\n",
       "      <td>Attchd</td>\n",
       "      <td>143000</td>\n",
       "      <td>0</td>\n",
       "      <td>1</td>\n",
       "      <td>0</td>\n",
       "    </tr>\n",
       "    <tr>\n",
       "      <th>6</th>\n",
       "      <td>Ex</td>\n",
       "      <td>Gd</td>\n",
       "      <td>Attchd</td>\n",
       "      <td>307000</td>\n",
       "      <td>0</td>\n",
       "      <td>0</td>\n",
       "      <td>0</td>\n",
       "    </tr>\n",
       "    <tr>\n",
       "      <th>7</th>\n",
       "      <td>Gd</td>\n",
       "      <td>TA</td>\n",
       "      <td>Attchd</td>\n",
       "      <td>200000</td>\n",
       "      <td>0</td>\n",
       "      <td>0</td>\n",
       "      <td>0</td>\n",
       "    </tr>\n",
       "    <tr>\n",
       "      <th>8</th>\n",
       "      <td>TA</td>\n",
       "      <td>TA</td>\n",
       "      <td>Detchd</td>\n",
       "      <td>129900</td>\n",
       "      <td>0</td>\n",
       "      <td>0</td>\n",
       "      <td>0</td>\n",
       "    </tr>\n",
       "    <tr>\n",
       "      <th>9</th>\n",
       "      <td>TA</td>\n",
       "      <td>TA</td>\n",
       "      <td>Attchd</td>\n",
       "      <td>118000</td>\n",
       "      <td>0</td>\n",
       "      <td>0</td>\n",
       "      <td>0</td>\n",
       "    </tr>\n",
       "  </tbody>\n",
       "</table>\n",
       "</div>"
      ],
      "text/plain": [
       "  BsmtQual FireplaceQu GarageType  SalePrice  BsmtQual_var  FireplaceQu_var  \\\n",
       "0       Gd          Gd     Attchd     208500             0                1   \n",
       "1       Gd          TA     Attchd     181500             0                0   \n",
       "2       Gd          TA     Attchd     223500             0                0   \n",
       "3       TA          Gd     Detchd     140000             0                0   \n",
       "4       Gd          TA     Attchd     250000             0                0   \n",
       "5       Gd          Gd     Attchd     143000             0                1   \n",
       "6       Ex          Gd     Attchd     307000             0                0   \n",
       "7       Gd          TA     Attchd     200000             0                0   \n",
       "8       TA          TA     Detchd     129900             0                0   \n",
       "9       TA          TA     Attchd     118000             0                0   \n",
       "\n",
       "   GarageType_var  \n",
       "0               0  \n",
       "1               0  \n",
       "2               0  \n",
       "3               0  \n",
       "4               0  \n",
       "5               0  \n",
       "6               0  \n",
       "7               0  \n",
       "8               0  \n",
       "9               0  "
      ]
     },
     "execution_count": 19,
     "metadata": {},
     "output_type": "execute_result"
    }
   ],
   "source": [
    "df1.head(10)"
   ]
  },
  {
   "cell_type": "code",
   "execution_count": 20,
   "id": "30b5564a",
   "metadata": {
    "execution": {
     "iopub.execute_input": "2022-06-29T15:27:50.051056Z",
     "iopub.status.busy": "2022-06-29T15:27:50.050234Z",
     "iopub.status.idle": "2022-06-29T15:27:50.058573Z",
     "shell.execute_reply": "2022-06-29T15:27:50.057499Z"
    },
    "papermill": {
     "duration": 0.024275,
     "end_time": "2022-06-29T15:27:50.061032",
     "exception": false,
     "start_time": "2022-06-29T15:27:50.036757",
     "status": "completed"
    },
    "tags": []
   },
   "outputs": [
    {
     "data": {
      "text/plain": [
       "81"
      ]
     },
     "execution_count": 20,
     "metadata": {},
     "output_type": "execute_result"
    }
   ],
   "source": [
    "(df1['GarageType_var']==1).sum()"
   ]
  },
  {
   "cell_type": "code",
   "execution_count": 21,
   "id": "f0e5aab3",
   "metadata": {
    "execution": {
     "iopub.execute_input": "2022-06-29T15:27:50.087576Z",
     "iopub.status.busy": "2022-06-29T15:27:50.086734Z",
     "iopub.status.idle": "2022-06-29T15:27:50.091830Z",
     "shell.execute_reply": "2022-06-29T15:27:50.090851Z"
    },
    "papermill": {
     "duration": 0.02193,
     "end_time": "2022-06-29T15:27:50.094222",
     "exception": false,
     "start_time": "2022-06-29T15:27:50.072292",
     "status": "completed"
    },
    "tags": []
   },
   "outputs": [],
   "source": [
    "# suppose if you have more frequent categories, we just replace nan with a new category "
   ]
  },
  {
   "cell_type": "code",
   "execution_count": 22,
   "id": "dd2741e2",
   "metadata": {
    "execution": {
     "iopub.execute_input": "2022-06-29T15:27:50.120008Z",
     "iopub.status.busy": "2022-06-29T15:27:50.119135Z",
     "iopub.status.idle": "2022-06-29T15:27:50.136335Z",
     "shell.execute_reply": "2022-06-29T15:27:50.135222Z"
    },
    "papermill": {
     "duration": 0.033658,
     "end_time": "2022-06-29T15:27:50.139016",
     "exception": false,
     "start_time": "2022-06-29T15:27:50.105358",
     "status": "completed"
    },
    "tags": []
   },
   "outputs": [],
   "source": [
    "ana=pd.read_csv('../input/vinay-sunny/House Price Regression Tecnique/train.csv',usecols=['BsmtQual','FireplaceQu','GarageType','SalePrice'])"
   ]
  },
  {
   "cell_type": "code",
   "execution_count": 23,
   "id": "19c1485c",
   "metadata": {
    "execution": {
     "iopub.execute_input": "2022-06-29T15:27:50.165539Z",
     "iopub.status.busy": "2022-06-29T15:27:50.164739Z",
     "iopub.status.idle": "2022-06-29T15:27:50.181679Z",
     "shell.execute_reply": "2022-06-29T15:27:50.180799Z"
    },
    "papermill": {
     "duration": 0.034209,
     "end_time": "2022-06-29T15:27:50.184371",
     "exception": false,
     "start_time": "2022-06-29T15:27:50.150162",
     "status": "completed"
    },
    "tags": []
   },
   "outputs": [
    {
     "data": {
      "text/html": [
       "<div>\n",
       "<style scoped>\n",
       "    .dataframe tbody tr th:only-of-type {\n",
       "        vertical-align: middle;\n",
       "    }\n",
       "\n",
       "    .dataframe tbody tr th {\n",
       "        vertical-align: top;\n",
       "    }\n",
       "\n",
       "    .dataframe thead th {\n",
       "        text-align: right;\n",
       "    }\n",
       "</style>\n",
       "<table border=\"1\" class=\"dataframe\">\n",
       "  <thead>\n",
       "    <tr style=\"text-align: right;\">\n",
       "      <th></th>\n",
       "      <th>BsmtQual</th>\n",
       "      <th>FireplaceQu</th>\n",
       "      <th>GarageType</th>\n",
       "      <th>SalePrice</th>\n",
       "    </tr>\n",
       "  </thead>\n",
       "  <tbody>\n",
       "    <tr>\n",
       "      <th>0</th>\n",
       "      <td>Gd</td>\n",
       "      <td>NaN</td>\n",
       "      <td>Attchd</td>\n",
       "      <td>208500</td>\n",
       "    </tr>\n",
       "    <tr>\n",
       "      <th>1</th>\n",
       "      <td>Gd</td>\n",
       "      <td>TA</td>\n",
       "      <td>Attchd</td>\n",
       "      <td>181500</td>\n",
       "    </tr>\n",
       "    <tr>\n",
       "      <th>2</th>\n",
       "      <td>Gd</td>\n",
       "      <td>TA</td>\n",
       "      <td>Attchd</td>\n",
       "      <td>223500</td>\n",
       "    </tr>\n",
       "    <tr>\n",
       "      <th>3</th>\n",
       "      <td>TA</td>\n",
       "      <td>Gd</td>\n",
       "      <td>Detchd</td>\n",
       "      <td>140000</td>\n",
       "    </tr>\n",
       "    <tr>\n",
       "      <th>4</th>\n",
       "      <td>Gd</td>\n",
       "      <td>TA</td>\n",
       "      <td>Attchd</td>\n",
       "      <td>250000</td>\n",
       "    </tr>\n",
       "    <tr>\n",
       "      <th>...</th>\n",
       "      <td>...</td>\n",
       "      <td>...</td>\n",
       "      <td>...</td>\n",
       "      <td>...</td>\n",
       "    </tr>\n",
       "    <tr>\n",
       "      <th>1455</th>\n",
       "      <td>Gd</td>\n",
       "      <td>TA</td>\n",
       "      <td>Attchd</td>\n",
       "      <td>175000</td>\n",
       "    </tr>\n",
       "    <tr>\n",
       "      <th>1456</th>\n",
       "      <td>Gd</td>\n",
       "      <td>TA</td>\n",
       "      <td>Attchd</td>\n",
       "      <td>210000</td>\n",
       "    </tr>\n",
       "    <tr>\n",
       "      <th>1457</th>\n",
       "      <td>TA</td>\n",
       "      <td>Gd</td>\n",
       "      <td>Attchd</td>\n",
       "      <td>266500</td>\n",
       "    </tr>\n",
       "    <tr>\n",
       "      <th>1458</th>\n",
       "      <td>TA</td>\n",
       "      <td>NaN</td>\n",
       "      <td>Attchd</td>\n",
       "      <td>142125</td>\n",
       "    </tr>\n",
       "    <tr>\n",
       "      <th>1459</th>\n",
       "      <td>TA</td>\n",
       "      <td>NaN</td>\n",
       "      <td>Attchd</td>\n",
       "      <td>147500</td>\n",
       "    </tr>\n",
       "  </tbody>\n",
       "</table>\n",
       "<p>1460 rows × 4 columns</p>\n",
       "</div>"
      ],
      "text/plain": [
       "     BsmtQual FireplaceQu GarageType  SalePrice\n",
       "0          Gd         NaN     Attchd     208500\n",
       "1          Gd          TA     Attchd     181500\n",
       "2          Gd          TA     Attchd     223500\n",
       "3          TA          Gd     Detchd     140000\n",
       "4          Gd          TA     Attchd     250000\n",
       "...       ...         ...        ...        ...\n",
       "1455       Gd          TA     Attchd     175000\n",
       "1456       Gd          TA     Attchd     210000\n",
       "1457       TA          Gd     Attchd     266500\n",
       "1458       TA         NaN     Attchd     142125\n",
       "1459       TA         NaN     Attchd     147500\n",
       "\n",
       "[1460 rows x 4 columns]"
      ]
     },
     "execution_count": 23,
     "metadata": {},
     "output_type": "execute_result"
    }
   ],
   "source": [
    "ana"
   ]
  },
  {
   "cell_type": "code",
   "execution_count": 24,
   "id": "7292ed80",
   "metadata": {
    "execution": {
     "iopub.execute_input": "2022-06-29T15:27:50.208103Z",
     "iopub.status.busy": "2022-06-29T15:27:50.207450Z",
     "iopub.status.idle": "2022-06-29T15:27:50.212602Z",
     "shell.execute_reply": "2022-06-29T15:27:50.211708Z"
    },
    "papermill": {
     "duration": 0.019494,
     "end_time": "2022-06-29T15:27:50.214938",
     "exception": false,
     "start_time": "2022-06-29T15:27:50.195444",
     "status": "completed"
    },
    "tags": []
   },
   "outputs": [],
   "source": [
    "def con_nan(ana,variable):\n",
    "    ana[variable+'newvar']=np.where(ana[variable].isnull(),'Missing',ana[variable])"
   ]
  },
  {
   "cell_type": "code",
   "execution_count": 25,
   "id": "a5e9063b",
   "metadata": {
    "execution": {
     "iopub.execute_input": "2022-06-29T15:27:50.238044Z",
     "iopub.status.busy": "2022-06-29T15:27:50.237541Z",
     "iopub.status.idle": "2022-06-29T15:27:50.245276Z",
     "shell.execute_reply": "2022-06-29T15:27:50.244362Z"
    },
    "papermill": {
     "duration": 0.022635,
     "end_time": "2022-06-29T15:27:50.248074",
     "exception": false,
     "start_time": "2022-06-29T15:27:50.225439",
     "status": "completed"
    },
    "tags": []
   },
   "outputs": [],
   "source": [
    "con_nan(ana,'BsmtQual')\n",
    "con_nan(ana,'FireplaceQu')\n",
    "con_nan(ana,'GarageType')"
   ]
  },
  {
   "cell_type": "code",
   "execution_count": 26,
   "id": "3d3496fc",
   "metadata": {
    "execution": {
     "iopub.execute_input": "2022-06-29T15:27:50.272124Z",
     "iopub.status.busy": "2022-06-29T15:27:50.270754Z",
     "iopub.status.idle": "2022-06-29T15:27:50.286093Z",
     "shell.execute_reply": "2022-06-29T15:27:50.284866Z"
    },
    "papermill": {
     "duration": 0.029757,
     "end_time": "2022-06-29T15:27:50.288703",
     "exception": false,
     "start_time": "2022-06-29T15:27:50.258946",
     "status": "completed"
    },
    "tags": []
   },
   "outputs": [
    {
     "data": {
      "text/html": [
       "<div>\n",
       "<style scoped>\n",
       "    .dataframe tbody tr th:only-of-type {\n",
       "        vertical-align: middle;\n",
       "    }\n",
       "\n",
       "    .dataframe tbody tr th {\n",
       "        vertical-align: top;\n",
       "    }\n",
       "\n",
       "    .dataframe thead th {\n",
       "        text-align: right;\n",
       "    }\n",
       "</style>\n",
       "<table border=\"1\" class=\"dataframe\">\n",
       "  <thead>\n",
       "    <tr style=\"text-align: right;\">\n",
       "      <th></th>\n",
       "      <th>BsmtQual</th>\n",
       "      <th>FireplaceQu</th>\n",
       "      <th>GarageType</th>\n",
       "      <th>SalePrice</th>\n",
       "      <th>BsmtQualnewvar</th>\n",
       "      <th>FireplaceQunewvar</th>\n",
       "      <th>GarageTypenewvar</th>\n",
       "    </tr>\n",
       "  </thead>\n",
       "  <tbody>\n",
       "    <tr>\n",
       "      <th>0</th>\n",
       "      <td>Gd</td>\n",
       "      <td>NaN</td>\n",
       "      <td>Attchd</td>\n",
       "      <td>208500</td>\n",
       "      <td>Gd</td>\n",
       "      <td>Missing</td>\n",
       "      <td>Attchd</td>\n",
       "    </tr>\n",
       "    <tr>\n",
       "      <th>1</th>\n",
       "      <td>Gd</td>\n",
       "      <td>TA</td>\n",
       "      <td>Attchd</td>\n",
       "      <td>181500</td>\n",
       "      <td>Gd</td>\n",
       "      <td>TA</td>\n",
       "      <td>Attchd</td>\n",
       "    </tr>\n",
       "    <tr>\n",
       "      <th>2</th>\n",
       "      <td>Gd</td>\n",
       "      <td>TA</td>\n",
       "      <td>Attchd</td>\n",
       "      <td>223500</td>\n",
       "      <td>Gd</td>\n",
       "      <td>TA</td>\n",
       "      <td>Attchd</td>\n",
       "    </tr>\n",
       "    <tr>\n",
       "      <th>3</th>\n",
       "      <td>TA</td>\n",
       "      <td>Gd</td>\n",
       "      <td>Detchd</td>\n",
       "      <td>140000</td>\n",
       "      <td>TA</td>\n",
       "      <td>Gd</td>\n",
       "      <td>Detchd</td>\n",
       "    </tr>\n",
       "    <tr>\n",
       "      <th>4</th>\n",
       "      <td>Gd</td>\n",
       "      <td>TA</td>\n",
       "      <td>Attchd</td>\n",
       "      <td>250000</td>\n",
       "      <td>Gd</td>\n",
       "      <td>TA</td>\n",
       "      <td>Attchd</td>\n",
       "    </tr>\n",
       "    <tr>\n",
       "      <th>5</th>\n",
       "      <td>Gd</td>\n",
       "      <td>NaN</td>\n",
       "      <td>Attchd</td>\n",
       "      <td>143000</td>\n",
       "      <td>Gd</td>\n",
       "      <td>Missing</td>\n",
       "      <td>Attchd</td>\n",
       "    </tr>\n",
       "    <tr>\n",
       "      <th>6</th>\n",
       "      <td>Ex</td>\n",
       "      <td>Gd</td>\n",
       "      <td>Attchd</td>\n",
       "      <td>307000</td>\n",
       "      <td>Ex</td>\n",
       "      <td>Gd</td>\n",
       "      <td>Attchd</td>\n",
       "    </tr>\n",
       "    <tr>\n",
       "      <th>7</th>\n",
       "      <td>Gd</td>\n",
       "      <td>TA</td>\n",
       "      <td>Attchd</td>\n",
       "      <td>200000</td>\n",
       "      <td>Gd</td>\n",
       "      <td>TA</td>\n",
       "      <td>Attchd</td>\n",
       "    </tr>\n",
       "    <tr>\n",
       "      <th>8</th>\n",
       "      <td>TA</td>\n",
       "      <td>TA</td>\n",
       "      <td>Detchd</td>\n",
       "      <td>129900</td>\n",
       "      <td>TA</td>\n",
       "      <td>TA</td>\n",
       "      <td>Detchd</td>\n",
       "    </tr>\n",
       "    <tr>\n",
       "      <th>9</th>\n",
       "      <td>TA</td>\n",
       "      <td>TA</td>\n",
       "      <td>Attchd</td>\n",
       "      <td>118000</td>\n",
       "      <td>TA</td>\n",
       "      <td>TA</td>\n",
       "      <td>Attchd</td>\n",
       "    </tr>\n",
       "  </tbody>\n",
       "</table>\n",
       "</div>"
      ],
      "text/plain": [
       "  BsmtQual FireplaceQu GarageType  SalePrice BsmtQualnewvar FireplaceQunewvar  \\\n",
       "0       Gd         NaN     Attchd     208500             Gd           Missing   \n",
       "1       Gd          TA     Attchd     181500             Gd                TA   \n",
       "2       Gd          TA     Attchd     223500             Gd                TA   \n",
       "3       TA          Gd     Detchd     140000             TA                Gd   \n",
       "4       Gd          TA     Attchd     250000             Gd                TA   \n",
       "5       Gd         NaN     Attchd     143000             Gd           Missing   \n",
       "6       Ex          Gd     Attchd     307000             Ex                Gd   \n",
       "7       Gd          TA     Attchd     200000             Gd                TA   \n",
       "8       TA          TA     Detchd     129900             TA                TA   \n",
       "9       TA          TA     Attchd     118000             TA                TA   \n",
       "\n",
       "  GarageTypenewvar  \n",
       "0           Attchd  \n",
       "1           Attchd  \n",
       "2           Attchd  \n",
       "3           Detchd  \n",
       "4           Attchd  \n",
       "5           Attchd  \n",
       "6           Attchd  \n",
       "7           Attchd  \n",
       "8           Detchd  \n",
       "9           Attchd  "
      ]
     },
     "execution_count": 26,
     "metadata": {},
     "output_type": "execute_result"
    }
   ],
   "source": [
    "ana.head(10)"
   ]
  },
  {
   "cell_type": "code",
   "execution_count": 27,
   "id": "8bd5d161",
   "metadata": {
    "execution": {
     "iopub.execute_input": "2022-06-29T15:27:50.312815Z",
     "iopub.status.busy": "2022-06-29T15:27:50.312314Z",
     "iopub.status.idle": "2022-06-29T15:27:50.323217Z",
     "shell.execute_reply": "2022-06-29T15:27:50.321722Z"
    },
    "papermill": {
     "duration": 0.025853,
     "end_time": "2022-06-29T15:27:50.325814",
     "exception": false,
     "start_time": "2022-06-29T15:27:50.299961",
     "status": "completed"
    },
    "tags": []
   },
   "outputs": [],
   "source": [
    "# now we can drop the columns after filling the nan boxes \n",
    "ana.drop(columns=['BsmtQual','FireplaceQu','GarageType'],axis=1,inplace=True)"
   ]
  },
  {
   "cell_type": "code",
   "execution_count": 28,
   "id": "04264a6c",
   "metadata": {
    "execution": {
     "iopub.execute_input": "2022-06-29T15:27:50.353464Z",
     "iopub.status.busy": "2022-06-29T15:27:50.352613Z",
     "iopub.status.idle": "2022-06-29T15:27:50.367763Z",
     "shell.execute_reply": "2022-06-29T15:27:50.366542Z"
    },
    "papermill": {
     "duration": 0.032132,
     "end_time": "2022-06-29T15:27:50.370670",
     "exception": false,
     "start_time": "2022-06-29T15:27:50.338538",
     "status": "completed"
    },
    "tags": []
   },
   "outputs": [
    {
     "data": {
      "text/html": [
       "<div>\n",
       "<style scoped>\n",
       "    .dataframe tbody tr th:only-of-type {\n",
       "        vertical-align: middle;\n",
       "    }\n",
       "\n",
       "    .dataframe tbody tr th {\n",
       "        vertical-align: top;\n",
       "    }\n",
       "\n",
       "    .dataframe thead th {\n",
       "        text-align: right;\n",
       "    }\n",
       "</style>\n",
       "<table border=\"1\" class=\"dataframe\">\n",
       "  <thead>\n",
       "    <tr style=\"text-align: right;\">\n",
       "      <th></th>\n",
       "      <th>SalePrice</th>\n",
       "      <th>BsmtQualnewvar</th>\n",
       "      <th>FireplaceQunewvar</th>\n",
       "      <th>GarageTypenewvar</th>\n",
       "    </tr>\n",
       "  </thead>\n",
       "  <tbody>\n",
       "    <tr>\n",
       "      <th>0</th>\n",
       "      <td>208500</td>\n",
       "      <td>Gd</td>\n",
       "      <td>Missing</td>\n",
       "      <td>Attchd</td>\n",
       "    </tr>\n",
       "    <tr>\n",
       "      <th>1</th>\n",
       "      <td>181500</td>\n",
       "      <td>Gd</td>\n",
       "      <td>TA</td>\n",
       "      <td>Attchd</td>\n",
       "    </tr>\n",
       "    <tr>\n",
       "      <th>2</th>\n",
       "      <td>223500</td>\n",
       "      <td>Gd</td>\n",
       "      <td>TA</td>\n",
       "      <td>Attchd</td>\n",
       "    </tr>\n",
       "    <tr>\n",
       "      <th>3</th>\n",
       "      <td>140000</td>\n",
       "      <td>TA</td>\n",
       "      <td>Gd</td>\n",
       "      <td>Detchd</td>\n",
       "    </tr>\n",
       "    <tr>\n",
       "      <th>4</th>\n",
       "      <td>250000</td>\n",
       "      <td>Gd</td>\n",
       "      <td>TA</td>\n",
       "      <td>Attchd</td>\n",
       "    </tr>\n",
       "    <tr>\n",
       "      <th>5</th>\n",
       "      <td>143000</td>\n",
       "      <td>Gd</td>\n",
       "      <td>Missing</td>\n",
       "      <td>Attchd</td>\n",
       "    </tr>\n",
       "    <tr>\n",
       "      <th>6</th>\n",
       "      <td>307000</td>\n",
       "      <td>Ex</td>\n",
       "      <td>Gd</td>\n",
       "      <td>Attchd</td>\n",
       "    </tr>\n",
       "    <tr>\n",
       "      <th>7</th>\n",
       "      <td>200000</td>\n",
       "      <td>Gd</td>\n",
       "      <td>TA</td>\n",
       "      <td>Attchd</td>\n",
       "    </tr>\n",
       "    <tr>\n",
       "      <th>8</th>\n",
       "      <td>129900</td>\n",
       "      <td>TA</td>\n",
       "      <td>TA</td>\n",
       "      <td>Detchd</td>\n",
       "    </tr>\n",
       "    <tr>\n",
       "      <th>9</th>\n",
       "      <td>118000</td>\n",
       "      <td>TA</td>\n",
       "      <td>TA</td>\n",
       "      <td>Attchd</td>\n",
       "    </tr>\n",
       "  </tbody>\n",
       "</table>\n",
       "</div>"
      ],
      "text/plain": [
       "   SalePrice BsmtQualnewvar FireplaceQunewvar GarageTypenewvar\n",
       "0     208500             Gd           Missing           Attchd\n",
       "1     181500             Gd                TA           Attchd\n",
       "2     223500             Gd                TA           Attchd\n",
       "3     140000             TA                Gd           Detchd\n",
       "4     250000             Gd                TA           Attchd\n",
       "5     143000             Gd           Missing           Attchd\n",
       "6     307000             Ex                Gd           Attchd\n",
       "7     200000             Gd                TA           Attchd\n",
       "8     129900             TA                TA           Detchd\n",
       "9     118000             TA                TA           Attchd"
      ]
     },
     "execution_count": 28,
     "metadata": {},
     "output_type": "execute_result"
    }
   ],
   "source": [
    "ana.head(10)"
   ]
  },
  {
   "cell_type": "code",
   "execution_count": 29,
   "id": "aa89633e",
   "metadata": {
    "execution": {
     "iopub.execute_input": "2022-06-29T15:27:50.396527Z",
     "iopub.status.busy": "2022-06-29T15:27:50.396053Z",
     "iopub.status.idle": "2022-06-29T15:27:50.408578Z",
     "shell.execute_reply": "2022-06-29T15:27:50.407329Z"
    },
    "papermill": {
     "duration": 0.028854,
     "end_time": "2022-06-29T15:27:50.411534",
     "exception": false,
     "start_time": "2022-06-29T15:27:50.382680",
     "status": "completed"
    },
    "tags": []
   },
   "outputs": [
    {
     "data": {
      "text/plain": [
       "SalePrice            0\n",
       "BsmtQualnewvar       0\n",
       "FireplaceQunewvar    0\n",
       "GarageTypenewvar     0\n",
       "dtype: int64"
      ]
     },
     "execution_count": 29,
     "metadata": {},
     "output_type": "execute_result"
    }
   ],
   "source": [
    "ana.isnull().sum()"
   ]
  },
  {
   "cell_type": "markdown",
   "id": "d75cdb93",
   "metadata": {
    "papermill": {
     "duration": 0.01183,
     "end_time": "2022-06-29T15:27:50.435013",
     "exception": false,
     "start_time": "2022-06-29T15:27:50.423183",
     "status": "completed"
    },
    "tags": []
   },
   "source": [
    "# ONE HOT ENCODING\n"
   ]
  },
  {
   "cell_type": "code",
   "execution_count": 30,
   "id": "b95b75f1",
   "metadata": {
    "execution": {
     "iopub.execute_input": "2022-06-29T15:27:50.462196Z",
     "iopub.status.busy": "2022-06-29T15:27:50.461679Z",
     "iopub.status.idle": "2022-06-29T15:27:50.486997Z",
     "shell.execute_reply": "2022-06-29T15:27:50.485971Z"
    },
    "papermill": {
     "duration": 0.042996,
     "end_time": "2022-06-29T15:27:50.490413",
     "exception": false,
     "start_time": "2022-06-29T15:27:50.447417",
     "status": "completed"
    },
    "tags": []
   },
   "outputs": [
    {
     "data": {
      "text/html": [
       "<div>\n",
       "<style scoped>\n",
       "    .dataframe tbody tr th:only-of-type {\n",
       "        vertical-align: middle;\n",
       "    }\n",
       "\n",
       "    .dataframe tbody tr th {\n",
       "        vertical-align: top;\n",
       "    }\n",
       "\n",
       "    .dataframe thead th {\n",
       "        text-align: right;\n",
       "    }\n",
       "</style>\n",
       "<table border=\"1\" class=\"dataframe\">\n",
       "  <thead>\n",
       "    <tr style=\"text-align: right;\">\n",
       "      <th></th>\n",
       "      <th>Sex</th>\n",
       "    </tr>\n",
       "  </thead>\n",
       "  <tbody>\n",
       "    <tr>\n",
       "      <th>0</th>\n",
       "      <td>0</td>\n",
       "    </tr>\n",
       "    <tr>\n",
       "      <th>1</th>\n",
       "      <td>1</td>\n",
       "    </tr>\n",
       "    <tr>\n",
       "      <th>2</th>\n",
       "      <td>1</td>\n",
       "    </tr>\n",
       "    <tr>\n",
       "      <th>3</th>\n",
       "      <td>1</td>\n",
       "    </tr>\n",
       "    <tr>\n",
       "      <th>4</th>\n",
       "      <td>0</td>\n",
       "    </tr>\n",
       "    <tr>\n",
       "      <th>...</th>\n",
       "      <td>...</td>\n",
       "    </tr>\n",
       "    <tr>\n",
       "      <th>1304</th>\n",
       "      <td>0</td>\n",
       "    </tr>\n",
       "    <tr>\n",
       "      <th>1305</th>\n",
       "      <td>1</td>\n",
       "    </tr>\n",
       "    <tr>\n",
       "      <th>1306</th>\n",
       "      <td>0</td>\n",
       "    </tr>\n",
       "    <tr>\n",
       "      <th>1307</th>\n",
       "      <td>0</td>\n",
       "    </tr>\n",
       "    <tr>\n",
       "      <th>1308</th>\n",
       "      <td>0</td>\n",
       "    </tr>\n",
       "  </tbody>\n",
       "</table>\n",
       "<p>1309 rows × 1 columns</p>\n",
       "</div>"
      ],
      "text/plain": [
       "      Sex\n",
       "0       0\n",
       "1       1\n",
       "2       1\n",
       "3       1\n",
       "4       0\n",
       "...   ...\n",
       "1304    0\n",
       "1305    1\n",
       "1306    0\n",
       "1307    0\n",
       "1308    0\n",
       "\n",
       "[1309 rows x 1 columns]"
      ]
     },
     "execution_count": 30,
     "metadata": {},
     "output_type": "execute_result"
    }
   ],
   "source": [
    "# this is one of the technique to handle categorical data \n",
    "df5=pd.read_csv(\"../input/titanic/train_and_test2.csv\",usecols=[\"Sex\"])\n",
    "df5"
   ]
  },
  {
   "cell_type": "code",
   "execution_count": 31,
   "id": "c78efa79",
   "metadata": {
    "execution": {
     "iopub.execute_input": "2022-06-29T15:27:50.517692Z",
     "iopub.status.busy": "2022-06-29T15:27:50.517224Z",
     "iopub.status.idle": "2022-06-29T15:27:50.524626Z",
     "shell.execute_reply": "2022-06-29T15:27:50.523041Z"
    },
    "papermill": {
     "duration": 0.024699,
     "end_time": "2022-06-29T15:27:50.527170",
     "exception": false,
     "start_time": "2022-06-29T15:27:50.502471",
     "status": "completed"
    },
    "tags": []
   },
   "outputs": [],
   "source": [
    "df5[\"Sex\"]=np.where(df5[\"Sex\"]==1,'Female','Male')"
   ]
  },
  {
   "cell_type": "code",
   "execution_count": 32,
   "id": "66801168",
   "metadata": {
    "execution": {
     "iopub.execute_input": "2022-06-29T15:27:50.553476Z",
     "iopub.status.busy": "2022-06-29T15:27:50.553003Z",
     "iopub.status.idle": "2022-06-29T15:27:50.571380Z",
     "shell.execute_reply": "2022-06-29T15:27:50.570389Z"
    },
    "papermill": {
     "duration": 0.035656,
     "end_time": "2022-06-29T15:27:50.574563",
     "exception": false,
     "start_time": "2022-06-29T15:27:50.538907",
     "status": "completed"
    },
    "tags": []
   },
   "outputs": [
    {
     "data": {
      "text/plain": [
       "0      Male\n",
       "1    Female\n",
       "2    Female\n",
       "3    Female\n",
       "4      Male\n",
       "Name: Sex, dtype: object"
      ]
     },
     "execution_count": 32,
     "metadata": {},
     "output_type": "execute_result"
    }
   ],
   "source": [
    "df5[\"Sex\"].head()"
   ]
  },
  {
   "cell_type": "code",
   "execution_count": 33,
   "id": "db32d8eb",
   "metadata": {
    "execution": {
     "iopub.execute_input": "2022-06-29T15:27:50.602530Z",
     "iopub.status.busy": "2022-06-29T15:27:50.601378Z",
     "iopub.status.idle": "2022-06-29T15:27:50.607248Z",
     "shell.execute_reply": "2022-06-29T15:27:50.606054Z"
    },
    "papermill": {
     "duration": 0.02184,
     "end_time": "2022-06-29T15:27:50.609929",
     "exception": false,
     "start_time": "2022-06-29T15:27:50.588089",
     "status": "completed"
    },
    "tags": []
   },
   "outputs": [],
   "source": [
    "# pd.get_dummies(df5,drop_first=True).head()"
   ]
  },
  {
   "cell_type": "code",
   "execution_count": 34,
   "id": "5e7b422a",
   "metadata": {
    "execution": {
     "iopub.execute_input": "2022-06-29T15:27:50.636793Z",
     "iopub.status.busy": "2022-06-29T15:27:50.635978Z",
     "iopub.status.idle": "2022-06-29T15:27:50.646730Z",
     "shell.execute_reply": "2022-06-29T15:27:50.645316Z"
    },
    "papermill": {
     "duration": 0.028148,
     "end_time": "2022-06-29T15:27:50.649569",
     "exception": false,
     "start_time": "2022-06-29T15:27:50.621421",
     "status": "completed"
    },
    "tags": []
   },
   "outputs": [],
   "source": [
    "df_a=pd.read_csv(\"../input/titanic/train_and_test2.csv\",usecols=[\"Embarked\"])"
   ]
  },
  {
   "cell_type": "code",
   "execution_count": 35,
   "id": "3421f67c",
   "metadata": {
    "execution": {
     "iopub.execute_input": "2022-06-29T15:27:50.675918Z",
     "iopub.status.busy": "2022-06-29T15:27:50.675054Z",
     "iopub.status.idle": "2022-06-29T15:27:50.684437Z",
     "shell.execute_reply": "2022-06-29T15:27:50.683501Z"
    },
    "papermill": {
     "duration": 0.025435,
     "end_time": "2022-06-29T15:27:50.686916",
     "exception": false,
     "start_time": "2022-06-29T15:27:50.661481",
     "status": "completed"
    },
    "tags": []
   },
   "outputs": [
    {
     "data": {
      "text/plain": [
       "array([ 2.,  0.,  1., nan])"
      ]
     },
     "execution_count": 35,
     "metadata": {},
     "output_type": "execute_result"
    }
   ],
   "source": [
    "df_a['Embarked'].unique()"
   ]
  },
  {
   "cell_type": "code",
   "execution_count": 36,
   "id": "b711eca6",
   "metadata": {
    "execution": {
     "iopub.execute_input": "2022-06-29T15:27:50.712561Z",
     "iopub.status.busy": "2022-06-29T15:27:50.711742Z",
     "iopub.status.idle": "2022-06-29T15:27:50.717325Z",
     "shell.execute_reply": "2022-06-29T15:27:50.716356Z"
    },
    "papermill": {
     "duration": 0.021445,
     "end_time": "2022-06-29T15:27:50.719927",
     "exception": false,
     "start_time": "2022-06-29T15:27:50.698482",
     "status": "completed"
    },
    "tags": []
   },
   "outputs": [],
   "source": [
    "df_a['Embarked'].dropna(inplace=True)"
   ]
  },
  {
   "cell_type": "code",
   "execution_count": 37,
   "id": "3cb17579",
   "metadata": {
    "execution": {
     "iopub.execute_input": "2022-06-29T15:27:50.747081Z",
     "iopub.status.busy": "2022-06-29T15:27:50.746585Z",
     "iopub.status.idle": "2022-06-29T15:27:50.760750Z",
     "shell.execute_reply": "2022-06-29T15:27:50.759628Z"
    },
    "papermill": {
     "duration": 0.03006,
     "end_time": "2022-06-29T15:27:50.763176",
     "exception": false,
     "start_time": "2022-06-29T15:27:50.733116",
     "status": "completed"
    },
    "tags": []
   },
   "outputs": [
    {
     "data": {
      "text/html": [
       "<div>\n",
       "<style scoped>\n",
       "    .dataframe tbody tr th:only-of-type {\n",
       "        vertical-align: middle;\n",
       "    }\n",
       "\n",
       "    .dataframe tbody tr th {\n",
       "        vertical-align: top;\n",
       "    }\n",
       "\n",
       "    .dataframe thead th {\n",
       "        text-align: right;\n",
       "    }\n",
       "</style>\n",
       "<table border=\"1\" class=\"dataframe\">\n",
       "  <thead>\n",
       "    <tr style=\"text-align: right;\">\n",
       "      <th></th>\n",
       "      <th>1.0</th>\n",
       "      <th>2.0</th>\n",
       "    </tr>\n",
       "  </thead>\n",
       "  <tbody>\n",
       "    <tr>\n",
       "      <th>0</th>\n",
       "      <td>0</td>\n",
       "      <td>1</td>\n",
       "    </tr>\n",
       "    <tr>\n",
       "      <th>1</th>\n",
       "      <td>0</td>\n",
       "      <td>0</td>\n",
       "    </tr>\n",
       "    <tr>\n",
       "      <th>2</th>\n",
       "      <td>0</td>\n",
       "      <td>1</td>\n",
       "    </tr>\n",
       "    <tr>\n",
       "      <th>3</th>\n",
       "      <td>0</td>\n",
       "      <td>1</td>\n",
       "    </tr>\n",
       "    <tr>\n",
       "      <th>4</th>\n",
       "      <td>0</td>\n",
       "      <td>1</td>\n",
       "    </tr>\n",
       "    <tr>\n",
       "      <th>...</th>\n",
       "      <td>...</td>\n",
       "      <td>...</td>\n",
       "    </tr>\n",
       "    <tr>\n",
       "      <th>1304</th>\n",
       "      <td>0</td>\n",
       "      <td>1</td>\n",
       "    </tr>\n",
       "    <tr>\n",
       "      <th>1305</th>\n",
       "      <td>0</td>\n",
       "      <td>0</td>\n",
       "    </tr>\n",
       "    <tr>\n",
       "      <th>1306</th>\n",
       "      <td>0</td>\n",
       "      <td>1</td>\n",
       "    </tr>\n",
       "    <tr>\n",
       "      <th>1307</th>\n",
       "      <td>0</td>\n",
       "      <td>1</td>\n",
       "    </tr>\n",
       "    <tr>\n",
       "      <th>1308</th>\n",
       "      <td>0</td>\n",
       "      <td>0</td>\n",
       "    </tr>\n",
       "  </tbody>\n",
       "</table>\n",
       "<p>1309 rows × 2 columns</p>\n",
       "</div>"
      ],
      "text/plain": [
       "      1.0  2.0\n",
       "0       0    1\n",
       "1       0    0\n",
       "2       0    1\n",
       "3       0    1\n",
       "4       0    1\n",
       "...   ...  ...\n",
       "1304    0    1\n",
       "1305    0    0\n",
       "1306    0    1\n",
       "1307    0    1\n",
       "1308    0    0\n",
       "\n",
       "[1309 rows x 2 columns]"
      ]
     },
     "execution_count": 37,
     "metadata": {},
     "output_type": "execute_result"
    }
   ],
   "source": [
    "pd.get_dummies(df_a['Embarked'],drop_first=True)"
   ]
  },
  {
   "cell_type": "code",
   "execution_count": 38,
   "id": "9540ca55",
   "metadata": {
    "execution": {
     "iopub.execute_input": "2022-06-29T15:27:50.791662Z",
     "iopub.status.busy": "2022-06-29T15:27:50.790522Z",
     "iopub.status.idle": "2022-06-29T15:27:50.913301Z",
     "shell.execute_reply": "2022-06-29T15:27:50.912141Z"
    },
    "papermill": {
     "duration": 0.139768,
     "end_time": "2022-06-29T15:27:50.915806",
     "exception": false,
     "start_time": "2022-06-29T15:27:50.776038",
     "status": "completed"
    },
    "tags": []
   },
   "outputs": [
    {
     "data": {
      "text/html": [
       "<div>\n",
       "<style scoped>\n",
       "    .dataframe tbody tr th:only-of-type {\n",
       "        vertical-align: middle;\n",
       "    }\n",
       "\n",
       "    .dataframe tbody tr th {\n",
       "        vertical-align: top;\n",
       "    }\n",
       "\n",
       "    .dataframe thead th {\n",
       "        text-align: right;\n",
       "    }\n",
       "</style>\n",
       "<table border=\"1\" class=\"dataframe\">\n",
       "  <thead>\n",
       "    <tr style=\"text-align: right;\">\n",
       "      <th></th>\n",
       "      <th>X0</th>\n",
       "      <th>X1</th>\n",
       "      <th>X2</th>\n",
       "      <th>X3</th>\n",
       "      <th>X4</th>\n",
       "      <th>X5</th>\n",
       "      <th>X6</th>\n",
       "    </tr>\n",
       "  </thead>\n",
       "  <tbody>\n",
       "    <tr>\n",
       "      <th>0</th>\n",
       "      <td>k</td>\n",
       "      <td>v</td>\n",
       "      <td>at</td>\n",
       "      <td>a</td>\n",
       "      <td>d</td>\n",
       "      <td>u</td>\n",
       "      <td>j</td>\n",
       "    </tr>\n",
       "    <tr>\n",
       "      <th>1</th>\n",
       "      <td>k</td>\n",
       "      <td>t</td>\n",
       "      <td>av</td>\n",
       "      <td>e</td>\n",
       "      <td>d</td>\n",
       "      <td>y</td>\n",
       "      <td>l</td>\n",
       "    </tr>\n",
       "    <tr>\n",
       "      <th>2</th>\n",
       "      <td>az</td>\n",
       "      <td>w</td>\n",
       "      <td>n</td>\n",
       "      <td>c</td>\n",
       "      <td>d</td>\n",
       "      <td>x</td>\n",
       "      <td>j</td>\n",
       "    </tr>\n",
       "    <tr>\n",
       "      <th>3</th>\n",
       "      <td>az</td>\n",
       "      <td>t</td>\n",
       "      <td>n</td>\n",
       "      <td>f</td>\n",
       "      <td>d</td>\n",
       "      <td>x</td>\n",
       "      <td>l</td>\n",
       "    </tr>\n",
       "    <tr>\n",
       "      <th>4</th>\n",
       "      <td>az</td>\n",
       "      <td>v</td>\n",
       "      <td>n</td>\n",
       "      <td>f</td>\n",
       "      <td>d</td>\n",
       "      <td>h</td>\n",
       "      <td>d</td>\n",
       "    </tr>\n",
       "    <tr>\n",
       "      <th>...</th>\n",
       "      <td>...</td>\n",
       "      <td>...</td>\n",
       "      <td>...</td>\n",
       "      <td>...</td>\n",
       "      <td>...</td>\n",
       "      <td>...</td>\n",
       "      <td>...</td>\n",
       "    </tr>\n",
       "    <tr>\n",
       "      <th>4204</th>\n",
       "      <td>ak</td>\n",
       "      <td>s</td>\n",
       "      <td>as</td>\n",
       "      <td>c</td>\n",
       "      <td>d</td>\n",
       "      <td>aa</td>\n",
       "      <td>d</td>\n",
       "    </tr>\n",
       "    <tr>\n",
       "      <th>4205</th>\n",
       "      <td>j</td>\n",
       "      <td>o</td>\n",
       "      <td>t</td>\n",
       "      <td>d</td>\n",
       "      <td>d</td>\n",
       "      <td>aa</td>\n",
       "      <td>h</td>\n",
       "    </tr>\n",
       "    <tr>\n",
       "      <th>4206</th>\n",
       "      <td>ak</td>\n",
       "      <td>v</td>\n",
       "      <td>r</td>\n",
       "      <td>a</td>\n",
       "      <td>d</td>\n",
       "      <td>aa</td>\n",
       "      <td>g</td>\n",
       "    </tr>\n",
       "    <tr>\n",
       "      <th>4207</th>\n",
       "      <td>al</td>\n",
       "      <td>r</td>\n",
       "      <td>e</td>\n",
       "      <td>f</td>\n",
       "      <td>d</td>\n",
       "      <td>aa</td>\n",
       "      <td>l</td>\n",
       "    </tr>\n",
       "    <tr>\n",
       "      <th>4208</th>\n",
       "      <td>z</td>\n",
       "      <td>r</td>\n",
       "      <td>ae</td>\n",
       "      <td>c</td>\n",
       "      <td>d</td>\n",
       "      <td>aa</td>\n",
       "      <td>g</td>\n",
       "    </tr>\n",
       "  </tbody>\n",
       "</table>\n",
       "<p>4209 rows × 7 columns</p>\n",
       "</div>"
      ],
      "text/plain": [
       "      X0 X1  X2 X3 X4  X5 X6\n",
       "0      k  v  at  a  d   u  j\n",
       "1      k  t  av  e  d   y  l\n",
       "2     az  w   n  c  d   x  j\n",
       "3     az  t   n  f  d   x  l\n",
       "4     az  v   n  f  d   h  d\n",
       "...   .. ..  .. .. ..  .. ..\n",
       "4204  ak  s  as  c  d  aa  d\n",
       "4205   j  o   t  d  d  aa  h\n",
       "4206  ak  v   r  a  d  aa  g\n",
       "4207  al  r   e  f  d  aa  l\n",
       "4208   z  r  ae  c  d  aa  g\n",
       "\n",
       "[4209 rows x 7 columns]"
      ]
     },
     "execution_count": 38,
     "metadata": {},
     "output_type": "execute_result"
    }
   ],
   "source": [
    "# categorical data into numerical \n",
    "d1=pd.read_csv('../input/mercedesbenz-greener-manufacturing/train.csv',usecols=['X0','X1','X2','X3','X4','X5','X6'])\n",
    "d1"
   ]
  },
  {
   "cell_type": "code",
   "execution_count": 39,
   "id": "d3d11b16",
   "metadata": {
    "execution": {
     "iopub.execute_input": "2022-06-29T15:27:50.945187Z",
     "iopub.status.busy": "2022-06-29T15:27:50.944407Z",
     "iopub.status.idle": "2022-06-29T15:27:50.954089Z",
     "shell.execute_reply": "2022-06-29T15:27:50.952197Z"
    },
    "papermill": {
     "duration": 0.028174,
     "end_time": "2022-06-29T15:27:50.958233",
     "exception": false,
     "start_time": "2022-06-29T15:27:50.930059",
     "status": "completed"
    },
    "tags": []
   },
   "outputs": [
    {
     "name": "stdout",
     "output_type": "stream",
     "text": [
      "47\n",
      "27\n",
      "44\n",
      "7\n",
      "4\n",
      "29\n",
      "12\n"
     ]
    }
   ],
   "source": [
    "for i in d1.columns:\n",
    "    print(len(d1[i].unique()))\n",
    "# in this case one hot encoding is not worked because there are so many features in the data columns "
   ]
  },
  {
   "cell_type": "code",
   "execution_count": 40,
   "id": "bd2e11b5",
   "metadata": {
    "execution": {
     "iopub.execute_input": "2022-06-29T15:27:50.986012Z",
     "iopub.status.busy": "2022-06-29T15:27:50.985493Z",
     "iopub.status.idle": "2022-06-29T15:27:50.997977Z",
     "shell.execute_reply": "2022-06-29T15:27:50.996973Z"
    },
    "papermill": {
     "duration": 0.029028,
     "end_time": "2022-06-29T15:27:51.000507",
     "exception": false,
     "start_time": "2022-06-29T15:27:50.971479",
     "status": "completed"
    },
    "tags": []
   },
   "outputs": [
    {
     "data": {
      "text/plain": [
       "z     360\n",
       "ak    349\n",
       "y     324\n",
       "ay    313\n",
       "t     306\n",
       "x     300\n",
       "o     269\n",
       "f     227\n",
       "n     195\n",
       "w     182\n",
       "Name: X0, dtype: int64"
      ]
     },
     "execution_count": 40,
     "metadata": {},
     "output_type": "execute_result"
    }
   ],
   "source": [
    "d1['X0'].value_counts()[0:10]"
   ]
  },
  {
   "cell_type": "code",
   "execution_count": 41,
   "id": "0c6c5d6a",
   "metadata": {
    "execution": {
     "iopub.execute_input": "2022-06-29T15:27:51.028577Z",
     "iopub.status.busy": "2022-06-29T15:27:51.027090Z",
     "iopub.status.idle": "2022-06-29T15:27:51.037087Z",
     "shell.execute_reply": "2022-06-29T15:27:51.036098Z"
    },
    "papermill": {
     "duration": 0.026359,
     "end_time": "2022-06-29T15:27:51.039690",
     "exception": false,
     "start_time": "2022-06-29T15:27:51.013331",
     "status": "completed"
    },
    "tags": []
   },
   "outputs": [
    {
     "data": {
      "text/plain": [
       "Index(['aa', 's', 'b', 'l', 'v', 'r', 'i', 'a', 'c', 'o'], dtype='object')"
      ]
     },
     "execution_count": 41,
     "metadata": {},
     "output_type": "execute_result"
    }
   ],
   "source": [
    "d1.X1.value_counts().sort_values(ascending=False).head(10).index"
   ]
  },
  {
   "cell_type": "code",
   "execution_count": 42,
   "id": "1918dd6f",
   "metadata": {
    "execution": {
     "iopub.execute_input": "2022-06-29T15:27:51.068916Z",
     "iopub.status.busy": "2022-06-29T15:27:51.068405Z",
     "iopub.status.idle": "2022-06-29T15:27:51.078364Z",
     "shell.execute_reply": "2022-06-29T15:27:51.077437Z"
    },
    "papermill": {
     "duration": 0.02714,
     "end_time": "2022-06-29T15:27:51.080615",
     "exception": false,
     "start_time": "2022-06-29T15:27:51.053475",
     "status": "completed"
    },
    "tags": []
   },
   "outputs": [
    {
     "data": {
      "text/plain": [
       "['aa', 's', 'b', 'l', 'v', 'r', 'i', 'a', 'c', 'o']"
      ]
     },
     "execution_count": 42,
     "metadata": {},
     "output_type": "execute_result"
    }
   ],
   "source": [
    "list_10=d1.X1.value_counts().sort_values(ascending=False).head(10).index\n",
    "list_10=list(list_10)\n",
    "list_10"
   ]
  },
  {
   "cell_type": "code",
   "execution_count": 43,
   "id": "cab1df5d",
   "metadata": {
    "execution": {
     "iopub.execute_input": "2022-06-29T15:27:51.107914Z",
     "iopub.status.busy": "2022-06-29T15:27:51.106670Z",
     "iopub.status.idle": "2022-06-29T15:27:51.122876Z",
     "shell.execute_reply": "2022-06-29T15:27:51.121641Z"
    },
    "papermill": {
     "duration": 0.033813,
     "end_time": "2022-06-29T15:27:51.126721",
     "exception": false,
     "start_time": "2022-06-29T15:27:51.092908",
     "status": "completed"
    },
    "tags": []
   },
   "outputs": [],
   "source": [
    "for categories in list_10:\n",
    "    d1[categories]=np.where(d1['X1']==categories,1,0)"
   ]
  },
  {
   "cell_type": "code",
   "execution_count": 44,
   "id": "85446946",
   "metadata": {
    "execution": {
     "iopub.execute_input": "2022-06-29T15:27:51.154785Z",
     "iopub.status.busy": "2022-06-29T15:27:51.153418Z",
     "iopub.status.idle": "2022-06-29T15:27:51.158676Z",
     "shell.execute_reply": "2022-06-29T15:27:51.157703Z"
    },
    "papermill": {
     "duration": 0.02185,
     "end_time": "2022-06-29T15:27:51.161117",
     "exception": false,
     "start_time": "2022-06-29T15:27:51.139267",
     "status": "completed"
    },
    "tags": []
   },
   "outputs": [],
   "source": [
    "list_10.append('X1')"
   ]
  },
  {
   "cell_type": "code",
   "execution_count": 45,
   "id": "f7c6fc68",
   "metadata": {
    "execution": {
     "iopub.execute_input": "2022-06-29T15:27:51.189704Z",
     "iopub.status.busy": "2022-06-29T15:27:51.188557Z",
     "iopub.status.idle": "2022-06-29T15:27:51.207336Z",
     "shell.execute_reply": "2022-06-29T15:27:51.206401Z"
    },
    "papermill": {
     "duration": 0.034993,
     "end_time": "2022-06-29T15:27:51.209647",
     "exception": false,
     "start_time": "2022-06-29T15:27:51.174654",
     "status": "completed"
    },
    "tags": []
   },
   "outputs": [
    {
     "data": {
      "text/html": [
       "<div>\n",
       "<style scoped>\n",
       "    .dataframe tbody tr th:only-of-type {\n",
       "        vertical-align: middle;\n",
       "    }\n",
       "\n",
       "    .dataframe tbody tr th {\n",
       "        vertical-align: top;\n",
       "    }\n",
       "\n",
       "    .dataframe thead th {\n",
       "        text-align: right;\n",
       "    }\n",
       "</style>\n",
       "<table border=\"1\" class=\"dataframe\">\n",
       "  <thead>\n",
       "    <tr style=\"text-align: right;\">\n",
       "      <th></th>\n",
       "      <th>aa</th>\n",
       "      <th>s</th>\n",
       "      <th>b</th>\n",
       "      <th>l</th>\n",
       "      <th>v</th>\n",
       "      <th>r</th>\n",
       "      <th>i</th>\n",
       "      <th>a</th>\n",
       "      <th>c</th>\n",
       "      <th>o</th>\n",
       "      <th>X1</th>\n",
       "    </tr>\n",
       "  </thead>\n",
       "  <tbody>\n",
       "    <tr>\n",
       "      <th>0</th>\n",
       "      <td>0</td>\n",
       "      <td>0</td>\n",
       "      <td>0</td>\n",
       "      <td>0</td>\n",
       "      <td>1</td>\n",
       "      <td>0</td>\n",
       "      <td>0</td>\n",
       "      <td>0</td>\n",
       "      <td>0</td>\n",
       "      <td>0</td>\n",
       "      <td>v</td>\n",
       "    </tr>\n",
       "    <tr>\n",
       "      <th>1</th>\n",
       "      <td>0</td>\n",
       "      <td>0</td>\n",
       "      <td>0</td>\n",
       "      <td>0</td>\n",
       "      <td>0</td>\n",
       "      <td>0</td>\n",
       "      <td>0</td>\n",
       "      <td>0</td>\n",
       "      <td>0</td>\n",
       "      <td>0</td>\n",
       "      <td>t</td>\n",
       "    </tr>\n",
       "    <tr>\n",
       "      <th>2</th>\n",
       "      <td>0</td>\n",
       "      <td>0</td>\n",
       "      <td>0</td>\n",
       "      <td>0</td>\n",
       "      <td>0</td>\n",
       "      <td>0</td>\n",
       "      <td>0</td>\n",
       "      <td>0</td>\n",
       "      <td>0</td>\n",
       "      <td>0</td>\n",
       "      <td>w</td>\n",
       "    </tr>\n",
       "    <tr>\n",
       "      <th>3</th>\n",
       "      <td>0</td>\n",
       "      <td>0</td>\n",
       "      <td>0</td>\n",
       "      <td>0</td>\n",
       "      <td>0</td>\n",
       "      <td>0</td>\n",
       "      <td>0</td>\n",
       "      <td>0</td>\n",
       "      <td>0</td>\n",
       "      <td>0</td>\n",
       "      <td>t</td>\n",
       "    </tr>\n",
       "    <tr>\n",
       "      <th>4</th>\n",
       "      <td>0</td>\n",
       "      <td>0</td>\n",
       "      <td>0</td>\n",
       "      <td>0</td>\n",
       "      <td>1</td>\n",
       "      <td>0</td>\n",
       "      <td>0</td>\n",
       "      <td>0</td>\n",
       "      <td>0</td>\n",
       "      <td>0</td>\n",
       "      <td>v</td>\n",
       "    </tr>\n",
       "    <tr>\n",
       "      <th>5</th>\n",
       "      <td>0</td>\n",
       "      <td>0</td>\n",
       "      <td>1</td>\n",
       "      <td>0</td>\n",
       "      <td>0</td>\n",
       "      <td>0</td>\n",
       "      <td>0</td>\n",
       "      <td>0</td>\n",
       "      <td>0</td>\n",
       "      <td>0</td>\n",
       "      <td>b</td>\n",
       "    </tr>\n",
       "    <tr>\n",
       "      <th>6</th>\n",
       "      <td>0</td>\n",
       "      <td>0</td>\n",
       "      <td>0</td>\n",
       "      <td>0</td>\n",
       "      <td>0</td>\n",
       "      <td>1</td>\n",
       "      <td>0</td>\n",
       "      <td>0</td>\n",
       "      <td>0</td>\n",
       "      <td>0</td>\n",
       "      <td>r</td>\n",
       "    </tr>\n",
       "    <tr>\n",
       "      <th>7</th>\n",
       "      <td>0</td>\n",
       "      <td>0</td>\n",
       "      <td>0</td>\n",
       "      <td>1</td>\n",
       "      <td>0</td>\n",
       "      <td>0</td>\n",
       "      <td>0</td>\n",
       "      <td>0</td>\n",
       "      <td>0</td>\n",
       "      <td>0</td>\n",
       "      <td>l</td>\n",
       "    </tr>\n",
       "    <tr>\n",
       "      <th>8</th>\n",
       "      <td>0</td>\n",
       "      <td>1</td>\n",
       "      <td>0</td>\n",
       "      <td>0</td>\n",
       "      <td>0</td>\n",
       "      <td>0</td>\n",
       "      <td>0</td>\n",
       "      <td>0</td>\n",
       "      <td>0</td>\n",
       "      <td>0</td>\n",
       "      <td>s</td>\n",
       "    </tr>\n",
       "    <tr>\n",
       "      <th>9</th>\n",
       "      <td>0</td>\n",
       "      <td>0</td>\n",
       "      <td>1</td>\n",
       "      <td>0</td>\n",
       "      <td>0</td>\n",
       "      <td>0</td>\n",
       "      <td>0</td>\n",
       "      <td>0</td>\n",
       "      <td>0</td>\n",
       "      <td>0</td>\n",
       "      <td>b</td>\n",
       "    </tr>\n",
       "    <tr>\n",
       "      <th>10</th>\n",
       "      <td>0</td>\n",
       "      <td>0</td>\n",
       "      <td>0</td>\n",
       "      <td>0</td>\n",
       "      <td>0</td>\n",
       "      <td>1</td>\n",
       "      <td>0</td>\n",
       "      <td>0</td>\n",
       "      <td>0</td>\n",
       "      <td>0</td>\n",
       "      <td>r</td>\n",
       "    </tr>\n",
       "    <tr>\n",
       "      <th>11</th>\n",
       "      <td>0</td>\n",
       "      <td>0</td>\n",
       "      <td>0</td>\n",
       "      <td>0</td>\n",
       "      <td>0</td>\n",
       "      <td>1</td>\n",
       "      <td>0</td>\n",
       "      <td>0</td>\n",
       "      <td>0</td>\n",
       "      <td>0</td>\n",
       "      <td>r</td>\n",
       "    </tr>\n",
       "    <tr>\n",
       "      <th>12</th>\n",
       "      <td>0</td>\n",
       "      <td>0</td>\n",
       "      <td>1</td>\n",
       "      <td>0</td>\n",
       "      <td>0</td>\n",
       "      <td>0</td>\n",
       "      <td>0</td>\n",
       "      <td>0</td>\n",
       "      <td>0</td>\n",
       "      <td>0</td>\n",
       "      <td>b</td>\n",
       "    </tr>\n",
       "    <tr>\n",
       "      <th>13</th>\n",
       "      <td>0</td>\n",
       "      <td>0</td>\n",
       "      <td>0</td>\n",
       "      <td>0</td>\n",
       "      <td>0</td>\n",
       "      <td>1</td>\n",
       "      <td>0</td>\n",
       "      <td>0</td>\n",
       "      <td>0</td>\n",
       "      <td>0</td>\n",
       "      <td>r</td>\n",
       "    </tr>\n",
       "    <tr>\n",
       "      <th>14</th>\n",
       "      <td>0</td>\n",
       "      <td>1</td>\n",
       "      <td>0</td>\n",
       "      <td>0</td>\n",
       "      <td>0</td>\n",
       "      <td>0</td>\n",
       "      <td>0</td>\n",
       "      <td>0</td>\n",
       "      <td>0</td>\n",
       "      <td>0</td>\n",
       "      <td>s</td>\n",
       "    </tr>\n",
       "  </tbody>\n",
       "</table>\n",
       "</div>"
      ],
      "text/plain": [
       "    aa  s  b  l  v  r  i  a  c  o X1\n",
       "0    0  0  0  0  1  0  0  0  0  0  v\n",
       "1    0  0  0  0  0  0  0  0  0  0  t\n",
       "2    0  0  0  0  0  0  0  0  0  0  w\n",
       "3    0  0  0  0  0  0  0  0  0  0  t\n",
       "4    0  0  0  0  1  0  0  0  0  0  v\n",
       "5    0  0  1  0  0  0  0  0  0  0  b\n",
       "6    0  0  0  0  0  1  0  0  0  0  r\n",
       "7    0  0  0  1  0  0  0  0  0  0  l\n",
       "8    0  1  0  0  0  0  0  0  0  0  s\n",
       "9    0  0  1  0  0  0  0  0  0  0  b\n",
       "10   0  0  0  0  0  1  0  0  0  0  r\n",
       "11   0  0  0  0  0  1  0  0  0  0  r\n",
       "12   0  0  1  0  0  0  0  0  0  0  b\n",
       "13   0  0  0  0  0  1  0  0  0  0  r\n",
       "14   0  1  0  0  0  0  0  0  0  0  s"
      ]
     },
     "execution_count": 45,
     "metadata": {},
     "output_type": "execute_result"
    }
   ],
   "source": [
    "d1[list_10].head(15)"
   ]
  },
  {
   "cell_type": "code",
   "execution_count": null,
   "id": "7616bec2",
   "metadata": {
    "papermill": {
     "duration": 0.011985,
     "end_time": "2022-06-29T15:27:51.234273",
     "exception": false,
     "start_time": "2022-06-29T15:27:51.222288",
     "status": "completed"
    },
    "tags": []
   },
   "outputs": [],
   "source": []
  }
 ],
 "metadata": {
  "kernelspec": {
   "display_name": "Python 3",
   "language": "python",
   "name": "python3"
  },
  "language_info": {
   "codemirror_mode": {
    "name": "ipython",
    "version": 3
   },
   "file_extension": ".py",
   "mimetype": "text/x-python",
   "name": "python",
   "nbconvert_exporter": "python",
   "pygments_lexer": "ipython3",
   "version": "3.7.12"
  },
  "papermill": {
   "default_parameters": {},
   "duration": 13.739864,
   "end_time": "2022-06-29T15:27:52.173553",
   "environment_variables": {},
   "exception": null,
   "input_path": "__notebook__.ipynb",
   "output_path": "__notebook__.ipynb",
   "parameters": {},
   "start_time": "2022-06-29T15:27:38.433689",
   "version": "2.3.4"
  }
 },
 "nbformat": 4,
 "nbformat_minor": 5
}
