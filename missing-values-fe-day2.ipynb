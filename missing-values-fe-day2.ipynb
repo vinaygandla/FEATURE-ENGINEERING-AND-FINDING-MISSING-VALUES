{
 "cells": [
  {
   "cell_type": "code",
   "execution_count": 1,
   "id": "66e460df",
   "metadata": {
    "_cell_guid": "b1076dfc-b9ad-4769-8c92-a6c4dae69d19",
    "_uuid": "8f2839f25d086af736a60e9eeb907d3b93b6e0e5",
    "execution": {
     "iopub.execute_input": "2022-06-27T17:30:36.483764Z",
     "iopub.status.busy": "2022-06-27T17:30:36.482989Z",
     "iopub.status.idle": "2022-06-27T17:30:36.502511Z",
     "shell.execute_reply": "2022-06-27T17:30:36.501657Z"
    },
    "papermill": {
     "duration": 0.03541,
     "end_time": "2022-06-27T17:30:36.505375",
     "exception": false,
     "start_time": "2022-06-27T17:30:36.469965",
     "status": "completed"
    },
    "tags": []
   },
   "outputs": [
    {
     "name": "stdout",
     "output_type": "stream",
     "text": [
      "/kaggle/input/titanic-machine-learning-from-disaster/train.csv\n",
      "/kaggle/input/titanic-machine-learning-from-disaster/test.csv\n"
     ]
    }
   ],
   "source": [
    "# This Python 3 environment comes with many helpful analytics libraries installed\n",
    "# It is defined by the kaggle/python Docker image: https://github.com/kaggle/docker-python\n",
    "# For example, here's several helpful packages to load\n",
    "\n",
    "import numpy as np # linear algebra\n",
    "import pandas as pd # data processing, CSV file I/O (e.g. pd.read_csv)\n",
    "\n",
    "# Input data files are available in the read-only \"../input/\" directory\n",
    "# For example, running this (by clicking run or pressing Shift+Enter) will list all files under the input directory\n",
    "\n",
    "import os\n",
    "for dirname, _, filenames in os.walk('/kaggle/input'):\n",
    "    for filename in filenames:\n",
    "        print(os.path.join(dirname, filename))\n",
    "\n",
    "# You can write up to 20GB to the current directory (/kaggle/working/) that gets preserved as output when you create a version using \"Save & Run All\" \n",
    "# You can also write temporary files to /kaggle/temp/, but they won't be saved outside of the current session"
   ]
  },
  {
   "cell_type": "code",
   "execution_count": 2,
   "id": "955ac042",
   "metadata": {
    "execution": {
     "iopub.execute_input": "2022-06-27T17:30:36.527005Z",
     "iopub.status.busy": "2022-06-27T17:30:36.526629Z",
     "iopub.status.idle": "2022-06-27T17:30:36.543592Z",
     "shell.execute_reply": "2022-06-27T17:30:36.542667Z"
    },
    "papermill": {
     "duration": 0.030414,
     "end_time": "2022-06-27T17:30:36.545969",
     "exception": false,
     "start_time": "2022-06-27T17:30:36.515555",
     "status": "completed"
    },
    "tags": []
   },
   "outputs": [],
   "source": [
    "###2.RANDOM SAMPLE IMPUTATION \n",
    "# in this it will take a sample at random from the data and fill in the nan value \n",
    "# when should be used:it assumes that the data are missingcompletly at random \n",
    "# MCAR\n",
    "df=pd.read_csv(\"../input/titanic-machine-learning-from-disaster/train.csv\",usecols=[\"Age\",\"Fare\",\"Survived\"])"
   ]
  },
  {
   "cell_type": "code",
   "execution_count": 3,
   "id": "c402579a",
   "metadata": {
    "execution": {
     "iopub.execute_input": "2022-06-27T17:30:36.571785Z",
     "iopub.status.busy": "2022-06-27T17:30:36.571148Z",
     "iopub.status.idle": "2022-06-27T17:30:36.592215Z",
     "shell.execute_reply": "2022-06-27T17:30:36.591254Z"
    },
    "papermill": {
     "duration": 0.03634,
     "end_time": "2022-06-27T17:30:36.594320",
     "exception": false,
     "start_time": "2022-06-27T17:30:36.557980",
     "status": "completed"
    },
    "tags": []
   },
   "outputs": [
    {
     "data": {
      "text/html": [
       "<div>\n",
       "<style scoped>\n",
       "    .dataframe tbody tr th:only-of-type {\n",
       "        vertical-align: middle;\n",
       "    }\n",
       "\n",
       "    .dataframe tbody tr th {\n",
       "        vertical-align: top;\n",
       "    }\n",
       "\n",
       "    .dataframe thead th {\n",
       "        text-align: right;\n",
       "    }\n",
       "</style>\n",
       "<table border=\"1\" class=\"dataframe\">\n",
       "  <thead>\n",
       "    <tr style=\"text-align: right;\">\n",
       "      <th></th>\n",
       "      <th>Survived</th>\n",
       "      <th>Age</th>\n",
       "      <th>Fare</th>\n",
       "    </tr>\n",
       "  </thead>\n",
       "  <tbody>\n",
       "    <tr>\n",
       "      <th>0</th>\n",
       "      <td>0</td>\n",
       "      <td>22.0</td>\n",
       "      <td>7.2500</td>\n",
       "    </tr>\n",
       "    <tr>\n",
       "      <th>1</th>\n",
       "      <td>1</td>\n",
       "      <td>38.0</td>\n",
       "      <td>71.2833</td>\n",
       "    </tr>\n",
       "    <tr>\n",
       "      <th>2</th>\n",
       "      <td>1</td>\n",
       "      <td>26.0</td>\n",
       "      <td>7.9250</td>\n",
       "    </tr>\n",
       "    <tr>\n",
       "      <th>3</th>\n",
       "      <td>1</td>\n",
       "      <td>35.0</td>\n",
       "      <td>53.1000</td>\n",
       "    </tr>\n",
       "    <tr>\n",
       "      <th>4</th>\n",
       "      <td>0</td>\n",
       "      <td>35.0</td>\n",
       "      <td>8.0500</td>\n",
       "    </tr>\n",
       "  </tbody>\n",
       "</table>\n",
       "</div>"
      ],
      "text/plain": [
       "   Survived   Age     Fare\n",
       "0         0  22.0   7.2500\n",
       "1         1  38.0  71.2833\n",
       "2         1  26.0   7.9250\n",
       "3         1  35.0  53.1000\n",
       "4         0  35.0   8.0500"
      ]
     },
     "execution_count": 3,
     "metadata": {},
     "output_type": "execute_result"
    }
   ],
   "source": [
    "df.head()"
   ]
  },
  {
   "cell_type": "code",
   "execution_count": 4,
   "id": "8f7c3df4",
   "metadata": {
    "execution": {
     "iopub.execute_input": "2022-06-27T17:30:36.616523Z",
     "iopub.status.busy": "2022-06-27T17:30:36.615820Z",
     "iopub.status.idle": "2022-06-27T17:30:36.624054Z",
     "shell.execute_reply": "2022-06-27T17:30:36.623054Z"
    },
    "papermill": {
     "duration": 0.021635,
     "end_time": "2022-06-27T17:30:36.626060",
     "exception": false,
     "start_time": "2022-06-27T17:30:36.604425",
     "status": "completed"
    },
    "tags": []
   },
   "outputs": [
    {
     "data": {
      "text/plain": [
       "Survived      0\n",
       "Age         177\n",
       "Fare          0\n",
       "dtype: int64"
      ]
     },
     "execution_count": 4,
     "metadata": {},
     "output_type": "execute_result"
    }
   ],
   "source": [
    "df.isnull().sum()"
   ]
  },
  {
   "cell_type": "code",
   "execution_count": 5,
   "id": "4a0ed102",
   "metadata": {
    "execution": {
     "iopub.execute_input": "2022-06-27T17:30:36.648407Z",
     "iopub.status.busy": "2022-06-27T17:30:36.647718Z",
     "iopub.status.idle": "2022-06-27T17:30:36.655927Z",
     "shell.execute_reply": "2022-06-27T17:30:36.654900Z"
    },
    "papermill": {
     "duration": 0.021792,
     "end_time": "2022-06-27T17:30:36.658009",
     "exception": false,
     "start_time": "2022-06-27T17:30:36.636217",
     "status": "completed"
    },
    "tags": []
   },
   "outputs": [
    {
     "data": {
      "text/plain": [
       "Survived    0.000000\n",
       "Age         0.198653\n",
       "Fare        0.000000\n",
       "dtype: float64"
      ]
     },
     "execution_count": 5,
     "metadata": {},
     "output_type": "execute_result"
    }
   ],
   "source": [
    "df.isnull().mean()"
   ]
  },
  {
   "cell_type": "code",
   "execution_count": 6,
   "id": "286419d8",
   "metadata": {
    "execution": {
     "iopub.execute_input": "2022-06-27T17:30:36.680621Z",
     "iopub.status.busy": "2022-06-27T17:30:36.679885Z",
     "iopub.status.idle": "2022-06-27T17:30:36.690226Z",
     "shell.execute_reply": "2022-06-27T17:30:36.688953Z"
    },
    "papermill": {
     "duration": 0.024361,
     "end_time": "2022-06-27T17:30:36.692702",
     "exception": false,
     "start_time": "2022-06-27T17:30:36.668341",
     "status": "completed"
    },
    "tags": []
   },
   "outputs": [
    {
     "data": {
      "text/plain": [
       "177"
      ]
     },
     "execution_count": 6,
     "metadata": {},
     "output_type": "execute_result"
    }
   ],
   "source": [
    "df[\"Age\"].isnull().sum()"
   ]
  },
  {
   "cell_type": "code",
   "execution_count": 7,
   "id": "703bbc72",
   "metadata": {
    "execution": {
     "iopub.execute_input": "2022-06-27T17:30:36.715414Z",
     "iopub.status.busy": "2022-06-27T17:30:36.715038Z",
     "iopub.status.idle": "2022-06-27T17:30:36.727233Z",
     "shell.execute_reply": "2022-06-27T17:30:36.726465Z"
    },
    "papermill": {
     "duration": 0.02588,
     "end_time": "2022-06-27T17:30:36.729032",
     "exception": false,
     "start_time": "2022-06-27T17:30:36.703152",
     "status": "completed"
    },
    "tags": []
   },
   "outputs": [
    {
     "data": {
      "text/plain": [
       "423    28.00\n",
       "177    50.00\n",
       "305     0.92\n",
       "292    36.00\n",
       "889    26.00\n",
       "       ...  \n",
       "539    22.00\n",
       "267    25.00\n",
       "352    15.00\n",
       "99     34.00\n",
       "689    15.00\n",
       "Name: Age, Length: 177, dtype: float64"
      ]
     },
     "execution_count": 7,
     "metadata": {},
     "output_type": "execute_result"
    }
   ],
   "source": [
    "df[\"Age\"].dropna().sample(df[\"Age\"].isnull().sum(),random_state=0)"
   ]
  },
  {
   "cell_type": "code",
   "execution_count": 8,
   "id": "c0fda62f",
   "metadata": {
    "execution": {
     "iopub.execute_input": "2022-06-27T17:30:36.752379Z",
     "iopub.status.busy": "2022-06-27T17:30:36.751727Z",
     "iopub.status.idle": "2022-06-27T17:30:36.761225Z",
     "shell.execute_reply": "2022-06-27T17:30:36.760459Z"
    },
    "papermill": {
     "duration": 0.023781,
     "end_time": "2022-06-27T17:30:36.763221",
     "exception": false,
     "start_time": "2022-06-27T17:30:36.739440",
     "status": "completed"
    },
    "tags": []
   },
   "outputs": [
    {
     "data": {
      "text/plain": [
       "Int64Index([  5,  17,  19,  26,  28,  29,  31,  32,  36,  42,\n",
       "            ...\n",
       "            832, 837, 839, 846, 849, 859, 863, 868, 878, 888],\n",
       "           dtype='int64', length=177)"
      ]
     },
     "execution_count": 8,
     "metadata": {},
     "output_type": "execute_result"
    }
   ],
   "source": [
    "df[df[\"Age\"].isnull()].index"
   ]
  },
  {
   "cell_type": "code",
   "execution_count": 9,
   "id": "da0d5487",
   "metadata": {
    "execution": {
     "iopub.execute_input": "2022-06-27T17:30:36.786796Z",
     "iopub.status.busy": "2022-06-27T17:30:36.785722Z",
     "iopub.status.idle": "2022-06-27T17:30:36.794014Z",
     "shell.execute_reply": "2022-06-27T17:30:36.792924Z"
    },
    "papermill": {
     "duration": 0.022567,
     "end_time": "2022-06-27T17:30:36.796465",
     "exception": false,
     "start_time": "2022-06-27T17:30:36.773898",
     "status": "completed"
    },
    "tags": []
   },
   "outputs": [],
   "source": [
    "def random_one(df,variable,median):\n",
    "    df[variable+'_median']=df[variable].fillna(median)\n",
    "    df[variable+'_random']=df[variable]\n",
    "    random_sample=df[variable].dropna().sample(df[variable].isnull().sum(),random_state=0)\n",
    "    ###pandas need to have same index in order to merge the data set\n",
    "    random_sample.index=df[df[variable].isnull()].index\n",
    "    df.loc[df[variable].isnull(),variable+'_random']=random_sample"
   ]
  },
  {
   "cell_type": "code",
   "execution_count": 10,
   "id": "abc4b01b",
   "metadata": {
    "execution": {
     "iopub.execute_input": "2022-06-27T17:30:36.819834Z",
     "iopub.status.busy": "2022-06-27T17:30:36.819444Z",
     "iopub.status.idle": "2022-06-27T17:30:36.828898Z",
     "shell.execute_reply": "2022-06-27T17:30:36.827794Z"
    },
    "papermill": {
     "duration": 0.023685,
     "end_time": "2022-06-27T17:30:36.831236",
     "exception": false,
     "start_time": "2022-06-27T17:30:36.807551",
     "status": "completed"
    },
    "tags": []
   },
   "outputs": [
    {
     "data": {
      "text/plain": [
       "28.0"
      ]
     },
     "execution_count": 10,
     "metadata": {},
     "output_type": "execute_result"
    }
   ],
   "source": [
    "median=df.Age.median()\n",
    "median"
   ]
  },
  {
   "cell_type": "code",
   "execution_count": 11,
   "id": "a8097f86",
   "metadata": {
    "execution": {
     "iopub.execute_input": "2022-06-27T17:30:36.854249Z",
     "iopub.status.busy": "2022-06-27T17:30:36.853890Z",
     "iopub.status.idle": "2022-06-27T17:30:36.864471Z",
     "shell.execute_reply": "2022-06-27T17:30:36.863425Z"
    },
    "papermill": {
     "duration": 0.024926,
     "end_time": "2022-06-27T17:30:36.866888",
     "exception": false,
     "start_time": "2022-06-27T17:30:36.841962",
     "status": "completed"
    },
    "tags": []
   },
   "outputs": [],
   "source": [
    "random_one(df,\"Age\",median)"
   ]
  },
  {
   "cell_type": "code",
   "execution_count": 12,
   "id": "1447aa5f",
   "metadata": {
    "execution": {
     "iopub.execute_input": "2022-06-27T17:30:36.890783Z",
     "iopub.status.busy": "2022-06-27T17:30:36.890067Z",
     "iopub.status.idle": "2022-06-27T17:30:36.905953Z",
     "shell.execute_reply": "2022-06-27T17:30:36.904838Z"
    },
    "papermill": {
     "duration": 0.030321,
     "end_time": "2022-06-27T17:30:36.908410",
     "exception": false,
     "start_time": "2022-06-27T17:30:36.878089",
     "status": "completed"
    },
    "tags": []
   },
   "outputs": [
    {
     "data": {
      "text/html": [
       "<div>\n",
       "<style scoped>\n",
       "    .dataframe tbody tr th:only-of-type {\n",
       "        vertical-align: middle;\n",
       "    }\n",
       "\n",
       "    .dataframe tbody tr th {\n",
       "        vertical-align: top;\n",
       "    }\n",
       "\n",
       "    .dataframe thead th {\n",
       "        text-align: right;\n",
       "    }\n",
       "</style>\n",
       "<table border=\"1\" class=\"dataframe\">\n",
       "  <thead>\n",
       "    <tr style=\"text-align: right;\">\n",
       "      <th></th>\n",
       "      <th>Survived</th>\n",
       "      <th>Age</th>\n",
       "      <th>Fare</th>\n",
       "      <th>Age_median</th>\n",
       "      <th>Age_random</th>\n",
       "    </tr>\n",
       "  </thead>\n",
       "  <tbody>\n",
       "    <tr>\n",
       "      <th>0</th>\n",
       "      <td>0</td>\n",
       "      <td>22.0</td>\n",
       "      <td>7.2500</td>\n",
       "      <td>22.0</td>\n",
       "      <td>22.0</td>\n",
       "    </tr>\n",
       "    <tr>\n",
       "      <th>1</th>\n",
       "      <td>1</td>\n",
       "      <td>38.0</td>\n",
       "      <td>71.2833</td>\n",
       "      <td>38.0</td>\n",
       "      <td>38.0</td>\n",
       "    </tr>\n",
       "    <tr>\n",
       "      <th>2</th>\n",
       "      <td>1</td>\n",
       "      <td>26.0</td>\n",
       "      <td>7.9250</td>\n",
       "      <td>26.0</td>\n",
       "      <td>26.0</td>\n",
       "    </tr>\n",
       "    <tr>\n",
       "      <th>3</th>\n",
       "      <td>1</td>\n",
       "      <td>35.0</td>\n",
       "      <td>53.1000</td>\n",
       "      <td>35.0</td>\n",
       "      <td>35.0</td>\n",
       "    </tr>\n",
       "    <tr>\n",
       "      <th>4</th>\n",
       "      <td>0</td>\n",
       "      <td>35.0</td>\n",
       "      <td>8.0500</td>\n",
       "      <td>35.0</td>\n",
       "      <td>35.0</td>\n",
       "    </tr>\n",
       "    <tr>\n",
       "      <th>5</th>\n",
       "      <td>0</td>\n",
       "      <td>NaN</td>\n",
       "      <td>8.4583</td>\n",
       "      <td>28.0</td>\n",
       "      <td>28.0</td>\n",
       "    </tr>\n",
       "    <tr>\n",
       "      <th>6</th>\n",
       "      <td>0</td>\n",
       "      <td>54.0</td>\n",
       "      <td>51.8625</td>\n",
       "      <td>54.0</td>\n",
       "      <td>54.0</td>\n",
       "    </tr>\n",
       "    <tr>\n",
       "      <th>7</th>\n",
       "      <td>0</td>\n",
       "      <td>2.0</td>\n",
       "      <td>21.0750</td>\n",
       "      <td>2.0</td>\n",
       "      <td>2.0</td>\n",
       "    </tr>\n",
       "    <tr>\n",
       "      <th>8</th>\n",
       "      <td>1</td>\n",
       "      <td>27.0</td>\n",
       "      <td>11.1333</td>\n",
       "      <td>27.0</td>\n",
       "      <td>27.0</td>\n",
       "    </tr>\n",
       "    <tr>\n",
       "      <th>9</th>\n",
       "      <td>1</td>\n",
       "      <td>14.0</td>\n",
       "      <td>30.0708</td>\n",
       "      <td>14.0</td>\n",
       "      <td>14.0</td>\n",
       "    </tr>\n",
       "  </tbody>\n",
       "</table>\n",
       "</div>"
      ],
      "text/plain": [
       "   Survived   Age     Fare  Age_median  Age_random\n",
       "0         0  22.0   7.2500        22.0        22.0\n",
       "1         1  38.0  71.2833        38.0        38.0\n",
       "2         1  26.0   7.9250        26.0        26.0\n",
       "3         1  35.0  53.1000        35.0        35.0\n",
       "4         0  35.0   8.0500        35.0        35.0\n",
       "5         0   NaN   8.4583        28.0        28.0\n",
       "6         0  54.0  51.8625        54.0        54.0\n",
       "7         0   2.0  21.0750         2.0         2.0\n",
       "8         1  27.0  11.1333        27.0        27.0\n",
       "9         1  14.0  30.0708        14.0        14.0"
      ]
     },
     "execution_count": 12,
     "metadata": {},
     "output_type": "execute_result"
    }
   ],
   "source": [
    "df.head(10)"
   ]
  },
  {
   "cell_type": "code",
   "execution_count": 13,
   "id": "0cbe21b0",
   "metadata": {
    "execution": {
     "iopub.execute_input": "2022-06-27T17:30:36.932792Z",
     "iopub.status.busy": "2022-06-27T17:30:36.931669Z",
     "iopub.status.idle": "2022-06-27T17:30:36.940285Z",
     "shell.execute_reply": "2022-06-27T17:30:36.938764Z"
    },
    "papermill": {
     "duration": 0.023952,
     "end_time": "2022-06-27T17:30:36.943395",
     "exception": false,
     "start_time": "2022-06-27T17:30:36.919443",
     "status": "completed"
    },
    "tags": []
   },
   "outputs": [
    {
     "name": "stdout",
     "output_type": "stream",
     "text": [
      "0       True\n",
      "1       True\n",
      "2       True\n",
      "3       True\n",
      "4       True\n",
      "       ...  \n",
      "886     True\n",
      "887     True\n",
      "888    False\n",
      "889     True\n",
      "890     True\n",
      "Length: 891, dtype: bool\n"
     ]
    }
   ],
   "source": [
    "a=print(df['Age_median']==df['Age_random'])"
   ]
  },
  {
   "cell_type": "code",
   "execution_count": 14,
   "id": "4c962f0c",
   "metadata": {
    "execution": {
     "iopub.execute_input": "2022-06-27T17:30:36.969005Z",
     "iopub.status.busy": "2022-06-27T17:30:36.967784Z",
     "iopub.status.idle": "2022-06-27T17:30:38.118760Z",
     "shell.execute_reply": "2022-06-27T17:30:38.117620Z"
    },
    "papermill": {
     "duration": 1.166604,
     "end_time": "2022-06-27T17:30:38.121366",
     "exception": false,
     "start_time": "2022-06-27T17:30:36.954762",
     "status": "completed"
    },
    "tags": []
   },
   "outputs": [],
   "source": [
    "import seaborn as sns"
   ]
  },
  {
   "cell_type": "code",
   "execution_count": 15,
   "id": "33f36872",
   "metadata": {
    "execution": {
     "iopub.execute_input": "2022-06-27T17:30:38.146138Z",
     "iopub.status.busy": "2022-06-27T17:30:38.145355Z",
     "iopub.status.idle": "2022-06-27T17:30:43.039157Z",
     "shell.execute_reply": "2022-06-27T17:30:43.037852Z"
    },
    "papermill": {
     "duration": 4.909839,
     "end_time": "2022-06-27T17:30:43.042560",
     "exception": false,
     "start_time": "2022-06-27T17:30:38.132721",
     "status": "completed"
    },
    "tags": []
   },
   "outputs": [
    {
     "data": {
      "text/plain": [
       "<seaborn.axisgrid.PairGrid at 0x7fa73e72fd90>"
      ]
     },
     "execution_count": 15,
     "metadata": {},
     "output_type": "execute_result"
    },
    {
     "data": {
      "image/png": "[encoded data removed]",
      "text/plain": [
       "<Figure size 900x900 with 30 Axes>"
      ]
     },
     "metadata": {
      "needs_background": "light"
     },
     "output_type": "display_data"
    }
   ],
   "source": [
    "sns.pairplot(df)"
   ]
  },
  {
   "cell_type": "code",
   "execution_count": 16,
   "id": "6958e2f2",
   "metadata": {
    "execution": {
     "iopub.execute_input": "2022-06-27T17:30:43.072551Z",
     "iopub.status.busy": "2022-06-27T17:30:43.071861Z",
     "iopub.status.idle": "2022-06-27T17:30:43.097834Z",
     "shell.execute_reply": "2022-06-27T17:30:43.096919Z"
    },
    "papermill": {
     "duration": 0.043409,
     "end_time": "2022-06-27T17:30:43.100359",
     "exception": false,
     "start_time": "2022-06-27T17:30:43.056950",
     "status": "completed"
    },
    "tags": []
   },
   "outputs": [
    {
     "data": {
      "text/html": [
       "<div>\n",
       "<style scoped>\n",
       "    .dataframe tbody tr th:only-of-type {\n",
       "        vertical-align: middle;\n",
       "    }\n",
       "\n",
       "    .dataframe tbody tr th {\n",
       "        vertical-align: top;\n",
       "    }\n",
       "\n",
       "    .dataframe thead th {\n",
       "        text-align: right;\n",
       "    }\n",
       "</style>\n",
       "<table border=\"1\" class=\"dataframe\">\n",
       "  <thead>\n",
       "    <tr style=\"text-align: right;\">\n",
       "      <th></th>\n",
       "      <th>Survived</th>\n",
       "      <th>Age</th>\n",
       "      <th>Fare</th>\n",
       "      <th>Age_median</th>\n",
       "      <th>Age_random</th>\n",
       "    </tr>\n",
       "  </thead>\n",
       "  <tbody>\n",
       "    <tr>\n",
       "      <th>count</th>\n",
       "      <td>891.000000</td>\n",
       "      <td>714.000000</td>\n",
       "      <td>891.000000</td>\n",
       "      <td>891.000000</td>\n",
       "      <td>891.000000</td>\n",
       "    </tr>\n",
       "    <tr>\n",
       "      <th>mean</th>\n",
       "      <td>0.383838</td>\n",
       "      <td>29.699118</td>\n",
       "      <td>32.204208</td>\n",
       "      <td>29.361582</td>\n",
       "      <td>29.700348</td>\n",
       "    </tr>\n",
       "    <tr>\n",
       "      <th>std</th>\n",
       "      <td>0.486592</td>\n",
       "      <td>14.526497</td>\n",
       "      <td>49.693429</td>\n",
       "      <td>13.019697</td>\n",
       "      <td>14.563654</td>\n",
       "    </tr>\n",
       "    <tr>\n",
       "      <th>min</th>\n",
       "      <td>0.000000</td>\n",
       "      <td>0.420000</td>\n",
       "      <td>0.000000</td>\n",
       "      <td>0.420000</td>\n",
       "      <td>0.420000</td>\n",
       "    </tr>\n",
       "    <tr>\n",
       "      <th>25%</th>\n",
       "      <td>0.000000</td>\n",
       "      <td>20.125000</td>\n",
       "      <td>7.910400</td>\n",
       "      <td>22.000000</td>\n",
       "      <td>21.000000</td>\n",
       "    </tr>\n",
       "    <tr>\n",
       "      <th>50%</th>\n",
       "      <td>0.000000</td>\n",
       "      <td>28.000000</td>\n",
       "      <td>14.454200</td>\n",
       "      <td>28.000000</td>\n",
       "      <td>28.000000</td>\n",
       "    </tr>\n",
       "    <tr>\n",
       "      <th>75%</th>\n",
       "      <td>1.000000</td>\n",
       "      <td>38.000000</td>\n",
       "      <td>31.000000</td>\n",
       "      <td>35.000000</td>\n",
       "      <td>38.000000</td>\n",
       "    </tr>\n",
       "    <tr>\n",
       "      <th>max</th>\n",
       "      <td>1.000000</td>\n",
       "      <td>80.000000</td>\n",
       "      <td>512.329200</td>\n",
       "      <td>80.000000</td>\n",
       "      <td>80.000000</td>\n",
       "    </tr>\n",
       "  </tbody>\n",
       "</table>\n",
       "</div>"
      ],
      "text/plain": [
       "         Survived         Age        Fare  Age_median  Age_random\n",
       "count  891.000000  714.000000  891.000000  891.000000  891.000000\n",
       "mean     0.383838   29.699118   32.204208   29.361582   29.700348\n",
       "std      0.486592   14.526497   49.693429   13.019697   14.563654\n",
       "min      0.000000    0.420000    0.000000    0.420000    0.420000\n",
       "25%      0.000000   20.125000    7.910400   22.000000   21.000000\n",
       "50%      0.000000   28.000000   14.454200   28.000000   28.000000\n",
       "75%      1.000000   38.000000   31.000000   35.000000   38.000000\n",
       "max      1.000000   80.000000  512.329200   80.000000   80.000000"
      ]
     },
     "execution_count": 16,
     "metadata": {},
     "output_type": "execute_result"
    }
   ],
   "source": [
    "df.describe()"
   ]
  },
  {
   "cell_type": "code",
   "execution_count": 17,
   "id": "a9f797d4",
   "metadata": {
    "execution": {
     "iopub.execute_input": "2022-06-27T17:30:43.130336Z",
     "iopub.status.busy": "2022-06-27T17:30:43.129513Z",
     "iopub.status.idle": "2022-06-27T17:30:43.133849Z",
     "shell.execute_reply": "2022-06-27T17:30:43.132998Z"
    },
    "papermill": {
     "duration": 0.021914,
     "end_time": "2022-06-27T17:30:43.136050",
     "exception": false,
     "start_time": "2022-06-27T17:30:43.114136",
     "status": "completed"
    },
    "tags": []
   },
   "outputs": [],
   "source": [
    "# so the variance of age and age_random  is similsr than that of age_median so we take random variable for the model "
   ]
  },
  {
   "cell_type": "markdown",
   "id": "9b17911e",
   "metadata": {
    "papermill": {
     "duration": 0.013305,
     "end_time": "2022-06-27T17:30:43.164840",
     "exception": false,
     "start_time": "2022-06-27T17:30:43.151535",
     "status": "completed"
    },
    "tags": []
   },
   "source": [
    "**3.capturing the nan values with a new feature or  variables**"
   ]
  },
  {
   "cell_type": "code",
   "execution_count": 18,
   "id": "c13a971d",
   "metadata": {
    "execution": {
     "iopub.execute_input": "2022-06-27T17:30:43.194229Z",
     "iopub.status.busy": "2022-06-27T17:30:43.193463Z",
     "iopub.status.idle": "2022-06-27T17:30:43.210529Z",
     "shell.execute_reply": "2022-06-27T17:30:43.209654Z"
    },
    "papermill": {
     "duration": 0.033967,
     "end_time": "2022-06-27T17:30:43.212481",
     "exception": false,
     "start_time": "2022-06-27T17:30:43.178514",
     "status": "completed"
    },
    "tags": []
   },
   "outputs": [
    {
     "data": {
      "text/html": [
       "<div>\n",
       "<style scoped>\n",
       "    .dataframe tbody tr th:only-of-type {\n",
       "        vertical-align: middle;\n",
       "    }\n",
       "\n",
       "    .dataframe tbody tr th {\n",
       "        vertical-align: top;\n",
       "    }\n",
       "\n",
       "    .dataframe thead th {\n",
       "        text-align: right;\n",
       "    }\n",
       "</style>\n",
       "<table border=\"1\" class=\"dataframe\">\n",
       "  <thead>\n",
       "    <tr style=\"text-align: right;\">\n",
       "      <th></th>\n",
       "      <th>Survived</th>\n",
       "      <th>Age</th>\n",
       "      <th>Fare</th>\n",
       "    </tr>\n",
       "  </thead>\n",
       "  <tbody>\n",
       "    <tr>\n",
       "      <th>0</th>\n",
       "      <td>0</td>\n",
       "      <td>22.0</td>\n",
       "      <td>7.2500</td>\n",
       "    </tr>\n",
       "    <tr>\n",
       "      <th>1</th>\n",
       "      <td>1</td>\n",
       "      <td>38.0</td>\n",
       "      <td>71.2833</td>\n",
       "    </tr>\n",
       "    <tr>\n",
       "      <th>2</th>\n",
       "      <td>1</td>\n",
       "      <td>26.0</td>\n",
       "      <td>7.9250</td>\n",
       "    </tr>\n",
       "    <tr>\n",
       "      <th>3</th>\n",
       "      <td>1</td>\n",
       "      <td>35.0</td>\n",
       "      <td>53.1000</td>\n",
       "    </tr>\n",
       "    <tr>\n",
       "      <th>4</th>\n",
       "      <td>0</td>\n",
       "      <td>35.0</td>\n",
       "      <td>8.0500</td>\n",
       "    </tr>\n",
       "  </tbody>\n",
       "</table>\n",
       "</div>"
      ],
      "text/plain": [
       "   Survived   Age     Fare\n",
       "0         0  22.0   7.2500\n",
       "1         1  38.0  71.2833\n",
       "2         1  26.0   7.9250\n",
       "3         1  35.0  53.1000\n",
       "4         0  35.0   8.0500"
      ]
     },
     "execution_count": 18,
     "metadata": {},
     "output_type": "execute_result"
    }
   ],
   "source": [
    "# it works well if the data are not missing completely at random\n",
    "df1=pd.read_csv('../input/titanic-machine-learning-from-disaster/train.csv',usecols=[\"Age\",\"Fare\",\"Survived\"])\n",
    "df1.head(5)"
   ]
  },
  {
   "cell_type": "code",
   "execution_count": 19,
   "id": "4a086476",
   "metadata": {
    "execution": {
     "iopub.execute_input": "2022-06-27T17:30:43.241919Z",
     "iopub.status.busy": "2022-06-27T17:30:43.241289Z",
     "iopub.status.idle": "2022-06-27T17:30:43.247301Z",
     "shell.execute_reply": "2022-06-27T17:30:43.246459Z"
    },
    "papermill": {
     "duration": 0.022969,
     "end_time": "2022-06-27T17:30:43.249282",
     "exception": false,
     "start_time": "2022-06-27T17:30:43.226313",
     "status": "completed"
    },
    "tags": []
   },
   "outputs": [],
   "source": [
    "import numpy as np\n",
    "df1[\"Age_nan\"]=np.where(df['Age'].isnull(),1,0)"
   ]
  },
  {
   "cell_type": "code",
   "execution_count": 20,
   "id": "ddc21fef",
   "metadata": {
    "execution": {
     "iopub.execute_input": "2022-06-27T17:30:43.278926Z",
     "iopub.status.busy": "2022-06-27T17:30:43.278167Z",
     "iopub.status.idle": "2022-06-27T17:30:43.292153Z",
     "shell.execute_reply": "2022-06-27T17:30:43.291116Z"
    },
    "papermill": {
     "duration": 0.031264,
     "end_time": "2022-06-27T17:30:43.294453",
     "exception": false,
     "start_time": "2022-06-27T17:30:43.263189",
     "status": "completed"
    },
    "tags": []
   },
   "outputs": [
    {
     "data": {
      "text/html": [
       "<div>\n",
       "<style scoped>\n",
       "    .dataframe tbody tr th:only-of-type {\n",
       "        vertical-align: middle;\n",
       "    }\n",
       "\n",
       "    .dataframe tbody tr th {\n",
       "        vertical-align: top;\n",
       "    }\n",
       "\n",
       "    .dataframe thead th {\n",
       "        text-align: right;\n",
       "    }\n",
       "</style>\n",
       "<table border=\"1\" class=\"dataframe\">\n",
       "  <thead>\n",
       "    <tr style=\"text-align: right;\">\n",
       "      <th></th>\n",
       "      <th>Survived</th>\n",
       "      <th>Age</th>\n",
       "      <th>Fare</th>\n",
       "      <th>Age_nan</th>\n",
       "    </tr>\n",
       "  </thead>\n",
       "  <tbody>\n",
       "    <tr>\n",
       "      <th>0</th>\n",
       "      <td>0</td>\n",
       "      <td>22.0</td>\n",
       "      <td>7.2500</td>\n",
       "      <td>0</td>\n",
       "    </tr>\n",
       "    <tr>\n",
       "      <th>1</th>\n",
       "      <td>1</td>\n",
       "      <td>38.0</td>\n",
       "      <td>71.2833</td>\n",
       "      <td>0</td>\n",
       "    </tr>\n",
       "    <tr>\n",
       "      <th>2</th>\n",
       "      <td>1</td>\n",
       "      <td>26.0</td>\n",
       "      <td>7.9250</td>\n",
       "      <td>0</td>\n",
       "    </tr>\n",
       "    <tr>\n",
       "      <th>3</th>\n",
       "      <td>1</td>\n",
       "      <td>35.0</td>\n",
       "      <td>53.1000</td>\n",
       "      <td>0</td>\n",
       "    </tr>\n",
       "    <tr>\n",
       "      <th>4</th>\n",
       "      <td>0</td>\n",
       "      <td>35.0</td>\n",
       "      <td>8.0500</td>\n",
       "      <td>0</td>\n",
       "    </tr>\n",
       "    <tr>\n",
       "      <th>5</th>\n",
       "      <td>0</td>\n",
       "      <td>NaN</td>\n",
       "      <td>8.4583</td>\n",
       "      <td>1</td>\n",
       "    </tr>\n",
       "    <tr>\n",
       "      <th>6</th>\n",
       "      <td>0</td>\n",
       "      <td>54.0</td>\n",
       "      <td>51.8625</td>\n",
       "      <td>0</td>\n",
       "    </tr>\n",
       "    <tr>\n",
       "      <th>7</th>\n",
       "      <td>0</td>\n",
       "      <td>2.0</td>\n",
       "      <td>21.0750</td>\n",
       "      <td>0</td>\n",
       "    </tr>\n",
       "    <tr>\n",
       "      <th>8</th>\n",
       "      <td>1</td>\n",
       "      <td>27.0</td>\n",
       "      <td>11.1333</td>\n",
       "      <td>0</td>\n",
       "    </tr>\n",
       "    <tr>\n",
       "      <th>9</th>\n",
       "      <td>1</td>\n",
       "      <td>14.0</td>\n",
       "      <td>30.0708</td>\n",
       "      <td>0</td>\n",
       "    </tr>\n",
       "    <tr>\n",
       "      <th>10</th>\n",
       "      <td>1</td>\n",
       "      <td>4.0</td>\n",
       "      <td>16.7000</td>\n",
       "      <td>0</td>\n",
       "    </tr>\n",
       "    <tr>\n",
       "      <th>11</th>\n",
       "      <td>1</td>\n",
       "      <td>58.0</td>\n",
       "      <td>26.5500</td>\n",
       "      <td>0</td>\n",
       "    </tr>\n",
       "    <tr>\n",
       "      <th>12</th>\n",
       "      <td>0</td>\n",
       "      <td>20.0</td>\n",
       "      <td>8.0500</td>\n",
       "      <td>0</td>\n",
       "    </tr>\n",
       "    <tr>\n",
       "      <th>13</th>\n",
       "      <td>0</td>\n",
       "      <td>39.0</td>\n",
       "      <td>31.2750</td>\n",
       "      <td>0</td>\n",
       "    </tr>\n",
       "    <tr>\n",
       "      <th>14</th>\n",
       "      <td>0</td>\n",
       "      <td>14.0</td>\n",
       "      <td>7.8542</td>\n",
       "      <td>0</td>\n",
       "    </tr>\n",
       "  </tbody>\n",
       "</table>\n",
       "</div>"
      ],
      "text/plain": [
       "    Survived   Age     Fare  Age_nan\n",
       "0          0  22.0   7.2500        0\n",
       "1          1  38.0  71.2833        0\n",
       "2          1  26.0   7.9250        0\n",
       "3          1  35.0  53.1000        0\n",
       "4          0  35.0   8.0500        0\n",
       "5          0   NaN   8.4583        1\n",
       "6          0  54.0  51.8625        0\n",
       "7          0   2.0  21.0750        0\n",
       "8          1  27.0  11.1333        0\n",
       "9          1  14.0  30.0708        0\n",
       "10         1   4.0  16.7000        0\n",
       "11         1  58.0  26.5500        0\n",
       "12         0  20.0   8.0500        0\n",
       "13         0  39.0  31.2750        0\n",
       "14         0  14.0   7.8542        0"
      ]
     },
     "execution_count": 20,
     "metadata": {},
     "output_type": "execute_result"
    }
   ],
   "source": [
    "df1.head(15)"
   ]
  },
  {
   "cell_type": "code",
   "execution_count": 21,
   "id": "1fe8bb3a",
   "metadata": {
    "execution": {
     "iopub.execute_input": "2022-06-27T17:30:43.324906Z",
     "iopub.status.busy": "2022-06-27T17:30:43.324155Z",
     "iopub.status.idle": "2022-06-27T17:30:43.330896Z",
     "shell.execute_reply": "2022-06-27T17:30:43.329866Z"
    },
    "papermill": {
     "duration": 0.024358,
     "end_time": "2022-06-27T17:30:43.333041",
     "exception": false,
     "start_time": "2022-06-27T17:30:43.308683",
     "status": "completed"
    },
    "tags": []
   },
   "outputs": [
    {
     "data": {
      "text/plain": [
       "28.0"
      ]
     },
     "execution_count": 21,
     "metadata": {},
     "output_type": "execute_result"
    }
   ],
   "source": [
    "a=df1['Age'].median()\n",
    "a"
   ]
  },
  {
   "cell_type": "code",
   "execution_count": 22,
   "id": "57318ddf",
   "metadata": {
    "execution": {
     "iopub.execute_input": "2022-06-27T17:30:43.363662Z",
     "iopub.status.busy": "2022-06-27T17:30:43.363246Z",
     "iopub.status.idle": "2022-06-27T17:30:43.368433Z",
     "shell.execute_reply": "2022-06-27T17:30:43.367591Z"
    },
    "papermill": {
     "duration": 0.022902,
     "end_time": "2022-06-27T17:30:43.370506",
     "exception": false,
     "start_time": "2022-06-27T17:30:43.347604",
     "status": "completed"
    },
    "tags": []
   },
   "outputs": [],
   "source": [
    "# advantages\n",
    "# 1.easy to impliment\n",
    "# 2.captures the importance of missing values\n",
    "# disadvantages\n",
    "# 1.creating additional values (curse of dimensoinality)\n",
    "df1.fillna(a,inplace=True)"
   ]
  },
  {
   "cell_type": "code",
   "execution_count": 23,
   "id": "bae084f6",
   "metadata": {
    "execution": {
     "iopub.execute_input": "2022-06-27T17:30:43.402190Z",
     "iopub.status.busy": "2022-06-27T17:30:43.401424Z",
     "iopub.status.idle": "2022-06-27T17:30:43.412621Z",
     "shell.execute_reply": "2022-06-27T17:30:43.411783Z"
    },
    "papermill": {
     "duration": 0.029956,
     "end_time": "2022-06-27T17:30:43.415111",
     "exception": false,
     "start_time": "2022-06-27T17:30:43.385155",
     "status": "completed"
    },
    "tags": []
   },
   "outputs": [
    {
     "data": {
      "text/html": [
       "<div>\n",
       "<style scoped>\n",
       "    .dataframe tbody tr th:only-of-type {\n",
       "        vertical-align: middle;\n",
       "    }\n",
       "\n",
       "    .dataframe tbody tr th {\n",
       "        vertical-align: top;\n",
       "    }\n",
       "\n",
       "    .dataframe thead th {\n",
       "        text-align: right;\n",
       "    }\n",
       "</style>\n",
       "<table border=\"1\" class=\"dataframe\">\n",
       "  <thead>\n",
       "    <tr style=\"text-align: right;\">\n",
       "      <th></th>\n",
       "      <th>Survived</th>\n",
       "      <th>Age</th>\n",
       "      <th>Fare</th>\n",
       "      <th>Age_nan</th>\n",
       "    </tr>\n",
       "  </thead>\n",
       "  <tbody>\n",
       "    <tr>\n",
       "      <th>0</th>\n",
       "      <td>0</td>\n",
       "      <td>22.0</td>\n",
       "      <td>7.2500</td>\n",
       "      <td>0</td>\n",
       "    </tr>\n",
       "    <tr>\n",
       "      <th>1</th>\n",
       "      <td>1</td>\n",
       "      <td>38.0</td>\n",
       "      <td>71.2833</td>\n",
       "      <td>0</td>\n",
       "    </tr>\n",
       "    <tr>\n",
       "      <th>2</th>\n",
       "      <td>1</td>\n",
       "      <td>26.0</td>\n",
       "      <td>7.9250</td>\n",
       "      <td>0</td>\n",
       "    </tr>\n",
       "    <tr>\n",
       "      <th>3</th>\n",
       "      <td>1</td>\n",
       "      <td>35.0</td>\n",
       "      <td>53.1000</td>\n",
       "      <td>0</td>\n",
       "    </tr>\n",
       "    <tr>\n",
       "      <th>4</th>\n",
       "      <td>0</td>\n",
       "      <td>35.0</td>\n",
       "      <td>8.0500</td>\n",
       "      <td>0</td>\n",
       "    </tr>\n",
       "  </tbody>\n",
       "</table>\n",
       "</div>"
      ],
      "text/plain": [
       "   Survived   Age     Fare  Age_nan\n",
       "0         0  22.0   7.2500        0\n",
       "1         1  38.0  71.2833        0\n",
       "2         1  26.0   7.9250        0\n",
       "3         1  35.0  53.1000        0\n",
       "4         0  35.0   8.0500        0"
      ]
     },
     "execution_count": 23,
     "metadata": {},
     "output_type": "execute_result"
    }
   ],
   "source": [
    "df1.head(5)"
   ]
  },
  {
   "cell_type": "markdown",
   "id": "7c25af33",
   "metadata": {
    "papermill": {
     "duration": 0.014195,
     "end_time": "2022-06-27T17:30:43.444633",
     "exception": false,
     "start_time": "2022-06-27T17:30:43.430438",
     "status": "completed"
    },
    "tags": []
   },
   "source": [
    "**4.END OF DISTRIBUTION IMPUTATION**"
   ]
  },
  {
   "cell_type": "markdown",
   "id": "be63d8fb",
   "metadata": {
    "papermill": {
     "duration": 0.01413,
     "end_time": "2022-06-27T17:30:43.473271",
     "exception": false,
     "start_time": "2022-06-27T17:30:43.459141",
     "status": "completed"
    },
    "tags": []
   },
   "source": [
    "1. "
   ]
  },
  {
   "cell_type": "code",
   "execution_count": 24,
   "id": "4db20110",
   "metadata": {
    "execution": {
     "iopub.execute_input": "2022-06-27T17:30:43.505189Z",
     "iopub.status.busy": "2022-06-27T17:30:43.504745Z",
     "iopub.status.idle": "2022-06-27T17:30:43.520037Z",
     "shell.execute_reply": "2022-06-27T17:30:43.518902Z"
    },
    "papermill": {
     "duration": 0.034198,
     "end_time": "2022-06-27T17:30:43.522238",
     "exception": false,
     "start_time": "2022-06-27T17:30:43.488040",
     "status": "completed"
    },
    "tags": []
   },
   "outputs": [
    {
     "data": {
      "text/html": [
       "<div>\n",
       "<style scoped>\n",
       "    .dataframe tbody tr th:only-of-type {\n",
       "        vertical-align: middle;\n",
       "    }\n",
       "\n",
       "    .dataframe tbody tr th {\n",
       "        vertical-align: top;\n",
       "    }\n",
       "\n",
       "    .dataframe thead th {\n",
       "        text-align: right;\n",
       "    }\n",
       "</style>\n",
       "<table border=\"1\" class=\"dataframe\">\n",
       "  <thead>\n",
       "    <tr style=\"text-align: right;\">\n",
       "      <th></th>\n",
       "      <th>Survived</th>\n",
       "      <th>Age</th>\n",
       "      <th>Fare</th>\n",
       "    </tr>\n",
       "  </thead>\n",
       "  <tbody>\n",
       "    <tr>\n",
       "      <th>0</th>\n",
       "      <td>0</td>\n",
       "      <td>22.0</td>\n",
       "      <td>7.2500</td>\n",
       "    </tr>\n",
       "    <tr>\n",
       "      <th>1</th>\n",
       "      <td>1</td>\n",
       "      <td>38.0</td>\n",
       "      <td>71.2833</td>\n",
       "    </tr>\n",
       "    <tr>\n",
       "      <th>2</th>\n",
       "      <td>1</td>\n",
       "      <td>26.0</td>\n",
       "      <td>7.9250</td>\n",
       "    </tr>\n",
       "    <tr>\n",
       "      <th>3</th>\n",
       "      <td>1</td>\n",
       "      <td>35.0</td>\n",
       "      <td>53.1000</td>\n",
       "    </tr>\n",
       "    <tr>\n",
       "      <th>4</th>\n",
       "      <td>0</td>\n",
       "      <td>35.0</td>\n",
       "      <td>8.0500</td>\n",
       "    </tr>\n",
       "  </tbody>\n",
       "</table>\n",
       "</div>"
      ],
      "text/plain": [
       "   Survived   Age     Fare\n",
       "0         0  22.0   7.2500\n",
       "1         1  38.0  71.2833\n",
       "2         1  26.0   7.9250\n",
       "3         1  35.0  53.1000\n",
       "4         0  35.0   8.0500"
      ]
     },
     "execution_count": 24,
     "metadata": {},
     "output_type": "execute_result"
    }
   ],
   "source": [
    "df2=pd.read_csv('../input/titanic-machine-learning-from-disaster/train.csv',usecols=[\"Age\",\"Fare\",\"Survived\"])\n",
    "df2.head(5)"
   ]
  },
  {
   "cell_type": "code",
   "execution_count": 25,
   "id": "79cdca30",
   "metadata": {
    "execution": {
     "iopub.execute_input": "2022-06-27T17:30:43.553694Z",
     "iopub.status.busy": "2022-06-27T17:30:43.552953Z",
     "iopub.status.idle": "2022-06-27T17:30:43.846135Z",
     "shell.execute_reply": "2022-06-27T17:30:43.844991Z"
    },
    "papermill": {
     "duration": 0.311652,
     "end_time": "2022-06-27T17:30:43.848607",
     "exception": false,
     "start_time": "2022-06-27T17:30:43.536955",
     "status": "completed"
    },
    "tags": []
   },
   "outputs": [
    {
     "data": {
      "text/plain": [
       "<AxesSubplot:>"
      ]
     },
     "execution_count": 25,
     "metadata": {},
     "output_type": "execute_result"
    },
    {
     "data": {
      "image/png": "[encoded data removed]",
      "text/plain": [
       "<Figure size 432x288 with 1 Axes>"
      ]
     },
     "metadata": {
      "needs_background": "light"
     },
     "output_type": "display_data"
    }
   ],
   "source": [
    "df2.Age.hist(bins=50)"
   ]
  },
  {
   "cell_type": "code",
   "execution_count": 26,
   "id": "ff4a039e",
   "metadata": {
    "execution": {
     "iopub.execute_input": "2022-06-27T17:30:43.881770Z",
     "iopub.status.busy": "2022-06-27T17:30:43.881334Z",
     "iopub.status.idle": "2022-06-27T17:30:43.890359Z",
     "shell.execute_reply": "2022-06-27T17:30:43.889476Z"
    },
    "papermill": {
     "duration": 0.028545,
     "end_time": "2022-06-27T17:30:43.892646",
     "exception": false,
     "start_time": "2022-06-27T17:30:43.864101",
     "status": "completed"
    },
    "tags": []
   },
   "outputs": [
    {
     "data": {
      "text/plain": [
       "73.27860964406094"
      ]
     },
     "execution_count": 26,
     "metadata": {},
     "output_type": "execute_result"
    }
   ],
   "source": [
    "# +3 standard deviation\n",
    "extreme=df2.Age.mean()+3*df.Age.std()\n",
    "extreme"
   ]
  },
  {
   "cell_type": "code",
   "execution_count": 27,
   "id": "e9057b46",
   "metadata": {
    "execution": {
     "iopub.execute_input": "2022-06-27T17:30:43.925997Z",
     "iopub.status.busy": "2022-06-27T17:30:43.925644Z",
     "iopub.status.idle": "2022-06-27T17:30:44.094362Z",
     "shell.execute_reply": "2022-06-27T17:30:44.093176Z"
    },
    "papermill": {
     "duration": 0.187784,
     "end_time": "2022-06-27T17:30:44.097237",
     "exception": false,
     "start_time": "2022-06-27T17:30:43.909453",
     "status": "completed"
    },
    "tags": []
   },
   "outputs": [
    {
     "name": "stderr",
     "output_type": "stream",
     "text": [
      "/opt/conda/lib/python3.7/site-packages/seaborn/_decorators.py:43: FutureWarning: Pass the following variable as a keyword arg: x. From version 0.12, the only valid positional argument will be `data`, and passing other arguments without an explicit keyword will result in an error or misinterpretation.\n",
      "  FutureWarning\n"
     ]
    },
    {
     "data": {
      "text/plain": [
       "<AxesSubplot:xlabel='Age'>"
      ]
     },
     "execution_count": 27,
     "metadata": {},
     "output_type": "execute_result"
    },
    {
     "data": {
      "image/png": "[encoded data removed]",
      "text/plain": [
       "<Figure size 432x288 with 1 Axes>"
      ]
     },
     "metadata": {
      "needs_background": "light"
     },
     "output_type": "display_data"
    }
   ],
   "source": [
    "# to see the outliers \n",
    "sns.boxplot('Age',data=df2)"
   ]
  },
  {
   "cell_type": "code",
   "execution_count": 28,
   "id": "62a5b59f",
   "metadata": {
    "execution": {
     "iopub.execute_input": "2022-06-27T17:30:44.130721Z",
     "iopub.status.busy": "2022-06-27T17:30:44.130286Z",
     "iopub.status.idle": "2022-06-27T17:30:44.136109Z",
     "shell.execute_reply": "2022-06-27T17:30:44.134967Z"
    },
    "papermill": {
     "duration": 0.025542,
     "end_time": "2022-06-27T17:30:44.138711",
     "exception": false,
     "start_time": "2022-06-27T17:30:44.113169",
     "status": "completed"
    },
    "tags": []
   },
   "outputs": [],
   "source": [
    "def impute_nan(df2,variable,median,extreme):\n",
    "    df2[variable+'_end_distribution']=df[variable].fillna(extreme)\n",
    "    df2[variable].fillna(median,inplace=True)"
   ]
  },
  {
   "cell_type": "code",
   "execution_count": 29,
   "id": "94c2afa4",
   "metadata": {
    "execution": {
     "iopub.execute_input": "2022-06-27T17:30:44.173266Z",
     "iopub.status.busy": "2022-06-27T17:30:44.172561Z",
     "iopub.status.idle": "2022-06-27T17:30:44.180228Z",
     "shell.execute_reply": "2022-06-27T17:30:44.179397Z"
    },
    "papermill": {
     "duration": 0.027381,
     "end_time": "2022-06-27T17:30:44.182167",
     "exception": false,
     "start_time": "2022-06-27T17:30:44.154786",
     "status": "completed"
    },
    "tags": []
   },
   "outputs": [
    {
     "data": {
      "text/plain": [
       "28.0"
      ]
     },
     "execution_count": 29,
     "metadata": {},
     "output_type": "execute_result"
    }
   ],
   "source": [
    "median=df2[\"Age\"].median()\n",
    "median"
   ]
  },
  {
   "cell_type": "code",
   "execution_count": 30,
   "id": "e210dc2f",
   "metadata": {
    "execution": {
     "iopub.execute_input": "2022-06-27T17:30:44.215327Z",
     "iopub.status.busy": "2022-06-27T17:30:44.214499Z",
     "iopub.status.idle": "2022-06-27T17:30:44.220335Z",
     "shell.execute_reply": "2022-06-27T17:30:44.219500Z"
    },
    "papermill": {
     "duration": 0.024798,
     "end_time": "2022-06-27T17:30:44.222472",
     "exception": false,
     "start_time": "2022-06-27T17:30:44.197674",
     "status": "completed"
    },
    "tags": []
   },
   "outputs": [],
   "source": [
    "impute_nan(df2,'Age',median,extreme)"
   ]
  },
  {
   "cell_type": "code",
   "execution_count": 31,
   "id": "2b11425d",
   "metadata": {
    "execution": {
     "iopub.execute_input": "2022-06-27T17:30:44.255530Z",
     "iopub.status.busy": "2022-06-27T17:30:44.254789Z",
     "iopub.status.idle": "2022-06-27T17:30:44.267781Z",
     "shell.execute_reply": "2022-06-27T17:30:44.266914Z"
    },
    "papermill": {
     "duration": 0.031824,
     "end_time": "2022-06-27T17:30:44.269890",
     "exception": false,
     "start_time": "2022-06-27T17:30:44.238066",
     "status": "completed"
    },
    "tags": []
   },
   "outputs": [
    {
     "data": {
      "text/html": [
       "<div>\n",
       "<style scoped>\n",
       "    .dataframe tbody tr th:only-of-type {\n",
       "        vertical-align: middle;\n",
       "    }\n",
       "\n",
       "    .dataframe tbody tr th {\n",
       "        vertical-align: top;\n",
       "    }\n",
       "\n",
       "    .dataframe thead th {\n",
       "        text-align: right;\n",
       "    }\n",
       "</style>\n",
       "<table border=\"1\" class=\"dataframe\">\n",
       "  <thead>\n",
       "    <tr style=\"text-align: right;\">\n",
       "      <th></th>\n",
       "      <th>Survived</th>\n",
       "      <th>Age</th>\n",
       "      <th>Fare</th>\n",
       "      <th>Age_end_distribution</th>\n",
       "    </tr>\n",
       "  </thead>\n",
       "  <tbody>\n",
       "    <tr>\n",
       "      <th>0</th>\n",
       "      <td>0</td>\n",
       "      <td>22.0</td>\n",
       "      <td>7.2500</td>\n",
       "      <td>22.00000</td>\n",
       "    </tr>\n",
       "    <tr>\n",
       "      <th>1</th>\n",
       "      <td>1</td>\n",
       "      <td>38.0</td>\n",
       "      <td>71.2833</td>\n",
       "      <td>38.00000</td>\n",
       "    </tr>\n",
       "    <tr>\n",
       "      <th>2</th>\n",
       "      <td>1</td>\n",
       "      <td>26.0</td>\n",
       "      <td>7.9250</td>\n",
       "      <td>26.00000</td>\n",
       "    </tr>\n",
       "    <tr>\n",
       "      <th>3</th>\n",
       "      <td>1</td>\n",
       "      <td>35.0</td>\n",
       "      <td>53.1000</td>\n",
       "      <td>35.00000</td>\n",
       "    </tr>\n",
       "    <tr>\n",
       "      <th>4</th>\n",
       "      <td>0</td>\n",
       "      <td>35.0</td>\n",
       "      <td>8.0500</td>\n",
       "      <td>35.00000</td>\n",
       "    </tr>\n",
       "    <tr>\n",
       "      <th>5</th>\n",
       "      <td>0</td>\n",
       "      <td>28.0</td>\n",
       "      <td>8.4583</td>\n",
       "      <td>73.27861</td>\n",
       "    </tr>\n",
       "    <tr>\n",
       "      <th>6</th>\n",
       "      <td>0</td>\n",
       "      <td>54.0</td>\n",
       "      <td>51.8625</td>\n",
       "      <td>54.00000</td>\n",
       "    </tr>\n",
       "    <tr>\n",
       "      <th>7</th>\n",
       "      <td>0</td>\n",
       "      <td>2.0</td>\n",
       "      <td>21.0750</td>\n",
       "      <td>2.00000</td>\n",
       "    </tr>\n",
       "    <tr>\n",
       "      <th>8</th>\n",
       "      <td>1</td>\n",
       "      <td>27.0</td>\n",
       "      <td>11.1333</td>\n",
       "      <td>27.00000</td>\n",
       "    </tr>\n",
       "    <tr>\n",
       "      <th>9</th>\n",
       "      <td>1</td>\n",
       "      <td>14.0</td>\n",
       "      <td>30.0708</td>\n",
       "      <td>14.00000</td>\n",
       "    </tr>\n",
       "  </tbody>\n",
       "</table>\n",
       "</div>"
      ],
      "text/plain": [
       "   Survived   Age     Fare  Age_end_distribution\n",
       "0         0  22.0   7.2500              22.00000\n",
       "1         1  38.0  71.2833              38.00000\n",
       "2         1  26.0   7.9250              26.00000\n",
       "3         1  35.0  53.1000              35.00000\n",
       "4         0  35.0   8.0500              35.00000\n",
       "5         0  28.0   8.4583              73.27861\n",
       "6         0  54.0  51.8625              54.00000\n",
       "7         0   2.0  21.0750               2.00000\n",
       "8         1  27.0  11.1333              27.00000\n",
       "9         1  14.0  30.0708              14.00000"
      ]
     },
     "execution_count": 31,
     "metadata": {},
     "output_type": "execute_result"
    }
   ],
   "source": [
    "df2.head(10)"
   ]
  },
  {
   "cell_type": "code",
   "execution_count": 32,
   "id": "e381173d",
   "metadata": {
    "execution": {
     "iopub.execute_input": "2022-06-27T17:30:44.304094Z",
     "iopub.status.busy": "2022-06-27T17:30:44.303148Z",
     "iopub.status.idle": "2022-06-27T17:30:44.586584Z",
     "shell.execute_reply": "2022-06-27T17:30:44.585331Z"
    },
    "papermill": {
     "duration": 0.302959,
     "end_time": "2022-06-27T17:30:44.589163",
     "exception": false,
     "start_time": "2022-06-27T17:30:44.286204",
     "status": "completed"
    },
    "tags": []
   },
   "outputs": [
    {
     "data": {
      "text/plain": [
       "<AxesSubplot:>"
      ]
     },
     "execution_count": 32,
     "metadata": {},
     "output_type": "execute_result"
    },
    {
     "data": {
      "image/png": "[encoded data removed]",
      "text/plain": [
       "<Figure size 432x288 with 1 Axes>"
      ]
     },
     "metadata": {
      "needs_background": "light"
     },
     "output_type": "display_data"
    }
   ],
   "source": [
    "df2['Age'].hist(bins=50)\n",
    "# huge distortion in the data "
   ]
  },
  {
   "cell_type": "code",
   "execution_count": 33,
   "id": "84675627",
   "metadata": {
    "execution": {
     "iopub.execute_input": "2022-06-27T17:30:44.625056Z",
     "iopub.status.busy": "2022-06-27T17:30:44.624680Z",
     "iopub.status.idle": "2022-06-27T17:30:44.912718Z",
     "shell.execute_reply": "2022-06-27T17:30:44.911638Z"
    },
    "papermill": {
     "duration": 0.308135,
     "end_time": "2022-06-27T17:30:44.915092",
     "exception": false,
     "start_time": "2022-06-27T17:30:44.606957",
     "status": "completed"
    },
    "tags": []
   },
   "outputs": [
    {
     "data": {
      "text/plain": [
       "<AxesSubplot:>"
      ]
     },
     "execution_count": 33,
     "metadata": {},
     "output_type": "execute_result"
    },
    {
     "data": {
      "image/png": "[encoded data removed]",
      "text/plain": [
       "<Figure size 432x288 with 1 Axes>"
      ]
     },
     "metadata": {
      "needs_background": "light"
     },
     "output_type": "display_data"
    }
   ],
   "source": [
    "df2['Age_end_distribution'].hist(bins=50)"
   ]
  },
  {
   "cell_type": "code",
   "execution_count": 34,
   "id": "1f60adfb",
   "metadata": {
    "execution": {
     "iopub.execute_input": "2022-06-27T17:30:44.950492Z",
     "iopub.status.busy": "2022-06-27T17:30:44.950124Z",
     "iopub.status.idle": "2022-06-27T17:30:45.127722Z",
     "shell.execute_reply": "2022-06-27T17:30:45.126363Z"
    },
    "papermill": {
     "duration": 0.198142,
     "end_time": "2022-06-27T17:30:45.130264",
     "exception": false,
     "start_time": "2022-06-27T17:30:44.932122",
     "status": "completed"
    },
    "tags": []
   },
   "outputs": [
    {
     "name": "stderr",
     "output_type": "stream",
     "text": [
      "/opt/conda/lib/python3.7/site-packages/seaborn/_decorators.py:43: FutureWarning: Pass the following variable as a keyword arg: x. From version 0.12, the only valid positional argument will be `data`, and passing other arguments without an explicit keyword will result in an error or misinterpretation.\n",
      "  FutureWarning\n"
     ]
    },
    {
     "data": {
      "text/plain": [
       "<AxesSubplot:xlabel='Age_end_distribution'>"
      ]
     },
     "execution_count": 34,
     "metadata": {},
     "output_type": "execute_result"
    },
    {
     "data": {
      "image/png": "[encoded data removed]",
      "text/plain": [
       "<Figure size 432x288 with 1 Axes>"
      ]
     },
     "metadata": {
      "needs_background": "light"
     },
     "output_type": "display_data"
    }
   ],
   "source": [
    "sns.boxplot('Age_end_distribution',data=df2)"
   ]
  }
 ],
 "metadata": {
  "kernelspec": {
   "display_name": "Python 3",
   "language": "python",
   "name": "python3"
  },
  "language_info": {
   "codemirror_mode": {
    "name": "ipython",
    "version": 3
   },
   "file_extension": ".py",
   "mimetype": "text/x-python",
   "name": "python",
   "nbconvert_exporter": "python",
   "pygments_lexer": "ipython3",
   "version": "3.7.12"
  },
  "papermill": {
   "default_parameters": {},
   "duration": 19.877535,
   "end_time": "2022-06-27T17:30:46.070899",
   "environment_variables": {},
   "exception": null,
   "input_path": "__notebook__.ipynb",
   "output_path": "__notebook__.ipynb",
   "parameters": {},
   "start_time": "2022-06-27T17:30:26.193364",
   "version": "2.3.4"
  }
 },
 "nbformat": 4,
 "nbformat_minor": 5
}
